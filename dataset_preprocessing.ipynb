{
 "cells": [
  {
   "cell_type": "markdown",
   "metadata": {},
   "source": [
    "# Обработка текстов на естественном языке: задача классификации"
   ]
  },
  {
   "cell_type": "markdown",
   "metadata": {},
   "source": [
    "## Подготовка данных для использования в обучении модели"
   ]
  },
  {
   "cell_type": "markdown",
   "metadata": {},
   "source": [
    "### Импорт пакетов и загрузка данных"
   ]
  },
  {
   "cell_type": "code",
   "execution_count": 1,
   "metadata": {},
   "outputs": [],
   "source": [
    "import string\n",
    "import time\n",
    "\n",
    "import numpy as np\n",
    "import pandas as pd\n",
    "from collections import Counter\n",
    "\n",
    "import seaborn as sns\n",
    "import matplotlib.pyplot as plt\n",
    "\n",
    "import nltk\n",
    "from nltk.stem.porter import PorterStemmer"
   ]
  },
  {
   "cell_type": "code",
   "execution_count": 2,
   "metadata": {},
   "outputs": [
    {
     "name": "stdout",
     "output_type": "stream",
     "text": [
      "                                                text       author\n",
      "0  Вы не знаете, как вы для меня важны и как вы м...      Толстой\n",
      "1  14)..    Однако эта часть мемуаров не была про...      Толстой\n",
      "2  Он прибежал из леса к опушке и, бледный, с рас...        Чехов\n",
      "3  — сказала мать, притворно сердито отталкивая д...      Толстой\n",
      "4  Вечер проектировался, однако же, запросто; ожи...  Достоевский\n"
     ]
    }
   ],
   "source": [
    "data = pd.read_csv('./author_data.csv', encoding='utf8')\n",
    "print(data.head())"
   ]
  },
  {
   "cell_type": "code",
   "execution_count": 3,
   "metadata": {},
   "outputs": [
    {
     "name": "stdout",
     "output_type": "stream",
     "text": [
      "Датасет содержит 54000 записей.\n"
     ]
    }
   ],
   "source": [
    "text = list(data['text'].values)\n",
    "author = list(data['author'].values)\n",
    "\n",
    "print('Датасет содержит {} записей.'.format(len(text)))"
   ]
  },
  {
   "cell_type": "markdown",
   "metadata": {},
   "source": [
    "### Исследование данных"
   ]
  },
  {
   "cell_type": "markdown",
   "metadata": {},
   "source": [
    "#### Количество записей для каждого автора:"
   ]
  },
  {
   "cell_type": "code",
   "execution_count": 4,
   "metadata": {},
   "outputs": [
    {
     "data": {
      "text/plain": [
       "Counter({'Толстой': 18000, 'Чехов': 18000, 'Достоевский': 18000})"
      ]
     },
     "execution_count": 4,
     "metadata": {},
     "output_type": "execute_result"
    }
   ],
   "source": [
    "authors = Counter(author)\n",
    "authors"
   ]
  },
  {
   "cell_type": "code",
   "execution_count": 5,
   "metadata": {},
   "outputs": [
    {
     "data": {
      "text/plain": [
       "['Толстой', 'Чехов', 'Достоевский']"
      ]
     },
     "execution_count": 5,
     "metadata": {},
     "output_type": "execute_result"
    }
   ],
   "source": [
    "author_names = list(authors.keys())\n",
    "author_names"
   ]
  },
  {
   "cell_type": "markdown",
   "metadata": {},
   "source": [
    "Посмотрим на некоторые примеры предложений:"
   ]
  },
  {
   "cell_type": "code",
   "execution_count": 6,
   "metadata": {},
   "outputs": [
    {
     "name": "stdout",
     "output_type": "stream",
     "text": [
      "Ты никогда и понять не мог, как бы ты в ее глазах интересен стал, если бы с твердостью и гордостью умел переносить нашу обстановку.\n",
      "С Софочкой посидит Протопопов, Михаил Иваныч, а Бобика пусть покатает Андрей Сергеич.\n",
      "Извини, я тоже не понимаю….\n",
      "Раз в два-три месяца она уезжала из С. и говорила мужу, что едет посоветоваться с профессором насчет своей женской болезни, – и муж верил и не верил.\n",
      "И появились у меня слезы на глазах, и я был доволен, что он это приметил.\n"
     ]
    }
   ],
   "source": [
    "np.random.seed(73)\n",
    "n = len(text)\n",
    "\n",
    "for _ in range(5):\n",
    "    print(text[np.random.randint(0, n)])"
   ]
  },
  {
   "cell_type": "markdown",
   "metadata": {},
   "source": [
    "#### Расчёт статистики по словам:"
   ]
  },
  {
   "cell_type": "code",
   "execution_count": 7,
   "metadata": {},
   "outputs": [],
   "source": [
    "word_count = np.array([len(sent.split()) for sent in text])\n",
    "char_count = np.array([len(sent) for sent in text])\n",
    "ave_length = char_count / word_count"
   ]
  },
  {
   "cell_type": "code",
   "execution_count": 8,
   "metadata": {},
   "outputs": [],
   "source": [
    "def get_stats(var):    \n",
    "    print('\\tМин: ', np.min(var))\n",
    "    print('\\tМакс: ', np.max(var))\n",
    "    print('\\tСреднее: ', np.mean(var))\n",
    "    print('\\tМедианное: ', np.median(var))\n",
    "    print('\\tПерцентиль 1%: ', np.percentile(var, 1))\n",
    "    print('\\tПерцентиль 95%: ', np.percentile(var, 95))\n",
    "    print('\\tПерцентиль 99%: ', np.percentile(var, 99))\n",
    "    print('\\tПерцентиль 99.5%: ', np.percentile(var, 99.5))\n",
    "    print('\\tПерцентиль 99.9%: ', np.percentile(var, 99.9))"
   ]
  },
  {
   "cell_type": "code",
   "execution_count": 9,
   "metadata": {},
   "outputs": [
    {
     "name": "stdout",
     "output_type": "stream",
     "text": [
      "Статистика количества слов:\n",
      "\tМин:  1\n",
      "\tМакс:  323\n",
      "\tСреднее:  16.358851851851853\n",
      "\tМедианное:  11.0\n",
      "\tПерцентиль 1%:  1.0\n",
      "\tПерцентиль 95%:  49.0\n",
      "\tПерцентиль 99%:  82.0\n",
      "\tПерцентиль 99.5%:  96.0\n",
      "\tПерцентиль 99.9%:  136.00100000000384\n"
     ]
    }
   ],
   "source": [
    "print('Статистика количества слов:')\n",
    "get_stats(word_count)"
   ]
  },
  {
   "cell_type": "markdown",
   "metadata": {},
   "source": [
    "**Покажем на графике**"
   ]
  },
  {
   "cell_type": "code",
   "execution_count": 10,
   "metadata": {},
   "outputs": [
    {
     "data": {
      "image/png": "[encoded data removed]",
      "text/plain": [
       "<Figure size 432x288 with 1 Axes>"
      ]
     },
     "metadata": {
      "needs_background": "light"
     },
     "output_type": "display_data"
    }
   ],
   "source": [
    "sns.distplot(word_count, kde=True, bins=80, color='green').set_title('Распределение количества слов')\n",
    "plt.xlabel('Длина предложения в словах')\n",
    "plt.ylabel('Количество предложений')\n",
    "plt.xlim(0, 100)\n",
    "plt.savefig('word_count.png')"
   ]
  },
  {
   "cell_type": "code",
   "execution_count": 11,
   "metadata": {},
   "outputs": [
    {
     "name": "stdout",
     "output_type": "stream",
     "text": [
      "Статистика по количеству символов:\n",
      "\tМин:  5\n",
      "\tМакс:  2042\n",
      "\tСреднее:  101.24883333333334\n",
      "\tМедианное:  67.0\n",
      "\tПерцентиль 1%:  6.0\n",
      "\tПерцентиль 95%:  309.0\n",
      "\tПерцентиль 99%:  523.0\n",
      "\tПерцентиль 99.5%:  618.0\n",
      "\tПерцентиль 99.9%:  893.0020000000077\n"
     ]
    }
   ],
   "source": [
    "print('Статистика по количеству символов:')\n",
    "get_stats(char_count)"
   ]
  },
  {
   "cell_type": "markdown",
   "metadata": {},
   "source": [
    "**Покажем на графике**"
   ]
  },
  {
   "cell_type": "code",
   "execution_count": 12,
   "metadata": {},
   "outputs": [
    {
     "data": {
      "image/png": "[encoded data removed]",
      "text/plain": [
       "<Figure size 432x288 with 1 Axes>"
      ]
     },
     "metadata": {
      "needs_background": "light"
     },
     "output_type": "display_data"
    }
   ],
   "source": [
    "sns.distplot(char_count, kde=True, bins=80, color='green').set_title('Распределение количества символов')\n",
    "plt.xlabel('Длина предложения в символах')\n",
    "plt.ylabel('Количество предложений')\n",
    "plt.xlim(0, 400)\n",
    "plt.savefig('char_count.png')"
   ]
  },
  {
   "cell_type": "code",
   "execution_count": 13,
   "metadata": {},
   "outputs": [
    {
     "name": "stdout",
     "output_type": "stream",
     "text": [
      "Статистика по средней длине:\n",
      "\tМин:  2.3333333333333335\n",
      "\tМакс:  18.0\n",
      "\tСреднее:  6.112017234243191\n",
      "\tМедианное:  6.022222222222222\n",
      "\tПерцентиль 1%:  3.0\n",
      "\tПерцентиль 95%:  8.125\n",
      "\tПерцентиль 99%:  10.0\n",
      "\tПерцентиль 99.5%:  11.0\n",
      "\tПерцентиль 99.9%:  13.0\n"
     ]
    }
   ],
   "source": [
    "print('Статистика по средней длине:')\n",
    "get_stats(ave_length)"
   ]
  },
  {
   "cell_type": "markdown",
   "metadata": {},
   "source": [
    "**Покажем на графике**"
   ]
  },
  {
   "cell_type": "code",
   "execution_count": 14,
   "metadata": {},
   "outputs": [
    {
     "data": {
      "image/png": "[encoded data removed]",
      "text/plain": [
       "<Figure size 432x288 with 1 Axes>"
      ]
     },
     "metadata": {
      "needs_background": "light"
     },
     "output_type": "display_data"
    }
   ],
   "source": [
    "sns.distplot(ave_length, kde=True, bins=80, color='green').set_title('Распределение средней длины слов')\n",
    "plt.xlabel('Средняя длина слова в символах')\n",
    "plt.ylabel('Количество предложений')\n",
    "plt.xlim(0, 10)\n",
    "plt.savefig('ave_length.png')"
   ]
  },
  {
   "cell_type": "markdown",
   "metadata": {},
   "source": [
    "#### Исследование выбросов в данных"
   ]
  },
  {
   "cell_type": "markdown",
   "metadata": {},
   "source": [
    "Посмотрим на необычно длинные предложения:"
   ]
  },
  {
   "cell_type": "code",
   "execution_count": 15,
   "metadata": {},
   "outputs": [
    {
     "name": "stdout",
     "output_type": "stream",
     "text": [
      "Автор: Толстой, Длина: 163\n",
      "И вот тогда-то я ложился на свою постель, лицом к саду, и, закрывшись, сколько возможно было, от комаров и летучих мышей, смотрел в сад, слушал звуки ночи и мечтал о любви и счастии.. Тогда все получало для меня другой смысл: и вид старых берез, блестевших с одной стороны на лунном небе своими кудрявыми ветвями, с другой – мрачно застилавших кусты и дорогу своими черными тенями, и спокойный, пышный, равномерно, как звук, возраставший блеск пруда, и лунный блеск капель росы на цветах перед галереей, тоже кладущих поперек серой рабатки свои грациозные тени, и звук перепела за прудом, и голос человека с большой дороги, и тихий, чуть слышный скрип двух старых берез друг о друга, и жужжание комара над ухом под одеялом, и падение зацепившегося за ветку яблока на сухие листья, и прыжки лягушек, которые иногда добирались до ступеней террасы и как-то таинственно блестели на месяце своими зеленоватыми спинками, – все это получало для меня странный смысл– смысл слишком большой красоты и какого-то недоконченного счастия. \n",
      "\n",
      "Автор: Толстой, Длина: 159\n",
      "Она была озабочена воспитанием племянника, для которого она чувствовала себя постоянно неспособной; но в глубине души ее было согласие с самой собою, вытекавшее из сознания того, что она задавила в себе поднявшиеся было, связанные с появлением Ростова, личные мечтания и надежды..      Когда на другой день после своего вечера губернаторша приехала к Мальвинцевой и, переговорив с теткой о своих планах (сделав оговорку о том, что, хотя при теперешних обстоятельствах нельзя и думать о формальном сватовстве, все-таки можно свести молодых людей, дать им узнать друг друга), и когда, получив одобрение тетки, губернаторша при княжне Марье заговорила о Ростове, хваля его и рассказывая, как он покраснел при упоминании о княжне, — княжна Марья испытала не радостное, но болезненное чувство: внутреннее согласие ее не существовало более, и опять поднялись желания, сомнения, упреки и надежды..      В те два дня, которые прошли со времени этого известия и до посещения Ростова, княжна Марья не переставая думала о том, как ей должно держать себя в отношении Ростова. \n",
      "\n",
      "Автор: Достоевский, Длина: 192\n",
      "О, не того боюсь я, что они откажутся от мнения своего, что моя речь гениальна, я ведь и сам знаю, что она не гениальна, и нисколько не был обольщен похвалами, так что от всего сердца прощу им их разочарование в моей гениальности, – но вот что, однако же, может случиться, вот что могут сказать западники, чуть-чуть подумав (Nota bene, я не об тех пишу, которые жали мне руку, я лишь вообще о западниках теперь скажу, на это я напираю): «А, – скажут, может быть, западники (слышите: только „может быть“, не более), – а, вы согласились-таки наконец после долгих споров и препираний, что стремление наше в Европу было законно и нормально, вы признали, что на нашей стороне тоже была правда, и склонили ваши знамена, – что ж, мы принимаем ваше признание радушно и спешим заявить вам, что с вашей стороны это даже довольно недурно: обозначает, по крайней мере, в вас некоторый ум, в котором, впрочем, мы вам никогда не отказывали, за исключением разве самых тупейших из наших, за которых мы отвечать не хотим и не можем, – но… тут, видите ли, является опять некоторая новая запятая, и это надобно как можно скорее разъяснить. \n",
      "\n",
      "Автор: Толстой, Длина: 236\n",
      "Опыт показывает нам, что какое бы ни совершилось событие, оно всегда связано с волею одного или нескольких людей, которые его приказали..       Историки, по старой привычке признания божественного участия в делах человечества, хотят видеть причину события в выражении воли лица, облеченного властью; но заключение это не подтверждается ни рассуждением, ни опытом..       С одной стороны, рассуждение показывает, что выражение воли человека — его слова — суть только часть общей деятельности, выражающейся в событии, как, например, в войне или революции; и потому, без признания непонятной, сверхъестественной силы — чуда, нельзя допустить, чтобы слова могли быть непосредственной причиной движения миллионов; с другой стороны, если даже допустить, что слова могут быть причиной события, то история показывает, что выражения воли исторических: лиц в большей части случаев не производят никакого действия, то есть что приказания их часто не только не исполняются, но что иногда происходит даже совершенно обратное тому, что ими приказано..       Не допуская божественного участия в делах человечества, мы не можем принимать власть за причину событий..       Власть, с точки зрения опыта, есть только зависимость, существующая между выражением воли лица и исполнением этой воли другими людьми..       Для того чтобы объяснить себе условия этой зависимости, мы должны восстановить прежде всего понятие выражения воли, относя его к человеку, а не к божеству..       Ежели божество отдает приказание, выражает свою волю, как то нам показывает история древних, то выражение этой воли не зависит от времени и ничем не вызвано, так как божество ничем не связано с событием. \n",
      "\n",
      "Автор: Толстой, Длина: 161\n",
      "На вопрос о том, что составляет причину исторических событий, представляется другой ответ, заключающийся в том, что ход мировых событий предопределен свыше, зависит от совпадения всех произволов людей, участвующих в этих событиях, и что влияние Наполеонов на ход этих событий есть только внешнее и фиктивное..      Как ни странно кажется с первого взгляда предположение, что Варфоломеевская ночь, приказанье на которую отдано Карлом IX, произошла не по его воле, а что ему только казалось, что он велел это сделать, и что Бородинское побоище восьмидесяти тысяч человек произошло не по воле Наполеона (несмотря на то, что он отдавал приказания о начале и ходе сражения), а что ему казалось только, что он это велел, — как ни странно кажется это предположение, но человеческое достоинство, говорящее мне, что всякий из нас ежели не больше, то никак не меньше человек, чем великий Наполеон, велит допустить это решение вопроса, и исторические исследования обильно подтверждают это предположение..      В Бородинском сражении Наполеон ни в кого не стрелял и никого не убил. \n",
      "\n"
     ]
    }
   ],
   "source": [
    "word_outliers = np.where(word_count > 150)\n",
    "\n",
    "for i in word_outliers[0][:5]:\n",
    "    print('Автор: {}, Длина: {}'.format(author[i], word_count[i]))\n",
    "    print(text[i], '\\n')"
   ]
  },
  {
   "cell_type": "code",
   "execution_count": 16,
   "metadata": {},
   "outputs": [
    {
     "data": {
      "text/plain": [
       "Counter({'Толстой': 28, 'Чехов': 3, 'Достоевский': 3})"
      ]
     },
     "execution_count": 16,
     "metadata": {},
     "output_type": "execute_result"
    }
   ],
   "source": [
    "max_authors = {author : 0 for author in author_names}\n",
    "\n",
    "for i in word_outliers[0]:\n",
    "    max_authors[author[i]] += 1\n",
    "\n",
    "Counter(max_authors)"
   ]
  },
  {
   "cell_type": "markdown",
   "metadata": {},
   "source": [
    "И на необычно короткие (относительно необычно, т.к. их очень много):"
   ]
  },
  {
   "cell_type": "code",
   "execution_count": 17,
   "metadata": {},
   "outputs": [
    {
     "name": "stdout",
     "output_type": "stream",
     "text": [
      "Длина предложения: 1\n",
      "Благодарю! \n",
      "\n",
      "Длина предложения: 1\n",
      "XVII. \n",
      "\n",
      "Длина предложения: 1\n",
      "Гм!.. \n",
      "\n",
      "Длина предложения: 1\n",
      "(Уходит.). \n",
      "\n",
      "Длина предложения: 1\n",
      "(Задумчиво.) \n",
      "\n",
      "Длина предложения: 1\n",
      "Опомнитесь! \n",
      "\n",
      "Длина предложения: 1\n",
      "Соленый. \n",
      "\n",
      "Длина предложения: 1\n",
      "Ирина. \n",
      "\n",
      "Длина предложения: 1\n",
      "Идем!... \n",
      "\n",
      "Длина предложения: 1\n",
      "1812». \n",
      "\n"
     ]
    }
   ],
   "source": [
    "word_outliers = np.where(word_count < 2)\n",
    "\n",
    "for i in word_outliers[0][:10]:\n",
    "    print('Длина предложения: {}'.format(word_count[i]))\n",
    "    print(text[i], '\\n')"
   ]
  },
  {
   "cell_type": "markdown",
   "metadata": {},
   "source": [
    "#### Исследование символов"
   ]
  },
  {
   "cell_type": "markdown",
   "metadata": {},
   "source": [
    "Создадим словарь, показывающий количество включений в датасет для каждого символа."
   ]
  },
  {
   "cell_type": "code",
   "execution_count": 18,
   "metadata": {},
   "outputs": [
    {
     "name": "stdout",
     "output_type": "stream",
     "text": [
      "Counter({' ': 864226, 'о': 477309, 'е': 364014, 'а': 345020, 'и': 283125, 'н': 272813, 'т': 260609, 'с': 223816, 'л': 201825, 'в': 194024, 'р': 177444, 'к': 143552, 'м': 133164, 'д': 132447, ',': 121669, 'у': 119228, 'п': 112185, 'я': 94497, '.': 89064, 'ь': 85046, 'г': 81459, 'ы': 78234, 'б': 74083, 'ч': 69984, 'з': 69483, 'й': 47080, 'ж': 46697, 'ш': 38729, 'х': 35901, 'ю': 26709, '—': 15544, 'ц': 14322, '\\xa0': 13565, 'э': 12846, 'щ': 12753, '–': 12646, '-': 9663, '!': 9533, 'ф': 8056, '?': 7239, 'e': 5894, ';': 5235, '…': 4573, ':': 4565, 'i': 3963, '«': 3871, '»': 3826, 'a': 3029, 's': 2990, 'n': 2799, '1': 2538, ')': 2510, '(': 2480, 'r': 2460, '2': 2381, 'o': 2365, 'u': 2196, 't': 2156, '3': 2002, 'l': 1970, 'm': 1914, 'ё': 1643, 'c': 1342, '8': 1327, 'ъ': 1275, 'd': 1193, '6': 993, 'v': 977, '4': 965, 'p': 928, '5': 855, '7': 816, '[': 780, ']': 780, '0': 751, '&': 732, '#': 731, '9': 681, 'h': 600, 'b': 497, 'x': 445, '*': 440, \"'\": 430, 'f': 414, 'q': 392, 'g': 359, 'j': 292, 'z': 216, '́': 214, 'é': 156, '’': 121, '“': 94, '„': 94, 'y': 77, '\\x7f': 68, 'k': 64, 'è': 56, 'w': 38, 'ô': 37, 'ó': 33, '̀': 27, '№': 25, 'à': 25, '>': 21, 'ê': 20, '<': 19, '/': 12, '{': 7, '}': 7, '\\t': 7, 'ç': 7, '”': 6, '\"': 5, 'â': 5, 'ü': 3, '°': 2, 'î': 2, '%': 1, 'ö': 1, 'ù': 1, '¾': 1, 'û': 1, '`': 1, 'á': 1, 'і': 1, 'ï': 1, 'ä': 1, '‑': 1})\n",
      "128 необычных символов в данных.\n"
     ]
    }
   ],
   "source": [
    "text_string = ''\n",
    "for sents in text:\n",
    "    text_string += sents.lower()\n",
    "\n",
    "char_cnt = Counter(text_string)\n",
    "print(char_cnt)\n",
    "print(len(char_cnt), 'необычных символов в данных.')"
   ]
  },
  {
   "cell_type": "markdown",
   "metadata": {},
   "source": [
    "Все используемые символы:"
   ]
  },
  {
   "cell_type": "code",
   "execution_count": 19,
   "metadata": {},
   "outputs": [
    {
     "name": "stdout",
     "output_type": "stream",
     "text": [
      "['в', 'ы', ' ', 'н', 'е', 'з', 'а', 'т', ',', 'к', 'д', 'л', 'я', 'м', 'ж', 'и', 'о', 'г', 'с', '!', '.', '1', '4', ')', 'э', 'ч', 'ь', 'у', 'р', 'б', 'п', 'щ', 'ц', 'й', 'х', 'ю', '«', '»', '(', 'ш', '-', '—', ';', '?', ':', '–', 'ъ', 'ф', '6', '8', '\\xa0', 'x', 'v', 'i', '…', '7', '0', '2', '3', '9', 'm', 'e', 's', 't', 'a', '&', '#', '5', 'l', 'ё', 'r', '{', '}', 'n', 'o', 'z', 'u', 'q', 'c', 'h', '\\x7f', '“', 'p', 'd', 'j', '’', 'b', 'é', '[', ']', 'g', 'f', \"'\", 'y', '́', '*', '„', '№', 'ó', '>', 'k', 'ô', '%', 'w', '<', '̀', 'ö', 'ê', 'à', 'è', '/', '”', '\\t', '\"', 'ç', 'ù', '¾', 'â', 'û', '°', '`', 'ü', 'á', 'і', 'ï', 'î', 'ä', '‑']\n"
     ]
    }
   ],
   "source": [
    "print(list(char_cnt.keys()))"
   ]
  },
  {
   "cell_type": "markdown",
   "metadata": {},
   "source": [
    "Среди них есть много тех, которые не относятся к стандартным, к знакам пунктуации или кириллицы. Выделим те предложения, в которых они встречаются."
   ]
  },
  {
   "cell_type": "code",
   "execution_count": 20,
   "metadata": {},
   "outputs": [
    {
     "name": "stdout",
     "output_type": "stream",
     "text": [
      "1755 предложений содержат нестандартные символы.\n"
     ]
    }
   ],
   "source": [
    "accented_chars = ['f', 'u', 'r', 's', 'i', 'c', 'h', '́', 'n', 'd', 'p', 'e', 'a', 't', 'o', 'l', 'x', 'm', 'j', 'é', 'ô', 'v', 'q', 'ê', 'g', 'b', 'k', 'y', 'à', 'і', 'z', 'w', 'è', 'ó', 'ö', '°', 'ç', 'ï', 'á', 'ü', 'ù', 'û', 'î', 'ѣ', 'â']\n",
    "\n",
    "accented_text = []\n",
    "for i in range(len(text)):\n",
    "    for j in text[i]:\n",
    "        if j in accented_chars:\n",
    "            accented_text.append(i)\n",
    "        \n",
    "accented_text = list(set(accented_text))\n",
    " \n",
    "print(len(accented_text), 'предложений содержат нестандартные символы.')"
   ]
  },
  {
   "cell_type": "code",
   "execution_count": 21,
   "metadata": {},
   "outputs": [
    {
     "name": "stdout",
     "output_type": "stream",
     "text": [
      "Предложение номер 16389: \n",
      "Он тотчас же и горячо схватил меня за руку..     – Enfin un ami! \n",
      "\n",
      "Предложение номер 32775: \n",
      "[68] — говорит другой черный, с итальянским выговором, подходя к нашим..     — Кафтан бун, — говорит бойкий солдат, рассматривая шитые полы зуава, и опять смеются..     — Ne sortez pas de la ligne, &#224; vos places, sacr&#233; nom……[69] — кричит французский капрал, и солдаты с видимым неудовольствием расходятся..     А вот в кружке французских офицеров наш молодой кавалерийский офицер так и рассыпается французским парикмахерским жаргоном. \n",
      "\n",
      "Предложение номер 40967: \n",
      "– Ну что́?. \n",
      "\n",
      "Предложение номер 8202: \n",
      "Устав был очень длинен, и Пьер от радости, волнения и стыда не был в состоянии понимать того, что́ читали. \n",
      "\n",
      "Предложение номер 16394: \n",
      "Blanche du-Placet! \n",
      "\n",
      "Предложение номер 8212: \n",
      "Самый habitus 2 романа, его физиономию. \n",
      "\n",
      "Предложение номер 16424: \n",
      "Восторженное состояние его еще усилилось при виде девочки, которую он спас..      — Ce qu'elle dit? \n",
      "\n",
      "Предложение номер 16430: \n",
      "Одна мысль о взгляде ее отца приводила ее в ужас..      Маленькая княгиня и m-lle Bourienne получили уже все нужные сведения от горничной Маши о том, какой румяный, чернобровый красавец был министерский сын, и о том, как папенька их насилу ноги проволок на лестницу, а он, как орел, шагая по три ступеньки, пробежал за ним. \n",
      "\n",
      "Предложение номер 8250: \n",
      "Но едва он кончил, как St.-Jérôme громким шепотом проговорил: «A vous, Nicolas!»[3] – и я вслед за Икониным вышел из-за лавки, не успев пройти другого незнакомого вопроса. \n",
      "\n",
      "Предложение номер 59: \n",
      "Все известные люди того времени, от Александра и Наполеона до m-me Sta&#235;l, Фотия, Шеллинга, Фихте, Шатобриана и проч. \n",
      "\n"
     ]
    }
   ],
   "source": [
    "for i in accented_text[:10]:\n",
    "    print('Предложение номер {}: '.format(i))\n",
    "    print(text[i], '\\n')"
   ]
  },
  {
   "cell_type": "markdown",
   "metadata": {},
   "source": [
    "На основании приведённых выше исследований предложений можно сказать, что наши данные вполне в пригодном для анализа состоянии. Единственное что, необходимо удалить блоки с отступами и некоторые недопустимые символы, являющиеся артефактами исходного текста."
   ]
  },
  {
   "cell_type": "markdown",
   "metadata": {},
   "source": [
    "## Подготовка данных"
   ]
  },
  {
   "cell_type": "markdown",
   "metadata": {},
   "source": [
    "Как раз таки тут и удаляем недопустимые неинформативные символы."
   ]
  },
  {
   "cell_type": "code",
   "execution_count": 22,
   "metadata": {},
   "outputs": [],
   "source": [
    "text = [excerpt.replace('\\xa0', '').replace('\\x7f', '') for excerpt in text]"
   ]
  },
  {
   "cell_type": "markdown",
   "metadata": {},
   "source": [
    "И большие блоки отступов."
   ]
  },
  {
   "cell_type": "code",
   "execution_count": 23,
   "metadata": {},
   "outputs": [
    {
     "name": "stdout",
     "output_type": "stream",
     "text": [
      "8083 вхождений больших блоков отступов.\n"
     ]
    }
   ],
   "source": [
    "ctr = 0\n",
    "for excerpt in text:\n",
    "    if '  ' in excerpt:\n",
    "        ctr += 1\n",
    "\n",
    "print(ctr, 'вхождений больших блоков отступов.')"
   ]
  },
  {
   "cell_type": "code",
   "execution_count": 24,
   "metadata": {},
   "outputs": [
    {
     "name": "stdout",
     "output_type": "stream",
     "text": [
      "54000\n"
     ]
    }
   ],
   "source": [
    "new_text = []\n",
    "for excerpt in text:\n",
    "    while '  ' in excerpt:\n",
    "        excerpt = excerpt.replace('  ',' ')\n",
    "    new_text.append(excerpt)\n",
    "\n",
    "text = new_text\n",
    "print(len(text))"
   ]
  },
  {
   "cell_type": "markdown",
   "metadata": {},
   "source": [
    "Удаляем пунктуацию и приводим все буквы предложения к строчным."
   ]
  },
  {
   "cell_type": "code",
   "execution_count": 25,
   "metadata": {},
   "outputs": [
    {
     "name": "stdout",
     "output_type": "stream",
     "text": [
      "['вы не знаете как вы для меня важны и как вы много для меня сделали', '14 однако эта часть мемуаров не была пропущена цензурой при их первой публикации совпадающей с периодом работы толстого над войной и миром см', 'он прибежал из леса к опушке и бледный с расширенными зрачками хотел чтото сказать но одышка и волнение долго мешали ему говорить', ' сказала мать притворно сердито отталкивая дочь', 'вечер проектировался однако же запросто ожидались одни только друзья дома в самом малом числе']\n",
      "54000\n"
     ]
    }
   ],
   "source": [
    "normed_text = []\n",
    "\n",
    "for sent in text:\n",
    "    new = sent.lower()\n",
    "    new = new.translate(str.maketrans('','', string.punctuation))\n",
    "    new = new.replace('“', '').replace('”', '') # английские кавычки\n",
    "    new = new.replace('‟', '').replace('”', '') # французские кавычки\n",
    "    new = new.replace('«', '').replace('»', '') # кавычки-ёлочки\n",
    "    new = new.replace('—', '').replace('–', '') # длинное тире\n",
    "    new = new.replace('(', '').replace(')', '')\n",
    "    new = new.replace('…', '') # многоточие одним символом\n",
    "    \n",
    "    normed_text.append(new)\n",
    "    \n",
    "print(normed_text[0:5])\n",
    "print(len(normed_text))"
   ]
  },
  {
   "cell_type": "markdown",
   "metadata": {},
   "source": [
    "Сохраняем подготовленные данные."
   ]
  },
  {
   "cell_type": "code",
   "execution_count": 26,
   "metadata": {},
   "outputs": [],
   "source": [
    "data['text'] = normed_text\n",
    "\n",
    "data.to_csv('preprocessed_data.csv', index=False)"
   ]
  }
 ],
 "metadata": {
  "kernelspec": {
   "display_name": "Python 3",
   "language": "python",
   "name": "python3"
  },
  "language_info": {
   "codemirror_mode": {
    "name": "ipython",
    "version": 3
   },
   "file_extension": ".py",
   "mimetype": "text/x-python",
   "name": "python",
   "nbconvert_exporter": "python",
   "pygments_lexer": "ipython3",
   "version": "3.8.3"
  }
 },
 "nbformat": 4,
 "nbformat_minor": 4
}
