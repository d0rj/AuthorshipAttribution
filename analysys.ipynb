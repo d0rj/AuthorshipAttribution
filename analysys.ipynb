{
 "cells": [
  {
   "cell_type": "markdown",
   "metadata": {},
   "source": [
    "# Обработка текстов на естественном языке: задача классификации"
   ]
  },
  {
   "cell_type": "markdown",
   "metadata": {},
   "source": [
    "## Обучение и изучение моделей"
   ]
  },
  {
   "cell_type": "markdown",
   "metadata": {},
   "source": [
    "### Импорт пакетов и загрузка предподготовленных данных"
   ]
  },
  {
   "cell_type": "code",
   "execution_count": 1,
   "metadata": {},
   "outputs": [],
   "source": [
    "from typing import List\n",
    "\n",
    "import numpy as np\n",
    "import pandas as pd\n",
    "from collections import Counter\n",
    "import seaborn as sns\n",
    "import matplotlib.pyplot as plt\n",
    "import string\n",
    "import time\n",
    "\n",
    "import nltk\n",
    "from nltk.stem.porter import PorterStemmer # не используется по факту, уберу ненужные библиотеки позже\n",
    "\n",
    "from sklearn.model_selection import train_test_split, KFold\n",
    "from sklearn.preprocessing import MinMaxScaler, MaxAbsScaler\n",
    "from sklearn.feature_extraction.text import CountVectorizer, TfidfVectorizer\n",
    "from sklearn.model_selection import GridSearchCV\n",
    "from sklearn.metrics import accuracy_score, make_scorer, confusion_matrix\n",
    "from sklearn.metrics import precision_recall_fscore_support as score\n",
    "from sklearn.preprocessing import LabelBinarizer\n",
    "\n",
    "import keras\n",
    "from keras.models import Model\n",
    "from keras.layers import Input, Dense, Flatten, Dropout, Embedding\n",
    "from keras.layers.convolutional import Conv1D, MaxPooling1D\n",
    "from keras.layers.merge import concatenate\n",
    "from keras.optimizers import Adam\n",
    "from keras.preprocessing.text import one_hot\n",
    "from keras.callbacks import ModelCheckpoint \n",
    "\n",
    "from scipy import sparse, stats"
   ]
  },
  {
   "cell_type": "markdown",
   "metadata": {},
   "source": [
    "**Раздел с функциями статистики и вывода**"
   ]
  },
  {
   "cell_type": "markdown",
   "metadata": {},
   "source": [
    "Определим функцию, составляющую матрицу соответствий.\n",
    "\n",
    "Ссылки:\n",
    "* http://scikit-learn.org/stable/auto_examples/model_selection/plot_confusion_matrix.html#sphx-glr-auto-examples-model-selection-plot-confusion-matrix-py\n",
    "* https://stackoverflow.com/questions/35572000/how-can-i-plot-a-confusion-matrix"
   ]
  },
  {
   "cell_type": "code",
   "execution_count": 2,
   "metadata": {},
   "outputs": [],
   "source": [
    "def plot_confusion_matrix(cm, classes: List[str],\n",
    "                          normalize: bool = False,\n",
    "                          title: str = 'Матрица соответствий',\n",
    "                          cmap = plt.cm.Greens):\n",
    "    \"\"\"\n",
    "    Функция создаёт изображение матрицы соответствий.\n",
    "    \n",
    "    Args:\n",
    "    cm: Матрица соответствий.\n",
    "    classes: Метки классов.\n",
    "    normalize: Необходимо ли нормализировать.\n",
    "    title: Заголовок.\n",
    "    cmap: Цветовая схема.\n",
    "    \"\"\"\n",
    "    if normalize:\n",
    "        cm = cm.astype('float') / cm.sum(axis=1)[:, np.newaxis]\n",
    "        print('Нормализованная матрица соответствий')\n",
    "    else:\n",
    "        print('Не нормализованная матрица соответствий')\n",
    "\n",
    "    print(cm)\n",
    "       \n",
    "    df_cm = pd.DataFrame(cm, index = classes,\n",
    "                  columns = classes)\n",
    "    sns.heatmap(df_cm, annot=True, cmap = cmap)\n",
    "    plt.ylabel('Правильный автор')\n",
    "    plt.xlabel('Предсказанный автор')\n",
    "    plt.title(title)"
   ]
  },
  {
   "cell_type": "markdown",
   "metadata": {},
   "source": [
    "https://machinelearningmastery.com/display-deep-learning-model-training-history-in-keras/"
   ]
  },
  {
   "cell_type": "code",
   "execution_count": 3,
   "metadata": {},
   "outputs": [],
   "source": [
    "def plot_history_of_accurancy(history):\n",
    "    plt.plot(history.history['accuracy'])\n",
    "    plt.plot(history.history['val_accuracy'])\n",
    "    plt.title('Точность модели')\n",
    "    plt.ylabel('точность')\n",
    "    plt.xlabel('эпох')\n",
    "    plt.legend(['обучающая выборка', 'тестовая выборка'], loc='upper left')"
   ]
  },
  {
   "cell_type": "code",
   "execution_count": 4,
   "metadata": {},
   "outputs": [],
   "source": [
    "def plot_history_of_loss(history):\n",
    "    plt.plot(history.history['loss'])\n",
    "    plt.plot(history.history['val_loss'])\n",
    "    plt.title('Ошибка модели')\n",
    "    plt.ylabel('ошибка')\n",
    "    plt.xlabel('эпох')\n",
    "    plt.legend(['обучающая выборка', 'тестовая выборка'], loc='upper left')"
   ]
  },
  {
   "cell_type": "code",
   "execution_count": 5,
   "metadata": {},
   "outputs": [
    {
     "name": "stdout",
     "output_type": "stream",
     "text": [
      "                                                text       author\n",
      "0  вы не знаете как вы для меня важны и как вы мн...      Толстой\n",
      "1  14 однако эта часть мемуаров не была пропущена...      Толстой\n",
      "2  он прибежал из леса к опушке и бледный с расши...        Чехов\n",
      "3     сказала мать притворно сердито отталкивая дочь      Толстой\n",
      "4  вечер проектировался однако же запросто ожидал...  Достоевский\n"
     ]
    }
   ],
   "source": [
    "data = pd.read_csv(\"../input/russian-literature-sents/preprocessed_data.csv\", encoding='utf8')\n",
    "print(data.head())"
   ]
  },
  {
   "cell_type": "code",
   "execution_count": 6,
   "metadata": {},
   "outputs": [],
   "source": [
    "normed_text = list(data['text'])\n",
    "author = list(data['author'])\n",
    "\n",
    "authors_names = list(Counter(author).keys())\n",
    "authors_count = len(authors_names)\n",
    "\n",
    "normed_text = [str(i) for i in normed_text]"
   ]
  },
  {
   "cell_type": "markdown",
   "metadata": {},
   "source": [
    "### Подготвка данных к непосредственному использованию"
   ]
  },
  {
   "cell_type": "markdown",
   "metadata": {},
   "source": [
    "#### Выделяем обучающую и тестовую выборку"
   ]
  },
  {
   "cell_type": "markdown",
   "metadata": {},
   "source": [
    "Размером тестовой выборки выберем 20% всех данных"
   ]
  },
  {
   "cell_type": "code",
   "execution_count": 7,
   "metadata": {},
   "outputs": [],
   "source": [
    "text_train, text_test, author_train, author_test = train_test_split(normed_text, author, test_size=0.2, random_state=5)"
   ]
  },
  {
   "cell_type": "markdown",
   "metadata": {},
   "source": [
    "Проверяем размеры созданных выборок"
   ]
  },
  {
   "cell_type": "code",
   "execution_count": 8,
   "metadata": {},
   "outputs": [
    {
     "name": "stdout",
     "output_type": "stream",
     "text": [
      "(43200,)\n",
      "(10800,)\n",
      "(43200,)\n",
      "(10800,)\n"
     ]
    }
   ],
   "source": [
    "print(np.shape(text_train))\n",
    "print(np.shape(text_test))\n",
    "print(np.shape(author_train))\n",
    "print(np.shape(author_test))"
   ]
  },
  {
   "cell_type": "markdown",
   "metadata": {},
   "source": [
    "**Создаём n-gram последовательности**"
   ]
  },
  {
   "cell_type": "code",
   "execution_count": 9,
   "metadata": {},
   "outputs": [],
   "source": [
    "def create_n_grams(excerpt_list: List[str], n: int, vocab_size: int, seq_size: int):\n",
    "    \"\"\"Создание списка n-грамм\n",
    "    \n",
    "    Args:\n",
    "    excerpt_list: Список нормализованных данных.\n",
    "    n: Длина n-грамм.\n",
    "    vocab_size: Размер словаря n-грамм (one-hot encoding)\n",
    "    seq_size: Длина последовательностей n-грамм\n",
    "    \n",
    "    Returns:\n",
    "    n_gram_array: numpy array.\n",
    "    \"\"\"\n",
    "    n_gram_list = []\n",
    "\n",
    "    for excerpt in excerpt_list:\n",
    "        excerpt = excerpt.replace(\" \", \"\")\n",
    "\n",
    "        # Извлечение n-грамм\n",
    "        n_grams = [excerpt[i:i + n] for i in range(len(excerpt) - n + 1)]\n",
    "\n",
    "        new_string = \" \".join(n_grams)\n",
    "\n",
    "        # One hot encode\n",
    "        hot = one_hot(new_string, round(vocab_size * 1.3))\n",
    "\n",
    "        hot_len = len(hot)\n",
    "        if hot_len >= seq_size:\n",
    "            hot = hot[0:seq_size]\n",
    "        else:\n",
    "            diff = seq_size - hot_len\n",
    "            extra = [0]*diff\n",
    "            hot = hot + extra\n",
    "\n",
    "        n_gram_list.append(hot)\n",
    "    \n",
    "    n_gram_array = np.array(n_gram_list)\n",
    "    \n",
    "    return n_gram_array"
   ]
  },
  {
   "cell_type": "code",
   "execution_count": 10,
   "metadata": {},
   "outputs": [],
   "source": [
    "def get_vocab_size(excerpt_list: List[str], n: int, seq_size: int) -> int:\n",
    "    \"\"\"Расчёт размера словаря n-грамм\n",
    "    \n",
    "    Args:\n",
    "    excerpt_list: Список нормализованных данных.\n",
    "    n: Длина n-грамм.\n",
    "    seq_size: Длина последовательностей n-грамм\n",
    "    \n",
    "    Returns:\n",
    "    vocab_size: Размер словаря.\n",
    "    \"\"\"\n",
    "    n_gram_list = []\n",
    "\n",
    "    for excerpt in excerpt_list:\n",
    "        excerpt = excerpt.replace(\" \", \"\")\n",
    "\n",
    "        # извлечение n-грамм           \n",
    "        n_grams = [excerpt[i:i + n] for i in range(len(excerpt) - n + 1)]\n",
    "\n",
    "        # Создание их списка\n",
    "        gram_len = len(n_grams)\n",
    "        if gram_len >= seq_size:\n",
    "            n_grams = n_grams[0:seq_size]\n",
    "        else:\n",
    "            diff = seq_size - gram_len\n",
    "            extra = [0]*diff\n",
    "            n_grams = n_grams + extra\n",
    "        \n",
    "        n_gram_list.append(n_grams)\n",
    "    \n",
    "    n_gram_list = list(np.array(n_gram_list).flat)\n",
    "    \n",
    "    n_gram_cnt = Counter(n_gram_list)\n",
    "    vocab_size = len(n_gram_cnt)\n",
    "    \n",
    "    return vocab_size"
   ]
  },
  {
   "cell_type": "markdown",
   "metadata": {},
   "source": [
    "Определим размер словаря для *n* от 1 до 3 включительно"
   ]
  },
  {
   "cell_type": "code",
   "execution_count": 11,
   "metadata": {},
   "outputs": [
    {
     "name": "stdout",
     "output_type": "stream",
     "text": [
      "Размер словаря для n = 1 равен: 94\n",
      "Размер словаря для n = 2 равен: 2899\n",
      "Размер словаря для n = 3 равен: 25116\n"
     ]
    }
   ],
   "source": [
    "vocab_sizes = []\n",
    "for i in range(1, 4):\n",
    "    vocab_sizes.append(get_vocab_size(text_train, i, 350))\n",
    "    print('Размер словаря для n =', i, 'равен:', vocab_sizes[i - 1])"
   ]
  },
  {
   "cell_type": "code",
   "execution_count": null,
   "metadata": {},
   "outputs": [],
   "source": [
    "print(text_train[7373])"
   ]
  },
  {
   "cell_type": "markdown",
   "metadata": {},
   "source": [
    "И создаём списки n-грамм"
   ]
  },
  {
   "cell_type": "code",
   "execution_count": 12,
   "metadata": {},
   "outputs": [],
   "source": [
    "gram1_train = create_n_grams(text_train, 1, vocab_sizes[0], 350)\n",
    "gram2_train = create_n_grams(text_train, 2, vocab_sizes[1], 350)\n",
    "gram3_train = create_n_grams(text_train, 3, vocab_sizes[2], 350)"
   ]
  },
  {
   "cell_type": "code",
   "execution_count": 13,
   "metadata": {},
   "outputs": [],
   "source": [
    "gram1_test = create_n_grams(text_test, 1, vocab_sizes[0], 350)\n",
    "gram2_test = create_n_grams(text_test, 2, vocab_sizes[1], 350)\n",
    "gram3_test = create_n_grams(text_test, 3, vocab_sizes[2], 350)"
   ]
  },
  {
   "cell_type": "code",
   "execution_count": 14,
   "metadata": {},
   "outputs": [
    {
     "name": "stdout",
     "output_type": "stream",
     "text": [
      "(43200, 350)\n",
      "(43200, 350)\n",
      "(43200, 350)\n",
      "(10800, 350)\n",
      "(10800, 350)\n",
      "(10800, 350)\n"
     ]
    }
   ],
   "source": [
    "print(np.shape(gram1_train))\n",
    "print(np.shape(gram2_train))\n",
    "print(np.shape(gram3_train))\n",
    "\n",
    "print(np.shape(gram1_test))\n",
    "print(np.shape(gram2_test))\n",
    "print(np.shape(gram3_test))"
   ]
  },
  {
   "cell_type": "markdown",
   "metadata": {},
   "source": [
    "Посмотрим на некоторые результаты:"
   ]
  },
  {
   "cell_type": "code",
   "execution_count": 15,
   "metadata": {},
   "outputs": [
    {
     "name": "stdout",
     "output_type": "stream",
     "text": [
      "[ 30  35  25  38  30  38  25 111  25  38 111  20 121  25 101  30  58  25\n",
      "  58  72  22  35  20  81  30   5 101  20 110  25  40  30  35  20  38  30\n",
      "  35  30 101  25  40 121  70  30  20 101   5  35   5  38  35  30  30  70\n",
      "  35  20  20  35  30 110  45  70  25 111  25  30  38  30  87 111  25 110\n",
      "  22  38  30  70  28  30  38  30 121  20  70  22  28  20 121  25  45  25\n",
      "  30  99  28  25  20  70  20  35  25  28  30  40 111  20  99  30 110  30\n",
      "  28  30 111  30  35  30  81  40  10  25  35  20   1  38  30  70  30 101\n",
      "  45  30  81  30  70  20  45 101  25 101  30   1  30  35  20  70  35  30\n",
      "  58  25  58  30   1 110  30  10 101  30  38  35  30  45  70  30  38  30\n",
      "  99  30 110  30  28  30  70  81  45 110  25 101  30   0   0   0   0   0\n",
      "   0   0   0   0   0   0   0   0   0   0   0   0   0   0   0   0   0   0\n",
      "   0   0   0   0   0   0   0   0   0   0   0   0   0   0   0   0   0   0\n",
      "   0   0   0   0   0   0   0   0   0   0   0   0   0   0   0   0   0   0\n",
      "   0   0   0   0   0   0   0   0   0   0   0   0   0   0   0   0   0   0\n",
      "   0   0   0   0   0   0   0   0   0   0   0   0   0   0   0   0   0   0\n",
      "   0   0   0   0   0   0   0   0   0   0   0   0   0   0   0   0   0   0\n",
      "   0   0   0   0   0   0   0   0   0   0   0   0   0   0   0   0   0   0\n",
      "   0   0   0   0   0   0   0   0   0   0   0   0   0   0   0   0   0   0\n",
      "   0   0   0   0   0   0   0   0   0   0   0   0   0   0   0   0   0   0\n",
      "   0   0   0   0   0   0   0   0]\n",
      "[3200  598 1089  723 2732 3199  402  502 1089  413  540 2644 3581  538\n",
      " 3275 1719 2788 2899  885 3016 1754  918 3720  510 2709 2631  830 3483\n",
      " 2202 1365  435  637  918 2558  723 3200 2400  829 1789 1365 3759 3743\n",
      " 2346 1320 1104 2643 3465 3112 2824  811 3581 3378   40 3133  918 2765\n",
      " 2257 3581  406  839 2582 1317  402  502  122 2936  723 3265  447  502\n",
      "  324 2467 2111  723   40  812 1244 2936  723  605 2022 3519  158 1265\n",
      " 3015 2644 3581 1920 2004  122 1874  469 2926  817 3519 1268 2257  598\n",
      " 2755 2127  593 3575  540 1095 1701  406 1210 1755 1244 1223  515 3200\n",
      " 2400 2573 1015 2616  948 2298  918  513 3061  723   40 2346 3416  968\n",
      "  946 2573  154 2980 1268 3679 3703 1789  538 3276 2577  299  637  918\n",
      " 3519 3133 2400 1719 2788 2899 1347 2577  268 1210  847 2668 3276 2732\n",
      "  811 3581 1400 2582 1538 2936  723 3188 1701  406 1210 1755 1244 2980\n",
      " 3678 3563  796 2202  538 3275    0    0    0    0    0    0    0    0\n",
      "    0    0    0    0    0    0    0    0    0    0    0    0    0    0\n",
      "    0    0    0    0    0    0    0    0    0    0    0    0    0    0\n",
      "    0    0    0    0    0    0    0    0    0    0    0    0    0    0\n",
      "    0    0    0    0    0    0    0    0    0    0    0    0    0    0\n",
      "    0    0    0    0    0    0    0    0    0    0    0    0    0    0\n",
      "    0    0    0    0    0    0    0    0    0    0    0    0    0    0\n",
      "    0    0    0    0    0    0    0    0    0    0    0    0    0    0\n",
      "    0    0    0    0    0    0    0    0    0    0    0    0    0    0\n",
      "    0    0    0    0    0    0    0    0    0    0    0    0    0    0\n",
      "    0    0    0    0    0    0    0    0    0    0    0    0    0    0\n",
      "    0    0    0    0    0    0    0    0    0    0    0    0    0    0\n",
      "    0    0    0    0    0    0    0    0    0    0    0    0    0    0]\n",
      "[22861 28182 15370  6609  1037  4380 22541 17786 27838 13306 25784 18608\n",
      "  7376 32226 15648 23488 10813 14639 11282  9487 12280 20049 12822 17205\n",
      "  2176  5717 27660    45 15472  6631   187 28790 25083  2976  5415  3477\n",
      " 25773 13438 14184 15454 19951 25751 14209 17769 11370  1019 23132   438\n",
      " 20682 29325  6568 27870  3465  2236 14304 13306 12699 18912  2762  3019\n",
      "   204 30333 22541  6679 13402  6489 12448 29622 29848 13359 21017 12837\n",
      "  1161 13711 15038 25260  6008  6489  7275 21679 28250  3440 17814  4865\n",
      " 26761 18608  4185 27930 12440  6535  6201 29101  9397 26696 20456 12976\n",
      " 29724  6729  7984  5685 20993 32369  6504  5659 31723  8911  6707 25194\n",
      " 20482 27720 11911  3477 10492  2886 25394 13842 29636 10529 22195 16268\n",
      " 19286 13711 13234  7046 12360 19180  4825 30222 26479 19109 21446 28127\n",
      "  9047 31147 11038 16865  1058 16604 28790 14048  8198  1801   532 23488\n",
      " 10813 20973   981  1649 27262  4908 12786 30382  4311  7975 29325  4169\n",
      " 12198  6617 21670  6489 31855  2391 31723  8911  6707 25194 28512 22948\n",
      " 26660  1694 29444 30522 32226     0     0     0     0     0     0     0\n",
      "     0     0     0     0     0     0     0     0     0     0     0     0\n",
      "     0     0     0     0     0     0     0     0     0     0     0     0\n",
      "     0     0     0     0     0     0     0     0     0     0     0     0\n",
      "     0     0     0     0     0     0     0     0     0     0     0     0\n",
      "     0     0     0     0     0     0     0     0     0     0     0     0\n",
      "     0     0     0     0     0     0     0     0     0     0     0     0\n",
      "     0     0     0     0     0     0     0     0     0     0     0     0\n",
      "     0     0     0     0     0     0     0     0     0     0     0     0\n",
      "     0     0     0     0     0     0     0     0     0     0     0     0\n",
      "     0     0     0     0     0     0     0     0     0     0     0     0\n",
      "     0     0     0     0     0     0     0     0     0     0     0     0\n",
      "     0     0     0     0     0     0     0     0     0     0     0     0\n",
      "     0     0     0     0     0     0     0     0     0     0     0     0\n",
      "     0     0     0     0     0     0     0     0     0     0     0     0\n",
      "     0     0]\n"
     ]
    }
   ],
   "source": [
    "print(gram1_train[7373])\n",
    "print(gram2_train[7373])\n",
    "print(gram3_train[7373])"
   ]
  },
  {
   "cell_type": "markdown",
   "metadata": {},
   "source": [
    "Определим максимальное значение n-грамм, что будет использовано для создания сети"
   ]
  },
  {
   "cell_type": "code",
   "execution_count": 16,
   "metadata": {},
   "outputs": [
    {
     "name": "stdout",
     "output_type": "stream",
     "text": [
      "Максимальное значение для 1-грамм:  121\n",
      "Максимальное значение для биграмм:  3768\n",
      "Максимальное значение для триграмм:  32647\n"
     ]
    }
   ],
   "source": [
    "max_1gram = np.max(gram1_train)\n",
    "max_2gram = np.max(gram2_train)\n",
    "max_3gram = np.max(gram3_train)\n",
    "\n",
    "print('Максимальное значение для 1-грамм: ', max_1gram)\n",
    "print('Максимальное значение для биграмм: ', max_2gram)\n",
    "print('Максимальное значение для триграмм: ', max_3gram)"
   ]
  },
  {
   "cell_type": "markdown",
   "metadata": {},
   "source": [
    "#### Создание bag-of-words"
   ]
  },
  {
   "cell_type": "code",
   "execution_count": 17,
   "metadata": {},
   "outputs": [],
   "source": [
    "def process_data(excerpt_list: List[str]) -> List[List[str]]:\n",
    "    \"\"\"Стеммизирует данные и разделяет их на список слов\n",
    "    \n",
    "    Args:\n",
    "    excerpt_list: Список нормализованных данных.\n",
    "    \n",
    "    Returns:\n",
    "    processed: Результат.\n",
    "    \"\"\"\n",
    "    porter = PorterStemmer()\n",
    "    \n",
    "    processed = []    \n",
    "    for excerpt in excerpt_list:\n",
    "        new = excerpt.split()\n",
    "        word_list = [porter.stem(w) for w in new]\n",
    "        word_list = \" \".join(word_list)\n",
    "        processed.append(word_list)\n",
    "    \n",
    "    return processed"
   ]
  },
  {
   "cell_type": "code",
   "execution_count": 18,
   "metadata": {},
   "outputs": [
    {
     "name": "stdout",
     "output_type": "stream",
     "text": [
      "['maman меня давно женить хочет на богатой но мне мысль одна эта противна жениться изза денег о да понимаю сказала губернаторша но княжна болконская это другое дело вопервых я вам правду скажу она мне очень нравится она по сердцу мне и потом после того как я ее встретил в таком положении так странно мне часто в голову приходило что это судьба', 'здравствуй липынька', 'она оглянулась', 'прибавил он потрепав свою наташу по раскрасневшейся щечке что любил делать при всяком удобном случае я вот видишь ли ваня любя говорил', 'дорог мне был этот человек']\n"
     ]
    }
   ],
   "source": [
    "processed_train = process_data(text_train)\n",
    "processed_test = process_data(text_test)\n",
    "\n",
    "print(processed_train[0:5])"
   ]
  },
  {
   "cell_type": "markdown",
   "metadata": {},
   "source": [
    "Использование Tgidf векторизатора"
   ]
  },
  {
   "cell_type": "code",
   "execution_count": 19,
   "metadata": {},
   "outputs": [
    {
     "name": "stdout",
     "output_type": "stream",
     "text": [
      "Размер словаря:  11060\n"
     ]
    }
   ],
   "source": [
    "vectorizer = TfidfVectorizer(strip_accents = 'unicode', min_df = 6)\n",
    "vectorizer.fit(processed_train)\n",
    "\n",
    "print('Размер словаря: ', len(vectorizer.vocabulary_))\n",
    "\n",
    "words_train = vectorizer.transform(processed_train)\n",
    "words_test = vectorizer.transform(processed_test)"
   ]
  },
  {
   "cell_type": "markdown",
   "metadata": {},
   "source": [
    "#### One-hot"
   ]
  },
  {
   "cell_type": "code",
   "execution_count": 20,
   "metadata": {},
   "outputs": [],
   "source": [
    "author_lb = LabelBinarizer()\n",
    "\n",
    "author_lb.fit(author_train)\n",
    "author_train_hot = author_lb.transform(author_train)\n",
    "author_test_hot = author_lb.transform(author_test)"
   ]
  },
  {
   "cell_type": "markdown",
   "metadata": {},
   "source": [
    "### Реализации"
   ]
  },
  {
   "cell_type": "markdown",
   "metadata": {},
   "source": [
    "**Объявление архитектуры**\n",
    "\n",
    "Ссылка: https://machinelearningmastery.com/develop-n-gram-multichannel-convolutional-neural-network-sentiment-analysis/"
   ]
  },
  {
   "cell_type": "code",
   "execution_count": 21,
   "metadata": {
    "collapsed": true,
    "jupyter": {
     "outputs_hidden": true
    }
   },
   "outputs": [],
   "source": [
    "def define_model(input_len: int, output_size: int, vocab_size : int, embedding_dim: int, verbose: bool = True,\n",
    "                drop_out_pct: float = 0.25, conv_filters: int = 500, activation_fn: str = 'relu', pool_size: int = 2, learning: float = 0.0001):\n",
    "    \"\"\"n-gram CNN\n",
    "    \n",
    "    Args:\n",
    "    input_len: Длина входных последовательностей.\n",
    "    output_size: Число классов.\n",
    "    vocab_size: Максимальное число n-граммы.\n",
    "    embedding_dim: Размер скрытого слоя.\n",
    "    verbose: Выводить ли описание модели.\n",
    "    drop_out_pct: Drop-out rate.\n",
    "    conv_filters: Число фильтров в свёрточном слое.\n",
    "    activation_fn: Функция активации свёрточного слоя.\n",
    "    pool_size: Для MaxPooling слоя.\n",
    "    learning: Коэффициент для оптимизатора.\n",
    "    \n",
    "    \"\"\"\n",
    "    # Канал 1\n",
    "    inputs1 = Input(shape=(input_len,))\n",
    "    embedding1 = Embedding(vocab_size, embedding_dim)(inputs1)\n",
    "    drop1 = Dropout(drop_out_pct)(embedding1)\n",
    "    conv1 = Conv1D(filters=conv_filters, kernel_size=3, activation=activation_fn)(drop1)\n",
    "    pool1 = MaxPooling1D(pool_size=pool_size)(conv1)\n",
    "    flat1 = Flatten()(pool1)\n",
    "    \n",
    "    # Канал 2\n",
    "    inputs2 = Input(shape=(input_len,))\n",
    "    embedding2 = Embedding(vocab_size, embedding_dim)(inputs2)\n",
    "    drop2 = Dropout(drop_out_pct)(embedding2)\n",
    "    conv2 = Conv1D(filters=conv_filters, kernel_size=4, activation=activation_fn)(drop2)\n",
    "    pool2 = MaxPooling1D(pool_size=pool_size)(conv2)\n",
    "    flat2 = Flatten()(pool2)\n",
    "\n",
    "    # Канал 3\n",
    "    inputs3 = Input(shape=(input_len,))\n",
    "    embedding3= Embedding(vocab_size, embedding_dim)(inputs3)\n",
    "    drop3 = Dropout(drop_out_pct)(embedding3)\n",
    "    conv3 = Conv1D(filters=conv_filters, kernel_size=5, activation=activation_fn)(drop3)\n",
    "    pool3 = MaxPooling1D(pool_size=pool_size)(conv3)\n",
    "    flat3 = Flatten()(pool3)\n",
    "    \n",
    "    # Слияние каналов\n",
    "    merged = concatenate([flat1, flat2, flat3])\n",
    "    \n",
    "    # Выходной слой\n",
    "    output = Dense(output_size, activation='softmax')(merged)\n",
    "    \n",
    "    # Итоговая модель\n",
    "    model = Model(inputs=[inputs1, inputs2, inputs3], outputs=output)\n",
    "    \n",
    "    # Её компиляция\n",
    "    model.compile(loss='categorical_crossentropy', optimizer=Adam(lr=learning), metrics=['accuracy'])\n",
    "    \n",
    "    if verbose:\n",
    "        print(model.summary())\n",
    "        \n",
    "    return model"
   ]
  },
  {
   "cell_type": "markdown",
   "metadata": {},
   "source": [
    "#### 1-грамм модель"
   ]
  },
  {
   "cell_type": "code",
   "execution_count": 22,
   "metadata": {},
   "outputs": [
    {
     "name": "stdout",
     "output_type": "stream",
     "text": [
      "Model: \"functional_1\"\n",
      "__________________________________________________________________________________________________\n",
      "Layer (type)                    Output Shape         Param #     Connected to                     \n",
      "==================================================================================================\n",
      "input_1 (InputLayer)            [(None, 350)]        0                                            \n",
      "__________________________________________________________________________________________________\n",
      "input_2 (InputLayer)            [(None, 350)]        0                                            \n",
      "__________________________________________________________________________________________________\n",
      "input_3 (InputLayer)            [(None, 350)]        0                                            \n",
      "__________________________________________________________________________________________________\n",
      "embedding (Embedding)           (None, 350, 26)      3172        input_1[0][0]                    \n",
      "__________________________________________________________________________________________________\n",
      "embedding_1 (Embedding)         (None, 350, 26)      3172        input_2[0][0]                    \n",
      "__________________________________________________________________________________________________\n",
      "embedding_2 (Embedding)         (None, 350, 26)      3172        input_3[0][0]                    \n",
      "__________________________________________________________________________________________________\n",
      "dropout (Dropout)               (None, 350, 26)      0           embedding[0][0]                  \n",
      "__________________________________________________________________________________________________\n",
      "dropout_1 (Dropout)             (None, 350, 26)      0           embedding_1[0][0]                \n",
      "__________________________________________________________________________________________________\n",
      "dropout_2 (Dropout)             (None, 350, 26)      0           embedding_2[0][0]                \n",
      "__________________________________________________________________________________________________\n",
      "conv1d (Conv1D)                 (None, 348, 500)     39500       dropout[0][0]                    \n",
      "__________________________________________________________________________________________________\n",
      "conv1d_1 (Conv1D)               (None, 347, 500)     52500       dropout_1[0][0]                  \n",
      "__________________________________________________________________________________________________\n",
      "conv1d_2 (Conv1D)               (None, 346, 500)     65500       dropout_2[0][0]                  \n",
      "__________________________________________________________________________________________________\n",
      "max_pooling1d (MaxPooling1D)    (None, 174, 500)     0           conv1d[0][0]                     \n",
      "__________________________________________________________________________________________________\n",
      "max_pooling1d_1 (MaxPooling1D)  (None, 173, 500)     0           conv1d_1[0][0]                   \n",
      "__________________________________________________________________________________________________\n",
      "max_pooling1d_2 (MaxPooling1D)  (None, 173, 500)     0           conv1d_2[0][0]                   \n",
      "__________________________________________________________________________________________________\n",
      "flatten (Flatten)               (None, 87000)        0           max_pooling1d[0][0]              \n",
      "__________________________________________________________________________________________________\n",
      "flatten_1 (Flatten)             (None, 86500)        0           max_pooling1d_1[0][0]            \n",
      "__________________________________________________________________________________________________\n",
      "flatten_2 (Flatten)             (None, 86500)        0           max_pooling1d_2[0][0]            \n",
      "__________________________________________________________________________________________________\n",
      "concatenate (Concatenate)       (None, 260000)       0           flatten[0][0]                    \n",
      "                                                                 flatten_1[0][0]                  \n",
      "                                                                 flatten_2[0][0]                  \n",
      "__________________________________________________________________________________________________\n",
      "dense (Dense)                   (None, 3)            780003      concatenate[0][0]                \n",
      "==================================================================================================\n",
      "Total params: 947,019\n",
      "Trainable params: 947,019\n",
      "Non-trainable params: 0\n",
      "__________________________________________________________________________________________________\n",
      "None\n"
     ]
    }
   ],
   "source": [
    "gram1_model = define_model(350, authors_count, max_1gram + 1, 26)"
   ]
  },
  {
   "cell_type": "code",
   "execution_count": 23,
   "metadata": {},
   "outputs": [
    {
     "name": "stdout",
     "output_type": "stream",
     "text": [
      "Epoch 1/10\n",
      "1080/1080 [==============================] - 17s 16ms/step - loss: 1.0694 - accuracy: 0.4190 - val_loss: 1.0421 - val_accuracy: 0.4601\n",
      "Epoch 2/10\n",
      "1080/1080 [==============================] - 16s 15ms/step - loss: 1.0112 - accuracy: 0.4873 - val_loss: 1.0112 - val_accuracy: 0.4887\n",
      "Epoch 3/10\n",
      "1080/1080 [==============================] - 16s 15ms/step - loss: 0.9790 - accuracy: 0.5133 - val_loss: 1.0005 - val_accuracy: 0.5021\n",
      "Epoch 4/10\n",
      "1080/1080 [==============================] - 17s 15ms/step - loss: 0.9546 - accuracy: 0.5306 - val_loss: 0.9975 - val_accuracy: 0.5045\n",
      "Epoch 5/10\n",
      "1080/1080 [==============================] - 16s 15ms/step - loss: 0.9277 - accuracy: 0.5549 - val_loss: 0.9868 - val_accuracy: 0.5198\n",
      "Epoch 6/10\n",
      "1080/1080 [==============================] - 16s 15ms/step - loss: 0.9030 - accuracy: 0.5717 - val_loss: 0.9853 - val_accuracy: 0.5194\n",
      "Epoch 7/10\n",
      "1080/1080 [==============================] - 16s 15ms/step - loss: 0.8792 - accuracy: 0.5898 - val_loss: 0.9911 - val_accuracy: 0.5193\n",
      "Epoch 8/10\n",
      "1080/1080 [==============================] - 16s 15ms/step - loss: 0.8550 - accuracy: 0.6057 - val_loss: 0.9879 - val_accuracy: 0.5260\n",
      "Epoch 9/10\n",
      "1080/1080 [==============================] - 16s 15ms/step - loss: 0.8325 - accuracy: 0.6193 - val_loss: 0.9810 - val_accuracy: 0.5330\n",
      "Epoch 10/10\n",
      "1080/1080 [==============================] - 16s 14ms/step - loss: 0.8109 - accuracy: 0.6308 - val_loss: 0.9911 - val_accuracy: 0.5245\n"
     ]
    }
   ],
   "source": [
    "gram1_model_history = gram1_model.fit([gram1_train, gram1_train, gram1_train], author_train_hot, epochs=10, batch_size=32, \n",
    "                verbose = 1, validation_split = 0.2)"
   ]
  },
  {
   "cell_type": "markdown",
   "metadata": {},
   "source": [
    "#### Биграммная модель"
   ]
  },
  {
   "cell_type": "code",
   "execution_count": 24,
   "metadata": {},
   "outputs": [
    {
     "name": "stdout",
     "output_type": "stream",
     "text": [
      "Model: \"functional_3\"\n",
      "__________________________________________________________________________________________________\n",
      "Layer (type)                    Output Shape         Param #     Connected to                     \n",
      "==================================================================================================\n",
      "input_4 (InputLayer)            [(None, 350)]        0                                            \n",
      "__________________________________________________________________________________________________\n",
      "input_5 (InputLayer)            [(None, 350)]        0                                            \n",
      "__________________________________________________________________________________________________\n",
      "input_6 (InputLayer)            [(None, 350)]        0                                            \n",
      "__________________________________________________________________________________________________\n",
      "embedding_3 (Embedding)         (None, 350, 300)     1130700     input_4[0][0]                    \n",
      "__________________________________________________________________________________________________\n",
      "embedding_4 (Embedding)         (None, 350, 300)     1130700     input_5[0][0]                    \n",
      "__________________________________________________________________________________________________\n",
      "embedding_5 (Embedding)         (None, 350, 300)     1130700     input_6[0][0]                    \n",
      "__________________________________________________________________________________________________\n",
      "dropout_3 (Dropout)             (None, 350, 300)     0           embedding_3[0][0]                \n",
      "__________________________________________________________________________________________________\n",
      "dropout_4 (Dropout)             (None, 350, 300)     0           embedding_4[0][0]                \n",
      "__________________________________________________________________________________________________\n",
      "dropout_5 (Dropout)             (None, 350, 300)     0           embedding_5[0][0]                \n",
      "__________________________________________________________________________________________________\n",
      "conv1d_3 (Conv1D)               (None, 348, 500)     450500      dropout_3[0][0]                  \n",
      "__________________________________________________________________________________________________\n",
      "conv1d_4 (Conv1D)               (None, 347, 500)     600500      dropout_4[0][0]                  \n",
      "__________________________________________________________________________________________________\n",
      "conv1d_5 (Conv1D)               (None, 346, 500)     750500      dropout_5[0][0]                  \n",
      "__________________________________________________________________________________________________\n",
      "max_pooling1d_3 (MaxPooling1D)  (None, 174, 500)     0           conv1d_3[0][0]                   \n",
      "__________________________________________________________________________________________________\n",
      "max_pooling1d_4 (MaxPooling1D)  (None, 173, 500)     0           conv1d_4[0][0]                   \n",
      "__________________________________________________________________________________________________\n",
      "max_pooling1d_5 (MaxPooling1D)  (None, 173, 500)     0           conv1d_5[0][0]                   \n",
      "__________________________________________________________________________________________________\n",
      "flatten_3 (Flatten)             (None, 87000)        0           max_pooling1d_3[0][0]            \n",
      "__________________________________________________________________________________________________\n",
      "flatten_4 (Flatten)             (None, 86500)        0           max_pooling1d_4[0][0]            \n",
      "__________________________________________________________________________________________________\n",
      "flatten_5 (Flatten)             (None, 86500)        0           max_pooling1d_5[0][0]            \n",
      "__________________________________________________________________________________________________\n",
      "concatenate_1 (Concatenate)     (None, 260000)       0           flatten_3[0][0]                  \n",
      "                                                                 flatten_4[0][0]                  \n",
      "                                                                 flatten_5[0][0]                  \n",
      "__________________________________________________________________________________________________\n",
      "dense_1 (Dense)                 (None, 3)            780003      concatenate_1[0][0]              \n",
      "==================================================================================================\n",
      "Total params: 5,973,603\n",
      "Trainable params: 5,973,603\n",
      "Non-trainable params: 0\n",
      "__________________________________________________________________________________________________\n",
      "None\n"
     ]
    }
   ],
   "source": [
    "gram2_model = define_model(350, authors_count, max_2gram + 1, 300)"
   ]
  },
  {
   "cell_type": "code",
   "execution_count": 25,
   "metadata": {},
   "outputs": [
    {
     "name": "stdout",
     "output_type": "stream",
     "text": [
      "Epoch 1/10\n",
      "1080/1080 [==============================] - 76s 70ms/step - loss: 1.0426 - accuracy: 0.4558 - val_loss: 0.9598 - val_accuracy: 0.5507\n",
      "Epoch 2/10\n",
      "1080/1080 [==============================] - 76s 71ms/step - loss: 0.8775 - accuracy: 0.5968 - val_loss: 0.8955 - val_accuracy: 0.5797\n",
      "Epoch 3/10\n",
      "1080/1080 [==============================] - 75s 69ms/step - loss: 0.7801 - accuracy: 0.6517 - val_loss: 0.8618 - val_accuracy: 0.6017\n",
      "Epoch 4/10\n",
      "1080/1080 [==============================] - 75s 69ms/step - loss: 0.7016 - accuracy: 0.6991 - val_loss: 0.8497 - val_accuracy: 0.6104\n",
      "Epoch 5/10\n",
      "1080/1080 [==============================] - 74s 69ms/step - loss: 0.6257 - accuracy: 0.7391 - val_loss: 0.8522 - val_accuracy: 0.6119\n",
      "Epoch 6/10\n",
      "1080/1080 [==============================] - 75s 69ms/step - loss: 0.5565 - accuracy: 0.7771 - val_loss: 0.8734 - val_accuracy: 0.6088\n",
      "Epoch 7/10\n",
      "1080/1080 [==============================] - 75s 69ms/step - loss: 0.4928 - accuracy: 0.8109 - val_loss: 0.9048 - val_accuracy: 0.6042\n",
      "Epoch 8/10\n",
      "1080/1080 [==============================] - 75s 69ms/step - loss: 0.4358 - accuracy: 0.8372 - val_loss: 0.9282 - val_accuracy: 0.6038\n",
      "Epoch 9/10\n",
      "1080/1080 [==============================] - 74s 69ms/step - loss: 0.3851 - accuracy: 0.8629 - val_loss: 0.9454 - val_accuracy: 0.6028\n",
      "Epoch 10/10\n",
      "1080/1080 [==============================] - 75s 70ms/step - loss: 0.3404 - accuracy: 0.8837 - val_loss: 0.9827 - val_accuracy: 0.5972\n"
     ]
    }
   ],
   "source": [
    "gram2_model_history = gram2_model.fit([gram2_train, gram2_train, gram2_train], author_train_hot, epochs=10, batch_size=32, \n",
    "                verbose = 1, validation_split = 0.2)"
   ]
  },
  {
   "cell_type": "markdown",
   "metadata": {},
   "source": [
    "#### Триграммная модель"
   ]
  },
  {
   "cell_type": "code",
   "execution_count": 26,
   "metadata": {},
   "outputs": [
    {
     "name": "stdout",
     "output_type": "stream",
     "text": [
      "Model: \"functional_5\"\n",
      "__________________________________________________________________________________________________\n",
      "Layer (type)                    Output Shape         Param #     Connected to                     \n",
      "==================================================================================================\n",
      "input_7 (InputLayer)            [(None, 350)]        0                                            \n",
      "__________________________________________________________________________________________________\n",
      "input_8 (InputLayer)            [(None, 350)]        0                                            \n",
      "__________________________________________________________________________________________________\n",
      "input_9 (InputLayer)            [(None, 350)]        0                                            \n",
      "__________________________________________________________________________________________________\n",
      "embedding_6 (Embedding)         (None, 350, 600)     19588800    input_7[0][0]                    \n",
      "__________________________________________________________________________________________________\n",
      "embedding_7 (Embedding)         (None, 350, 600)     19588800    input_8[0][0]                    \n",
      "__________________________________________________________________________________________________\n",
      "embedding_8 (Embedding)         (None, 350, 600)     19588800    input_9[0][0]                    \n",
      "__________________________________________________________________________________________________\n",
      "dropout_6 (Dropout)             (None, 350, 600)     0           embedding_6[0][0]                \n",
      "__________________________________________________________________________________________________\n",
      "dropout_7 (Dropout)             (None, 350, 600)     0           embedding_7[0][0]                \n",
      "__________________________________________________________________________________________________\n",
      "dropout_8 (Dropout)             (None, 350, 600)     0           embedding_8[0][0]                \n",
      "__________________________________________________________________________________________________\n",
      "conv1d_6 (Conv1D)               (None, 348, 500)     900500      dropout_6[0][0]                  \n",
      "__________________________________________________________________________________________________\n",
      "conv1d_7 (Conv1D)               (None, 347, 500)     1200500     dropout_7[0][0]                  \n",
      "__________________________________________________________________________________________________\n",
      "conv1d_8 (Conv1D)               (None, 346, 500)     1500500     dropout_8[0][0]                  \n",
      "__________________________________________________________________________________________________\n",
      "max_pooling1d_6 (MaxPooling1D)  (None, 174, 500)     0           conv1d_6[0][0]                   \n",
      "__________________________________________________________________________________________________\n",
      "max_pooling1d_7 (MaxPooling1D)  (None, 173, 500)     0           conv1d_7[0][0]                   \n",
      "__________________________________________________________________________________________________\n",
      "max_pooling1d_8 (MaxPooling1D)  (None, 173, 500)     0           conv1d_8[0][0]                   \n",
      "__________________________________________________________________________________________________\n",
      "flatten_6 (Flatten)             (None, 87000)        0           max_pooling1d_6[0][0]            \n",
      "__________________________________________________________________________________________________\n",
      "flatten_7 (Flatten)             (None, 86500)        0           max_pooling1d_7[0][0]            \n",
      "__________________________________________________________________________________________________\n",
      "flatten_8 (Flatten)             (None, 86500)        0           max_pooling1d_8[0][0]            \n",
      "__________________________________________________________________________________________________\n",
      "concatenate_2 (Concatenate)     (None, 260000)       0           flatten_6[0][0]                  \n",
      "                                                                 flatten_7[0][0]                  \n",
      "                                                                 flatten_8[0][0]                  \n",
      "__________________________________________________________________________________________________\n",
      "dense_2 (Dense)                 (None, 3)            780003      concatenate_2[0][0]              \n",
      "==================================================================================================\n",
      "Total params: 63,147,903\n",
      "Trainable params: 63,147,903\n",
      "Non-trainable params: 0\n",
      "__________________________________________________________________________________________________\n",
      "None\n"
     ]
    }
   ],
   "source": [
    "t0 = time.time()\n",
    "gram3_model = define_model(350, authors_count, max_3gram + 1, 600)"
   ]
  },
  {
   "cell_type": "code",
   "execution_count": 27,
   "metadata": {},
   "outputs": [
    {
     "name": "stdout",
     "output_type": "stream",
     "text": [
      "Epoch 1/10\n",
      "1080/1080 [==============================] - 1031s 954ms/step - loss: 1.0163 - accuracy: 0.4762 - val_loss: 0.8834 - val_accuracy: 0.5861\n",
      "Epoch 2/10\n",
      "1080/1080 [==============================] - 1051s 973ms/step - loss: 0.7003 - accuracy: 0.6947 - val_loss: 0.7589 - val_accuracy: 0.6539\n",
      "Epoch 3/10\n",
      "1080/1080 [==============================] - 1032s 955ms/step - loss: 0.5146 - accuracy: 0.7898 - val_loss: 0.7939 - val_accuracy: 0.6478\n",
      "Epoch 4/10\n",
      "1080/1080 [==============================] - 1028s 952ms/step - loss: 0.3738 - accuracy: 0.8585 - val_loss: 0.8300 - val_accuracy: 0.6562\n",
      "Epoch 5/10\n",
      "1080/1080 [==============================] - 1029s 953ms/step - loss: 0.2514 - accuracy: 0.9179 - val_loss: 0.9262 - val_accuracy: 0.6554\n",
      "Epoch 6/10\n",
      "1080/1080 [==============================] - 1032s 956ms/step - loss: 0.1655 - accuracy: 0.9517 - val_loss: 1.0595 - val_accuracy: 0.6495\n",
      "Epoch 7/10\n",
      "1080/1080 [==============================] - 1045s 968ms/step - loss: 0.1091 - accuracy: 0.9690 - val_loss: 1.1943 - val_accuracy: 0.6478\n",
      "Epoch 8/10\n",
      "1080/1080 [==============================] - 1054s 976ms/step - loss: 0.0784 - accuracy: 0.9771 - val_loss: 1.3503 - val_accuracy: 0.6447\n",
      "Epoch 9/10\n",
      "1080/1080 [==============================] - 1061s 982ms/step - loss: 0.0612 - accuracy: 0.9806 - val_loss: 1.4912 - val_accuracy: 0.6392\n",
      "Epoch 10/10\n",
      "1080/1080 [==============================] - 1065s 986ms/step - loss: 0.0526 - accuracy: 0.9828 - val_loss: 1.5935 - val_accuracy: 0.6362\n"
     ]
    }
   ],
   "source": [
    "gram3_model_history = gram3_model.fit([gram3_train, gram3_train, gram3_train], author_train_hot, epochs=10, batch_size=32, \n",
    "                verbose=1, validation_split=0.2)\n",
    "t1 = time.time()"
   ]
  },
  {
   "cell_type": "code",
   "execution_count": 28,
   "metadata": {},
   "outputs": [
    {
     "name": "stdout",
     "output_type": "stream",
     "text": [
      "Точность: 0.6527777777777778\n",
      "Средний Precision: 0.6525243768637694\n",
      "Средний Recall: 0.6527777777777778\n",
      "Средний F1 Score: 0.6526076926579742\n",
      "Время обучения: 10437.556854724884 секунд\n",
      "Время предсказания: 7.6699676513671875 секунд\n",
      "Матрица соответствий:\n",
      " [[2467  604  534]\n",
      " [ 619 2206  733]\n",
      " [ 587  673 2377]]\n"
     ]
    }
   ],
   "source": [
    "author_pred1 = gram3_model.predict([gram3_test, gram3_test, gram3_test])\n",
    "\n",
    "t2 = time.time()\n",
    "\n",
    "author_pred1 = author_lb.inverse_transform(author_pred1)\n",
    "\n",
    "# Расчёт статистики\n",
    "accuracy = accuracy_score(author_test, author_pred1)\n",
    "precision, recall, f1, support = score(author_test, author_pred1)\n",
    "ave_precision = np.average(precision, weights = support/np.sum(support))\n",
    "ave_recall = np.average(recall, weights = support/np.sum(support))\n",
    "ave_f1 = np.average(f1, weights = support/np.sum(support))\n",
    "confusion = confusion_matrix(author_test, author_pred1, labels=authors_names)\n",
    "    \n",
    "print('Точность:', accuracy)\n",
    "print('Средний Precision:', ave_precision)\n",
    "print('Средний Recall:', ave_recall)\n",
    "print('Средний F1 Score:', ave_f1)\n",
    "print('Время обучения:', (t1 - t0), 'секунд')\n",
    "print('Время предсказания:', (t2 - t1), 'секунд')\n",
    "print('Матрица соответствий:\\n', confusion)"
   ]
  },
  {
   "cell_type": "code",
   "execution_count": 29,
   "metadata": {},
   "outputs": [
    {
     "name": "stdout",
     "output_type": "stream",
     "text": [
      "Нормализованная матрица соответствий\n",
      "[[0.68432732 0.16754508 0.1481276 ]\n",
      " [0.17397414 0.62001124 0.20601461]\n",
      " [0.16139676 0.18504262 0.65356063]]\n"
     ]
    },
    {
     "data": {
      "image/png": "[encoded data removed]",
      "text/plain": [
       "<Figure size 432x288 with 2 Axes>"
      ]
     },
     "metadata": {
      "needs_background": "light"
     },
     "output_type": "display_data"
    }
   ],
   "source": [
    "plot_confusion_matrix(confusion, classes=authors_names, \\\n",
    "                      normalize=True, title='Нормализованная матрица соответствий - Модель 1')\n",
    "\n",
    "plt.savefig('confusion_model1.png')"
   ]
  },
  {
   "cell_type": "code",
   "execution_count": 30,
   "metadata": {},
   "outputs": [
    {
     "data": {
      "image/png": "[encoded data removed]",
      "text/plain": [
       "<Figure size 432x288 with 1 Axes>"
      ]
     },
     "metadata": {
      "needs_background": "light"
     },
     "output_type": "display_data"
    }
   ],
   "source": [
    "plot_history_of_accurancy(gram3_model_history)\n",
    "plt.savefig('accurancy_model1.png')"
   ]
  },
  {
   "cell_type": "code",
   "execution_count": 31,
   "metadata": {},
   "outputs": [
    {
     "data": {
      "image/png": "[encoded data removed]",
      "text/plain": [
       "<Figure size 432x288 with 1 Axes>"
      ]
     },
     "metadata": {
      "needs_background": "light"
     },
     "output_type": "display_data"
    }
   ],
   "source": [
    "plot_history_of_loss(gram3_model_history)\n",
    "plt.savefig('loss_model1.png')"
   ]
  },
  {
   "cell_type": "code",
   "execution_count": 35,
   "metadata": {},
   "outputs": [
    {
     "data": {
      "image/png": "[encoded data removed]",
      "text/plain": [
       "<IPython.core.display.Image object>"
      ]
     },
     "execution_count": 35,
     "metadata": {},
     "output_type": "execute_result"
    }
   ],
   "source": [
    "keras.utils.plot_model(gram3_model, 'gram3_model1_arh.png')"
   ]
  },
  {
   "cell_type": "markdown",
   "metadata": {},
   "source": [
    "Лучшие результаты по точности показала триграммная модель, потому основной стоит выбрать её.\n",
    "\n",
    "Улучшенную версию стоит обучать всего 5 эпох, т.к. на графике виден выход на плато и даже спад точности модели после этого момента."
   ]
  },
  {
   "cell_type": "markdown",
   "metadata": {},
   "source": [
    "### Усовершенствование"
   ]
  },
  {
   "cell_type": "markdown",
   "metadata": {},
   "source": [
    "#### Добавление дополнительного канала CNN"
   ]
  },
  {
   "cell_type": "markdown",
   "metadata": {},
   "source": [
    "Переобучение триграммной модели с добавлением дополнительного канала.\n",
    "\n",
    "Ссылка: https://machinelearningmastery.com/develop-n-gram-multichannel-convolutional-neural-network-sentiment-analysis/"
   ]
  },
  {
   "cell_type": "code",
   "execution_count": 32,
   "metadata": {
    "collapsed": true,
    "jupyter": {
     "outputs_hidden": true
    }
   },
   "outputs": [],
   "source": [
    "def define_model2(input_len: int, output_size: int, vocab_size: int, embedding_dim: int, verbose: bool = True,\n",
    "                drop_out_pct: float = 0.25, conv_filters: int = 500, activation_fn: str = 'relu', pool_size:int = 2, learning: float = 0.0001):\n",
    "    \n",
    "    # Канал 1\n",
    "    inputs1 = Input(shape=(input_len,))\n",
    "    embedding1 = Embedding(vocab_size, embedding_dim)(inputs1)\n",
    "    drop1 = Dropout(drop_out_pct)(embedding1)\n",
    "    conv1 = Conv1D(filters=conv_filters, kernel_size=3, activation=activation_fn)(drop1)\n",
    "    pool1 = MaxPooling1D(pool_size=pool_size)(conv1)\n",
    "    flat1 = Flatten()(pool1)\n",
    "    \n",
    "    # Канал 2\n",
    "    inputs2 = Input(shape=(input_len,))\n",
    "    embedding2 = Embedding(vocab_size, embedding_dim)(inputs2)\n",
    "    drop2 = Dropout(drop_out_pct)(embedding2)\n",
    "    conv2 = Conv1D(filters=conv_filters, kernel_size=4, activation=activation_fn)(drop2)\n",
    "    pool2 = MaxPooling1D(pool_size=pool_size)(conv2)\n",
    "    flat2 = Flatten()(pool2)\n",
    "\n",
    "    # Канал 3\n",
    "    inputs3 = Input(shape=(input_len,))\n",
    "    embedding3= Embedding(vocab_size, embedding_dim)(inputs3)\n",
    "    drop3 = Dropout(drop_out_pct)(embedding3)\n",
    "    conv3 = Conv1D(filters=conv_filters, kernel_size=5, activation=activation_fn)(drop3)\n",
    "    pool3 = MaxPooling1D(pool_size=pool_size)(conv3)\n",
    "    flat3 = Flatten()(pool3)\n",
    "    \n",
    "    # Канал 4\n",
    "    inputs4 = Input(shape=(input_len,))\n",
    "    embedding4 = Embedding(vocab_size, embedding_dim)(inputs4)\n",
    "    drop4 = Dropout(drop_out_pct)(embedding4)\n",
    "    conv4 = Conv1D(filters=conv_filters, kernel_size=6, activation=activation_fn)(drop4)\n",
    "    pool4 = MaxPooling1D(pool_size=pool_size)(conv4)\n",
    "    flat4 = Flatten()(pool4)\n",
    "    \n",
    "    # Слияние каналов\n",
    "    merged = concatenate([flat1, flat2, flat3, flat4])\n",
    "    \n",
    "    # Создание выходного канала\n",
    "    output = Dense(output_size, activation='softmax')(merged)\n",
    "    \n",
    "    # Создание модели\n",
    "    model = Model(inputs = [inputs1, inputs2, inputs3, inputs4], outputs = output)\n",
    "    \n",
    "    # И её компиляция\n",
    "    model.compile(loss='categorical_crossentropy', optimizer=Adam(lr=learning), metrics=['accuracy'])\n",
    "    \n",
    "    if verbose:\n",
    "        print(model.summary())\n",
    "        \n",
    "    return model"
   ]
  },
  {
   "cell_type": "markdown",
   "metadata": {},
   "source": [
    "#### Триграммная модель"
   ]
  },
  {
   "cell_type": "code",
   "execution_count": 37,
   "metadata": {},
   "outputs": [
    {
     "name": "stdout",
     "output_type": "stream",
     "text": [
      "Model: \"functional_11\"\n",
      "__________________________________________________________________________________________________\n",
      "Layer (type)                    Output Shape         Param #     Connected to                     \n",
      "==================================================================================================\n",
      "input_18 (InputLayer)           [(None, 350)]        0                                            \n",
      "__________________________________________________________________________________________________\n",
      "input_19 (InputLayer)           [(None, 350)]        0                                            \n",
      "__________________________________________________________________________________________________\n",
      "input_20 (InputLayer)           [(None, 350)]        0                                            \n",
      "__________________________________________________________________________________________________\n",
      "input_21 (InputLayer)           [(None, 350)]        0                                            \n",
      "__________________________________________________________________________________________________\n",
      "embedding_17 (Embedding)        (None, 350, 600)     19588800    input_18[0][0]                   \n",
      "__________________________________________________________________________________________________\n",
      "embedding_18 (Embedding)        (None, 350, 600)     19588800    input_19[0][0]                   \n",
      "__________________________________________________________________________________________________\n",
      "embedding_19 (Embedding)        (None, 350, 600)     19588800    input_20[0][0]                   \n",
      "__________________________________________________________________________________________________\n",
      "embedding_20 (Embedding)        (None, 350, 600)     19588800    input_21[0][0]                   \n",
      "__________________________________________________________________________________________________\n",
      "dropout_17 (Dropout)            (None, 350, 600)     0           embedding_17[0][0]               \n",
      "__________________________________________________________________________________________________\n",
      "dropout_18 (Dropout)            (None, 350, 600)     0           embedding_18[0][0]               \n",
      "__________________________________________________________________________________________________\n",
      "dropout_19 (Dropout)            (None, 350, 600)     0           embedding_19[0][0]               \n",
      "__________________________________________________________________________________________________\n",
      "dropout_20 (Dropout)            (None, 350, 600)     0           embedding_20[0][0]               \n",
      "__________________________________________________________________________________________________\n",
      "conv1d_17 (Conv1D)              (None, 348, 500)     900500      dropout_17[0][0]                 \n",
      "__________________________________________________________________________________________________\n",
      "conv1d_18 (Conv1D)              (None, 347, 500)     1200500     dropout_18[0][0]                 \n",
      "__________________________________________________________________________________________________\n",
      "conv1d_19 (Conv1D)              (None, 346, 500)     1500500     dropout_19[0][0]                 \n",
      "__________________________________________________________________________________________________\n",
      "conv1d_20 (Conv1D)              (None, 345, 500)     1800500     dropout_20[0][0]                 \n",
      "__________________________________________________________________________________________________\n",
      "max_pooling1d_17 (MaxPooling1D) (None, 174, 500)     0           conv1d_17[0][0]                  \n",
      "__________________________________________________________________________________________________\n",
      "max_pooling1d_18 (MaxPooling1D) (None, 173, 500)     0           conv1d_18[0][0]                  \n",
      "__________________________________________________________________________________________________\n",
      "max_pooling1d_19 (MaxPooling1D) (None, 173, 500)     0           conv1d_19[0][0]                  \n",
      "__________________________________________________________________________________________________\n",
      "max_pooling1d_20 (MaxPooling1D) (None, 172, 500)     0           conv1d_20[0][0]                  \n",
      "__________________________________________________________________________________________________\n",
      "flatten_17 (Flatten)            (None, 87000)        0           max_pooling1d_17[0][0]           \n",
      "__________________________________________________________________________________________________\n",
      "flatten_18 (Flatten)            (None, 86500)        0           max_pooling1d_18[0][0]           \n",
      "__________________________________________________________________________________________________\n",
      "flatten_19 (Flatten)            (None, 86500)        0           max_pooling1d_19[0][0]           \n",
      "__________________________________________________________________________________________________\n",
      "flatten_20 (Flatten)            (None, 86000)        0           max_pooling1d_20[0][0]           \n",
      "__________________________________________________________________________________________________\n",
      "concatenate_5 (Concatenate)     (None, 346000)       0           flatten_17[0][0]                 \n",
      "                                                                 flatten_18[0][0]                 \n",
      "                                                                 flatten_19[0][0]                 \n",
      "                                                                 flatten_20[0][0]                 \n",
      "__________________________________________________________________________________________________\n",
      "dense_5 (Dense)                 (None, 3)            1038003     concatenate_5[0][0]              \n",
      "==================================================================================================\n",
      "Total params: 84,795,203\n",
      "Trainable params: 84,795,203\n",
      "Non-trainable params: 0\n",
      "__________________________________________________________________________________________________\n",
      "None\n"
     ]
    }
   ],
   "source": [
    "t0 = time.time()\n",
    "gram3_model2 = define_model2(350, authors_count, max_3gram + 1, 600)"
   ]
  },
  {
   "cell_type": "code",
   "execution_count": null,
   "metadata": {},
   "outputs": [
    {
     "name": "stdout",
     "output_type": "stream",
     "text": [
      "Epoch 1/5\n",
      " 244/1080 [=====>........................] - ETA: 17:49 - loss: 1.0911 - accuracy: 0.3920"
     ]
    }
   ],
   "source": [
    "gram3_model2_history = gram3_model2.fit([gram3_train, gram3_train, gram3_train, gram3_train], author_train_hot, epochs=5, batch_size=32, \n",
    "                verbose=1, validation_split=0.2)\n",
    "t1 = time.time()"
   ]
  },
  {
   "cell_type": "code",
   "execution_count": null,
   "metadata": {},
   "outputs": [],
   "source": [
    "author_pred2 = gram3_model2.predict([gram3_test, gram3_test, gram3_test, gram3_test])\n",
    "\n",
    "t2 = time.time()\n",
    "\n",
    "author_pred2 = author_lb.inverse_transform(author_pred2)\n",
    "\n",
    "# Расчёт статистики\n",
    "accuracy = accuracy_score(author_test, author_pred2)\n",
    "precision, recall, f1, support=score(author_test, author_pred2)\n",
    "ave_precision = np.average(precision, weights=support/np.sum(support))\n",
    "ave_recall = np.average(recall, weights=support/np.sum(support))\n",
    "ave_f1 = np.average(f1, weights=support/np.sum(support))\n",
    "confusion = confusion_matrix(author_test, author_pred2, labels=authors_names)\n",
    "    \n",
    "print('Точность:', accuracy)\n",
    "print('Средний Precision:', ave_precision)\n",
    "print('Средний Recall:', ave_recall)\n",
    "print('Средний F1 Score:', ave_f1)\n",
    "print('Время обучения:', (t1 - t0), 'секунд')\n",
    "print('Время предсказания:', (t2 - t1), 'секунд')\n",
    "print('Матрица соответствий:\\n', confusion)"
   ]
  },
  {
   "cell_type": "code",
   "execution_count": null,
   "metadata": {},
   "outputs": [],
   "source": [
    "plot_confusion_matrix(confusion, classes=authors_names, \\\n",
    "                      normalize=True, title='Нормализованная матрица соответствий - Модель 2')\n",
    "\n",
    "plt.savefig('confusion_model2.png')"
   ]
  },
  {
   "cell_type": "code",
   "execution_count": null,
   "metadata": {},
   "outputs": [],
   "source": [
    "plot_history_of_accurancy(gram3_model2_history)\n",
    "plt.savefig('accurancy_model2.png')"
   ]
  },
  {
   "cell_type": "code",
   "execution_count": null,
   "metadata": {},
   "outputs": [],
   "source": [
    "plot_history_of_loss(gram3_model2_history)\n",
    "plt.savefig('loss_model2.png')"
   ]
  },
  {
   "cell_type": "code",
   "execution_count": null,
   "metadata": {},
   "outputs": [],
   "source": [
    "keras.utils.plot_model(gram3_model2, 'gram3_model2_arh.png')"
   ]
  },
  {
   "cell_type": "markdown",
   "metadata": {},
   "source": [
    "### Анализ получившихся моделей"
   ]
  },
  {
   "cell_type": "markdown",
   "metadata": {},
   "source": [
    "#### Бенчмарки, выбранные случайным образом тесты"
   ]
  },
  {
   "cell_type": "code",
   "execution_count": null,
   "metadata": {},
   "outputs": [],
   "source": [
    "accuracy_list = []\n",
    "prec_list = []\n",
    "recall_list = []\n",
    "f1_list = []\n",
    "\n",
    "for i in range(10):\n",
    "    author_pred3 = np.random.choice(authors_names, len(author_test))\n",
    "\n",
    "    accuracy = accuracy_score(author_test, author_pred3)\n",
    "    precision, recall, f1, support = score(author_test, author_pred3)\n",
    "    ave_precision = np.average(precision, weights = support/np.sum(support))\n",
    "    ave_recall = np.average(recall, weights = support/np.sum(support))\n",
    "    ave_f1 = np.average(f1, weights = support/np.sum(support))\n",
    "    \n",
    "    accuracy_list.append(accuracy)\n",
    "    prec_list.append(ave_precision)\n",
    "    recall_list.append(ave_recall)\n",
    "    f1_list.append(ave_f1)\n",
    "\n",
    "print('Точность:', accuracy_list, np.mean(accuracy_list), np.std(accuracy_list))\n",
    "print('Средний Precision:', prec_list, np.mean(prec_list), np.std(prec_list))\n",
    "print('Средний Recall:', recall_list, np.mean(recall_list), np.std(recall_list))\n",
    "print('Средний F1 Score:', f1_list, np.mean(f1_list), np.std(f1_list))"
   ]
  },
  {
   "cell_type": "markdown",
   "metadata": {},
   "source": [
    "**Исследование неправильно определённых предложений**"
   ]
  },
  {
   "cell_type": "code",
   "execution_count": null,
   "metadata": {},
   "outputs": [],
   "source": [
    "for i in range(100):\n",
    "    print('Предложение', i, '- Правильный ответ =', author_test[i],  'Модель 1 предсказала =', author_pred1[i], \n",
    "         'Модель 2 предсказала =', author_pred2[i])\n",
    "    print(text_test[i], '\\n')"
   ]
  },
  {
   "cell_type": "code",
   "execution_count": null,
   "metadata": {
    "collapsed": true,
    "jupyter": {
     "outputs_hidden": true
    }
   },
   "outputs": [],
   "source": [
    "def calculate_averages(true, pred, text):\n",
    "    \n",
    "    correct_len_chars = []\n",
    "    incorrect_len_chars = []\n",
    "    correct_len_words = []\n",
    "    incorrect_len_words = []\n",
    "\n",
    "    \n",
    "    for i in range(len(true)):\n",
    "        if true[i] == pred[i]:\n",
    "            correct_len_chars.append(len(text[i]))\n",
    "            correct_len_words.append(len(text[i].split()))\n",
    "        else:\n",
    "            incorrect_len_chars.append(len(text[i]))\n",
    "            incorrect_len_words.append(len(text[i].split()))\n",
    "    \n",
    "    correct_ave_chars = np.mean(correct_len_chars)\n",
    "    correct_ave_words = np.mean(correct_len_words)\n",
    "    incorrect_ave_chars = np.mean(incorrect_len_chars)\n",
    "    incorrect_ave_words = np.mean(incorrect_len_words)\n",
    "    \n",
    "    print('t-тест для символов')\n",
    "    print(stats.ttest_ind(correct_len_chars, incorrect_len_chars, equal_var = False))\n",
    "    \n",
    "    print('\\nt-тест для слов')\n",
    "    print(stats.ttest_ind(correct_len_words, incorrect_len_words, equal_var = False))\n",
    "    \n",
    "    return correct_ave_chars, correct_ave_words, incorrect_ave_chars, incorrect_ave_words"
   ]
  },
  {
   "cell_type": "code",
   "execution_count": null,
   "metadata": {},
   "outputs": [],
   "source": [
    "# Calculate averages for Model 1\n",
    "correct_ave_chars1, correct_ave_words1, incorrect_ave_chars1, incorrect_ave_words1\\\n",
    "= calculate_averages(author_test, author_pred1, text_test)"
   ]
  },
  {
   "cell_type": "code",
   "execution_count": null,
   "metadata": {},
   "outputs": [],
   "source": [
    "# Calculate averages for Model 2\n",
    "correct_ave_chars2, correct_ave_words2, incorrect_ave_chars2, incorrect_ave_words2\\\n",
    "= calculate_averages(author_test, author_pred2, text_test)"
   ]
  },
  {
   "cell_type": "code",
   "execution_count": null,
   "metadata": {},
   "outputs": [],
   "source": [
    "print('Модель 1 - Средняя длина в символах правильно предсказанных предложений =', correct_ave_chars1, \n",
    "        ', неправильно предсказанных =', incorrect_ave_chars1)\n",
    "print('Модель 2 - Средняя длина в символах правильно предсказанных предложений =', correct_ave_chars2, \n",
    "      ', неправильно предсказанных =', incorrect_ave_chars2)\n",
    "\n",
    "print('\\nМодель 1 - Средняя длина в словах правильно предсказанных предложений =', correct_ave_words1, \n",
    "        ', неправильно предсказанных =', incorrect_ave_words1)\n",
    "print('Модель 2 - Средняя длина в словах правильно предсказанных предложений =', correct_ave_words2, \n",
    "      ', неправильно предсказанных =', incorrect_ave_words2)"
   ]
  }
 ],
 "metadata": {
  "kernelspec": {
   "display_name": "Python 3",
   "language": "python",
   "name": "python3"
  },
  "language_info": {
   "codemirror_mode": {
    "name": "ipython",
    "version": 3
   },
   "file_extension": ".py",
   "mimetype": "text/x-python",
   "name": "python",
   "nbconvert_exporter": "python",
   "pygments_lexer": "ipython3",
   "version": "3.8.3"
  }
 },
 "nbformat": 4,
 "nbformat_minor": 4
}
