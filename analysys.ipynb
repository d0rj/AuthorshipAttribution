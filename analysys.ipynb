{
 "cells": [
  {
   "cell_type": "markdown",
   "metadata": {
    "_cell_guid": "b1076dfc-b9ad-4769-8c92-a6c4dae69d19",
    "_uuid": "8f2839f25d086af736a60e9eeb907d3b93b6e0e5",
    "papermill": {
     "duration": 0.088086,
     "end_time": "2021-02-06T06:12:05.858718",
     "exception": false,
     "start_time": "2021-02-06T06:12:05.770632",
     "status": "completed"
    },
    "tags": []
   },
   "source": [
    "# NLP: classification task"
   ]
  },
  {
   "cell_type": "markdown",
   "metadata": {
    "papermill": {
     "duration": 0.083789,
     "end_time": "2021-02-06T06:12:06.029789",
     "exception": false,
     "start_time": "2021-02-06T06:12:05.946000",
     "status": "completed"
    },
    "tags": []
   },
   "source": [
    "## Notes"
   ]
  },
  {
   "cell_type": "markdown",
   "metadata": {
    "papermill": {
     "duration": 0.082169,
     "end_time": "2021-02-06T06:12:06.196930",
     "exception": false,
     "start_time": "2021-02-06T06:12:06.114761",
     "status": "completed"
    },
    "tags": []
   },
   "source": [
    "This notebook is a completely finished text classification work in the sense that this laptop contains all the steps necessary for analyzing and training the model, except for collecting raw data, and produces the result."
   ]
  },
  {
   "cell_type": "markdown",
   "metadata": {
    "papermill": {
     "duration": 0.083619,
     "end_time": "2021-02-06T06:12:06.365553",
     "exception": false,
     "start_time": "2021-02-06T06:12:06.281934",
     "status": "completed"
    },
    "tags": []
   },
   "source": [
    "Each numbered part is essentially a stand-alone notebook. Thus, it is possible to divide this notebook into three parts."
   ]
  },
  {
   "cell_type": "markdown",
   "metadata": {
    "papermill": {
     "duration": 0.084406,
     "end_time": "2021-02-06T06:12:06.533870",
     "exception": false,
     "start_time": "2021-02-06T06:12:06.449464",
     "status": "completed"
    },
    "tags": []
   },
   "source": [
    "If you are only interested in the classification model, then skip directly to step 3."
   ]
  },
  {
   "cell_type": "markdown",
   "metadata": {
    "papermill": {
     "duration": 0.083601,
     "end_time": "2021-02-06T06:12:06.703232",
     "exception": false,
     "start_time": "2021-02-06T06:12:06.619631",
     "status": "completed"
    },
    "tags": []
   },
   "source": [
    "# 1) Dataset creation"
   ]
  },
  {
   "cell_type": "markdown",
   "metadata": {
    "papermill": {
     "duration": 0.09177,
     "end_time": "2021-02-06T06:12:06.878546",
     "exception": false,
     "start_time": "2021-02-06T06:12:06.786776",
     "status": "completed"
    },
    "tags": []
   },
   "source": [
    "## Overview"
   ]
  },
  {
   "cell_type": "markdown",
   "metadata": {
    "papermill": {
     "duration": 0.082829,
     "end_time": "2021-02-06T06:12:07.044547",
     "exception": false,
     "start_time": "2021-02-06T06:12:06.961718",
     "status": "completed"
    },
    "tags": []
   },
   "source": [
    "This part is needed to create a raw dataset for the task of classifying sentences by authorship from the original texts. The output will be a csv file in the format: \"sentence\", \"author\"."
   ]
  },
  {
   "cell_type": "markdown",
   "metadata": {
    "papermill": {
     "duration": 0.084129,
     "end_time": "2021-02-06T06:12:07.212171",
     "exception": false,
     "start_time": "2021-02-06T06:12:07.128042",
     "status": "completed"
    },
    "tags": []
   },
   "source": [
    "To create a dataset, works are used (at start of this work):"
   ]
  },
  {
   "cell_type": "markdown",
   "metadata": {
    "papermill": {
     "duration": 0.083356,
     "end_time": "2021-02-06T06:12:07.379443",
     "exception": false,
     "start_time": "2021-02-06T06:12:07.296087",
     "status": "completed"
    },
    "tags": []
   },
   "source": [
    "\n",
    "|Author|Works|\n",
    "|---------  |-------|\n",
    "|А.П. Чехов | Collection of stories |\n",
    "|Ф.М. Достоевский| Collection of selected works |\n",
    "|Л.Н. Толстой| Most Popular Writings |"
   ]
  },
  {
   "cell_type": "markdown",
   "metadata": {
    "papermill": {
     "duration": 0.084226,
     "end_time": "2021-02-06T06:12:07.550229",
     "exception": false,
     "start_time": "2021-02-06T06:12:07.466003",
     "status": "completed"
    },
    "tags": []
   },
   "source": [
    "## File creation"
   ]
  },
  {
   "cell_type": "markdown",
   "metadata": {
    "papermill": {
     "duration": 0.0859,
     "end_time": "2021-02-06T06:12:07.722591",
     "exception": false,
     "start_time": "2021-02-06T06:12:07.636691",
     "status": "completed"
    },
    "tags": []
   },
   "source": [
    "### Packages import"
   ]
  },
  {
   "cell_type": "code",
   "execution_count": 1,
   "metadata": {
    "execution": {
     "iopub.execute_input": "2021-02-06T06:12:07.901045Z",
     "iopub.status.busy": "2021-02-06T06:12:07.900218Z",
     "iopub.status.idle": "2021-02-06T06:12:09.605740Z",
     "shell.execute_reply": "2021-02-06T06:12:09.606369Z"
    },
    "papermill": {
     "duration": 1.80079,
     "end_time": "2021-02-06T06:12:09.606749",
     "exception": false,
     "start_time": "2021-02-06T06:12:07.805959",
     "status": "completed"
    },
    "tags": []
   },
   "outputs": [],
   "source": [
    "from typing import List\n",
    "import random\n",
    "\n",
    "import glob\n",
    "from nltk import tokenize, download\n",
    "import numpy as np\n",
    "import pandas as pd"
   ]
  },
  {
   "cell_type": "markdown",
   "metadata": {
    "papermill": {
     "duration": 0.105377,
     "end_time": "2021-02-06T06:12:09.812870",
     "exception": false,
     "start_time": "2021-02-06T06:12:09.707493",
     "status": "completed"
    },
    "tags": []
   },
   "source": [
    "It is necessary to tokenize the offer, it is enough to call it on the working machine once:"
   ]
  },
  {
   "cell_type": "code",
   "execution_count": 2,
   "metadata": {
    "execution": {
     "iopub.execute_input": "2021-02-06T06:12:10.049746Z",
     "iopub.status.busy": "2021-02-06T06:12:10.048594Z",
     "iopub.status.idle": "2021-02-06T06:12:10.487953Z",
     "shell.execute_reply": "2021-02-06T06:12:10.486970Z"
    },
    "papermill": {
     "duration": 0.569869,
     "end_time": "2021-02-06T06:12:10.488210",
     "exception": false,
     "start_time": "2021-02-06T06:12:09.918341",
     "status": "completed"
    },
    "tags": []
   },
   "outputs": [
    {
     "name": "stdout",
     "output_type": "stream",
     "text": [
      "[nltk_data] Downloading package punkt to /usr/share/nltk_data...\n",
      "[nltk_data]   Package punkt is already up-to-date!\n"
     ]
    },
    {
     "data": {
      "text/plain": [
       "True"
      ]
     },
     "execution_count": 2,
     "metadata": {},
     "output_type": "execute_result"
    }
   ],
   "source": [
    "download('punkt')"
   ]
  },
  {
   "cell_type": "markdown",
   "metadata": {
    "papermill": {
     "duration": 0.086004,
     "end_time": "2021-02-06T06:12:10.660321",
     "exception": false,
     "start_time": "2021-02-06T06:12:10.574317",
     "status": "completed"
    },
    "tags": []
   },
   "source": [
    "### Function for loading and preprocessing text"
   ]
  },
  {
   "cell_type": "markdown",
   "metadata": {
    "papermill": {
     "duration": 0.085273,
     "end_time": "2021-02-06T06:12:10.833287",
     "exception": false,
     "start_time": "2021-02-06T06:12:10.748014",
     "status": "completed"
    },
    "tags": []
   },
   "source": [
    "Let's create a list of sentences, the length of which is more than 5 characters, since shorter ones, most likely, do not carry information useful for attribution. Generally speaking, these sentences can express, and express quite vividly, the writing style of a particular author; however, this is not used in the model."
   ]
  },
  {
   "cell_type": "markdown",
   "metadata": {
    "papermill": {
     "duration": 0.086651,
     "end_time": "2021-02-06T06:12:11.005677",
     "exception": false,
     "start_time": "2021-02-06T06:12:10.919026",
     "status": "completed"
    },
    "tags": []
   },
   "source": [
    "To improve the performance of the offer tokenizer, some character combinations are replaced. So, the replicas will be separate from the speech of the author in sentences, and the problem with quotes should be solved."
   ]
  },
  {
   "cell_type": "code",
   "execution_count": 3,
   "metadata": {
    "execution": {
     "iopub.execute_input": "2021-02-06T06:12:11.187395Z",
     "iopub.status.busy": "2021-02-06T06:12:11.185364Z",
     "iopub.status.idle": "2021-02-06T06:12:11.188325Z",
     "shell.execute_reply": "2021-02-06T06:12:11.188845Z"
    },
    "papermill": {
     "duration": 0.097551,
     "end_time": "2021-02-06T06:12:11.189004",
     "exception": false,
     "start_time": "2021-02-06T06:12:11.091453",
     "status": "completed"
    },
    "tags": []
   },
   "outputs": [],
   "source": [
    "def split_text(filepath: str, min_char: int = 5) -> List[str]:\n",
    "    \n",
    "    text = str()\n",
    "    with open(filepath, 'r', encoding='utf8') as file:\n",
    "        text = file.read().replace('\\n', '. ')\n",
    "        text = text.replace('.”', '”.').replace('.\"', '\".').replace('?”', '”?').replace('!”', '”!')\n",
    "        text = text.replace('--', ' ').replace('. . .', '').replace('_', '')\n",
    "    \n",
    "    sentences = tokenize.sent_tokenize(text)    \n",
    "    sentences = [sentence for sentence in sentences if len(sentence) >= min_char]\n",
    "\n",
    "    return list(sentences)"
   ]
  },
  {
   "cell_type": "markdown",
   "metadata": {
    "papermill": {
     "duration": 0.086246,
     "end_time": "2021-02-06T06:12:11.362446",
     "exception": false,
     "start_time": "2021-02-06T06:12:11.276200",
     "status": "completed"
    },
    "tags": []
   },
   "source": [
    "### Create a sentence| set for each author"
   ]
  },
  {
   "cell_type": "code",
   "execution_count": 4,
   "metadata": {
    "execution": {
     "iopub.execute_input": "2021-02-06T06:12:11.540293Z",
     "iopub.status.busy": "2021-02-06T06:12:11.539501Z",
     "iopub.status.idle": "2021-02-06T06:12:30.845671Z",
     "shell.execute_reply": "2021-02-06T06:12:30.846584Z"
    },
    "papermill": {
     "duration": 19.396404,
     "end_time": "2021-02-06T06:12:30.846856",
     "exception": false,
     "start_time": "2021-02-06T06:12:11.450452",
     "status": "completed"
    },
    "tags": []
   },
   "outputs": [],
   "source": [
    "chekhov = []\n",
    "for path in glob.glob('../input/russian-literature/prose/Chekhov/*.txt'):\n",
    "    chekhov += split_text(path)\n",
    "    \n",
    "dostoevsky = []\n",
    "for path in glob.glob('../input/russian-literature/prose/Dostoevsky/*.txt'):\n",
    "    dostoevsky += split_text(path)\n",
    "\n",
    "tolstoy = []\n",
    "for path in glob.glob('../input/russian-literature/prose/Tolstoy/*.txt'):\n",
    "    tolstoy += split_text(path)"
   ]
  },
  {
   "cell_type": "code",
   "execution_count": 5,
   "metadata": {
    "execution": {
     "iopub.execute_input": "2021-02-06T06:12:31.142224Z",
     "iopub.status.busy": "2021-02-06T06:12:31.140429Z",
     "iopub.status.idle": "2021-02-06T06:12:31.145639Z",
     "shell.execute_reply": "2021-02-06T06:12:31.141374Z"
    },
    "papermill": {
     "duration": 0.15727,
     "end_time": "2021-02-06T06:12:31.145834",
     "exception": false,
     "start_time": "2021-02-06T06:12:30.988564",
     "status": "completed"
    },
    "tags": []
   },
   "outputs": [
    {
     "name": "stdout",
     "output_type": "stream",
     "text": [
      "Chekhov : 21860  sentences\n",
      "Dostoevsky : 117861  sentences\n",
      "Tolstoy : 92092  sentences\n"
     ]
    }
   ],
   "source": [
    "text_dict = { 'Chekhov': chekhov, 'Dostoevsky': dostoevsky, 'Tolstoy': tolstoy }\n",
    "\n",
    "for key in text_dict.keys():\n",
    "    print(key, ':', len(text_dict[key]), ' sentences')"
   ]
  },
  {
   "cell_type": "markdown",
   "metadata": {
    "papermill": {
     "duration": 0.124326,
     "end_time": "2021-02-06T06:12:31.401694",
     "exception": false,
     "start_time": "2021-02-06T06:12:31.277368",
     "status": "completed"
    },
    "tags": []
   },
   "source": [
    "Each list contains 21'860 to 117'861 sentences. In order to have an even distribution of authors in our set, we will limit the set for each, for example, to 20'000 sentences."
   ]
  },
  {
   "cell_type": "markdown",
   "metadata": {
    "papermill": {
     "duration": 0.10981,
     "end_time": "2021-02-06T06:12:31.649569",
     "exception": false,
     "start_time": "2021-02-06T06:12:31.539759",
     "status": "completed"
    },
    "tags": []
   },
   "source": [
    "### Combining sentences"
   ]
  },
  {
   "cell_type": "code",
   "execution_count": 6,
   "metadata": {
    "execution": {
     "iopub.execute_input": "2021-02-06T06:12:31.876908Z",
     "iopub.status.busy": "2021-02-06T06:12:31.876114Z",
     "iopub.status.idle": "2021-02-06T06:12:33.631861Z",
     "shell.execute_reply": "2021-02-06T06:12:33.632396Z"
    },
    "papermill": {
     "duration": 1.870668,
     "end_time": "2021-02-06T06:12:33.632571",
     "exception": false,
     "start_time": "2021-02-06T06:12:31.761903",
     "status": "completed"
    },
    "tags": []
   },
   "outputs": [
    {
     "name": "stdout",
     "output_type": "stream",
     "text": [
      "Length of combo and internally shuffled list: 60000\n"
     ]
    }
   ],
   "source": [
    "np.random.seed(1)\n",
    "\n",
    "max_len = 20_000\n",
    "\n",
    "names = [chekhov, dostoevsky, tolstoy]\n",
    "\n",
    "combined = []\n",
    "for name in names:\n",
    "    name = np.random.choice(name, max_len, replace = False)\n",
    "    combined += list(name)\n",
    "\n",
    "print('Length of combo and internally shuffled list:', len(combined))"
   ]
  },
  {
   "cell_type": "markdown",
   "metadata": {
    "papermill": {
     "duration": 0.086538,
     "end_time": "2021-02-06T06:12:33.804371",
     "exception": false,
     "start_time": "2021-02-06T06:12:33.717833",
     "status": "completed"
    },
    "tags": []
   },
   "source": [
    "### Create a marked list"
   ]
  },
  {
   "cell_type": "markdown",
   "metadata": {
    "papermill": {
     "duration": 0.084452,
     "end_time": "2021-02-06T06:12:33.975307",
     "exception": false,
     "start_time": "2021-02-06T06:12:33.890855",
     "status": "completed"
    },
    "tags": []
   },
   "source": [
    "At this point, it is important to indicate the labels of the authors (their names) in the same order as in the previous step, otherwise the data will simply turn out to be incorrect. So far, a simple regulating mechanism does not come to mind."
   ]
  },
  {
   "cell_type": "code",
   "execution_count": 7,
   "metadata": {
    "execution": {
     "iopub.execute_input": "2021-02-06T06:12:34.150087Z",
     "iopub.status.busy": "2021-02-06T06:12:34.149420Z",
     "iopub.status.idle": "2021-02-06T06:12:34.154247Z",
     "shell.execute_reply": "2021-02-06T06:12:34.154849Z"
    },
    "papermill": {
     "duration": 0.095967,
     "end_time": "2021-02-06T06:12:34.155046",
     "exception": false,
     "start_time": "2021-02-06T06:12:34.059079",
     "status": "completed"
    },
    "tags": []
   },
   "outputs": [
    {
     "name": "stdout",
     "output_type": "stream",
     "text": [
      "Length of marked list: 60000\n"
     ]
    }
   ],
   "source": [
    "labels = ['Chekhov'] * max_len + ['Dostoevsky'] * max_len + ['Tolstoy'] * max_len\n",
    "\n",
    "print('Length of marked list:', len(labels))"
   ]
  },
  {
   "cell_type": "markdown",
   "metadata": {
    "papermill": {
     "duration": 0.086912,
     "end_time": "2021-02-06T06:12:34.326543",
     "exception": false,
     "start_time": "2021-02-06T06:12:34.239631",
     "status": "completed"
    },
    "tags": []
   },
   "source": [
    "The output of the quantity was needed for additional control over the data and their labels. Equality means that every sentence in our dataset will have a label (correct or incorrect - it should have been controlled before)."
   ]
  },
  {
   "cell_type": "code",
   "execution_count": 8,
   "metadata": {
    "execution": {
     "iopub.execute_input": "2021-02-06T06:12:34.505344Z",
     "iopub.status.busy": "2021-02-06T06:12:34.504485Z",
     "iopub.status.idle": "2021-02-06T06:12:34.508529Z",
     "shell.execute_reply": "2021-02-06T06:12:34.508013Z"
    },
    "papermill": {
     "duration": 0.095407,
     "end_time": "2021-02-06T06:12:34.508677",
     "exception": false,
     "start_time": "2021-02-06T06:12:34.413270",
     "status": "completed"
    },
    "tags": []
   },
   "outputs": [
    {
     "data": {
      "text/plain": [
       "True"
      ]
     },
     "execution_count": 8,
     "metadata": {},
     "output_type": "execute_result"
    }
   ],
   "source": [
    "len(combined) == len(labels)"
   ]
  },
  {
   "cell_type": "markdown",
   "metadata": {
    "papermill": {
     "duration": 0.084829,
     "end_time": "2021-02-06T06:12:34.678796",
     "exception": false,
     "start_time": "2021-02-06T06:12:34.593967",
     "status": "completed"
    },
    "tags": []
   },
   "source": [
    "### Randomly shuffle the data"
   ]
  },
  {
   "cell_type": "code",
   "execution_count": 9,
   "metadata": {
    "execution": {
     "iopub.execute_input": "2021-02-06T06:12:34.896695Z",
     "iopub.status.busy": "2021-02-06T06:12:34.891792Z",
     "iopub.status.idle": "2021-02-06T06:12:35.060974Z",
     "shell.execute_reply": "2021-02-06T06:12:35.061465Z"
    },
    "papermill": {
     "duration": 0.295462,
     "end_time": "2021-02-06T06:12:35.061716",
     "exception": false,
     "start_time": "2021-02-06T06:12:34.766254",
     "status": "completed"
    },
    "tags": []
   },
   "outputs": [],
   "source": [
    "random.seed(3)\n",
    "\n",
    "zipped = list(zip(combined, labels))\n",
    "random.shuffle(zipped)\n",
    "combined, labels = zip(*zipped)"
   ]
  },
  {
   "cell_type": "markdown",
   "metadata": {
    "papermill": {
     "duration": 0.085521,
     "end_time": "2021-02-06T06:12:35.233285",
     "exception": false,
     "start_time": "2021-02-06T06:12:35.147764",
     "status": "completed"
    },
    "tags": []
   },
   "source": [
    "### Exporting the resulting dataset"
   ]
  },
  {
   "cell_type": "code",
   "execution_count": 10,
   "metadata": {
    "execution": {
     "iopub.execute_input": "2021-02-06T06:12:35.414457Z",
     "iopub.status.busy": "2021-02-06T06:12:35.413542Z",
     "iopub.status.idle": "2021-02-06T06:12:35.804839Z",
     "shell.execute_reply": "2021-02-06T06:12:35.805389Z"
    },
    "papermill": {
     "duration": 0.487666,
     "end_time": "2021-02-06T06:12:35.805589",
     "exception": false,
     "start_time": "2021-02-06T06:12:35.317923",
     "status": "completed"
    },
    "tags": []
   },
   "outputs": [],
   "source": [
    "out_data = pd.DataFrame()\n",
    "out_data['text'] = combined\n",
    "out_data['author'] = labels"
   ]
  },
  {
   "cell_type": "code",
   "execution_count": 11,
   "metadata": {
    "execution": {
     "iopub.execute_input": "2021-02-06T06:12:35.998040Z",
     "iopub.status.busy": "2021-02-06T06:12:35.996055Z",
     "iopub.status.idle": "2021-02-06T06:12:36.001235Z",
     "shell.execute_reply": "2021-02-06T06:12:36.000638Z"
    },
    "papermill": {
     "duration": 0.108312,
     "end_time": "2021-02-06T06:12:36.001381",
     "exception": false,
     "start_time": "2021-02-06T06:12:35.893069",
     "status": "completed"
    },
    "tags": []
   },
   "outputs": [
    {
     "name": "stdout",
     "output_type": "stream",
     "text": [
      "                                                text      author\n",
      "0  Послушайте, доктор, — горячо сказал он, подход...     Chekhov\n",
      "1  Тогда  я.   обрадовался и страх мой прошел, но...  Dostoevsky\n",
      "2          (Тянет Ирину за руку, привлекает к себе.)     Chekhov\n",
      "3                             Так чем могу служить?.     Tolstoy\n",
      "4                  Хотя, черт его знает… все равно….     Chekhov\n",
      "                                                    text      author\n",
      "59995                                   Оба были бледны.  Dostoevsky\n",
      "59996  Его уже тянуло в рестораны, клубы, на званые о...     Chekhov\n",
      "59997                      Утро было сырое, стоял туман.  Dostoevsky\n",
      "59998  Нет; она в своей комнате,   сухо отвечал Мизин...  Dostoevsky\n",
      "59999  — Лошадь-то чужая, отдать надо... Старуху хоро...     Chekhov\n"
     ]
    }
   ],
   "source": [
    "print(out_data.head())\n",
    "print(out_data.tail())"
   ]
  },
  {
   "cell_type": "code",
   "execution_count": 12,
   "metadata": {
    "execution": {
     "iopub.execute_input": "2021-02-06T06:12:36.186131Z",
     "iopub.status.busy": "2021-02-06T06:12:36.185327Z",
     "iopub.status.idle": "2021-02-06T06:12:36.765569Z",
     "shell.execute_reply": "2021-02-06T06:12:36.764073Z"
    },
    "papermill": {
     "duration": 0.675865,
     "end_time": "2021-02-06T06:12:36.765743",
     "exception": false,
     "start_time": "2021-02-06T06:12:36.089878",
     "status": "completed"
    },
    "tags": []
   },
   "outputs": [],
   "source": [
    "out_data.to_csv('author_data.csv', index=False)"
   ]
  },
  {
   "cell_type": "markdown",
   "metadata": {
    "papermill": {
     "duration": 0.085539,
     "end_time": "2021-02-06T06:12:36.944397",
     "exception": false,
     "start_time": "2021-02-06T06:12:36.858858",
     "status": "completed"
    },
    "tags": []
   },
   "source": [
    "# 2) Dataset preprocessing"
   ]
  },
  {
   "cell_type": "markdown",
   "metadata": {
    "papermill": {
     "duration": 0.087079,
     "end_time": "2021-02-06T06:12:37.120033",
     "exception": false,
     "start_time": "2021-02-06T06:12:37.032954",
     "status": "completed"
    },
    "tags": []
   },
   "source": [
    "Preparing data for use in model training and explore it."
   ]
  },
  {
   "cell_type": "markdown",
   "metadata": {
    "papermill": {
     "duration": 0.086631,
     "end_time": "2021-02-06T06:12:37.292234",
     "exception": false,
     "start_time": "2021-02-06T06:12:37.205603",
     "status": "completed"
    },
    "tags": []
   },
   "source": [
    "## Importing packages and loading data"
   ]
  },
  {
   "cell_type": "code",
   "execution_count": 13,
   "metadata": {
    "execution": {
     "iopub.execute_input": "2021-02-06T06:12:37.474107Z",
     "iopub.status.busy": "2021-02-06T06:12:37.473317Z",
     "iopub.status.idle": "2021-02-06T06:12:37.552891Z",
     "shell.execute_reply": "2021-02-06T06:12:37.552284Z"
    },
    "papermill": {
     "duration": 0.173949,
     "end_time": "2021-02-06T06:12:37.553035",
     "exception": false,
     "start_time": "2021-02-06T06:12:37.379086",
     "status": "completed"
    },
    "tags": []
   },
   "outputs": [],
   "source": [
    "import string\n",
    "import time\n",
    "\n",
    "import numpy as np\n",
    "import pandas as pd\n",
    "from collections import Counter\n",
    "\n",
    "import seaborn as sns\n",
    "import matplotlib.pyplot as plt\n",
    "\n",
    "import nltk\n",
    "from nltk.stem.porter import PorterStemmer"
   ]
  },
  {
   "cell_type": "code",
   "execution_count": 14,
   "metadata": {
    "execution": {
     "iopub.execute_input": "2021-02-06T06:12:37.741688Z",
     "iopub.status.busy": "2021-02-06T06:12:37.740771Z",
     "iopub.status.idle": "2021-02-06T06:12:37.980352Z",
     "shell.execute_reply": "2021-02-06T06:12:37.980904Z"
    },
    "papermill": {
     "duration": 0.338812,
     "end_time": "2021-02-06T06:12:37.981091",
     "exception": false,
     "start_time": "2021-02-06T06:12:37.642279",
     "status": "completed"
    },
    "tags": []
   },
   "outputs": [
    {
     "name": "stdout",
     "output_type": "stream",
     "text": [
      "                                                text      author\n",
      "0  Послушайте, доктор, — горячо сказал он, подход...     Chekhov\n",
      "1  Тогда  я.   обрадовался и страх мой прошел, но...  Dostoevsky\n",
      "2          (Тянет Ирину за руку, привлекает к себе.)     Chekhov\n",
      "3                             Так чем могу служить?.     Tolstoy\n",
      "4                  Хотя, черт его знает… все равно….     Chekhov\n"
     ]
    }
   ],
   "source": [
    "data = pd.read_csv('author_data.csv', encoding='utf8')\n",
    "print(data.head())"
   ]
  },
  {
   "cell_type": "code",
   "execution_count": 15,
   "metadata": {
    "execution": {
     "iopub.execute_input": "2021-02-06T06:12:38.173922Z",
     "iopub.status.busy": "2021-02-06T06:12:38.173175Z",
     "iopub.status.idle": "2021-02-06T06:12:38.176605Z",
     "shell.execute_reply": "2021-02-06T06:12:38.177312Z"
    },
    "papermill": {
     "duration": 0.107138,
     "end_time": "2021-02-06T06:12:38.177526",
     "exception": false,
     "start_time": "2021-02-06T06:12:38.070388",
     "status": "completed"
    },
    "tags": []
   },
   "outputs": [
    {
     "name": "stdout",
     "output_type": "stream",
     "text": [
      "Dataset contains 60000 notes.\n"
     ]
    }
   ],
   "source": [
    "text = list(data['text'].values)\n",
    "author = list(data['author'].values)\n",
    "\n",
    "print('Dataset contains {} notes.'.format(len(text)))"
   ]
  },
  {
   "cell_type": "markdown",
   "metadata": {
    "papermill": {
     "duration": 0.088219,
     "end_time": "2021-02-06T06:12:38.358678",
     "exception": false,
     "start_time": "2021-02-06T06:12:38.270459",
     "status": "completed"
    },
    "tags": []
   },
   "source": [
    "## Data exploration"
   ]
  },
  {
   "cell_type": "markdown",
   "metadata": {
    "papermill": {
     "duration": 0.088653,
     "end_time": "2021-02-06T06:12:38.536758",
     "exception": false,
     "start_time": "2021-02-06T06:12:38.448105",
     "status": "completed"
    },
    "tags": []
   },
   "source": [
    "Number of sentences for each author:"
   ]
  },
  {
   "cell_type": "code",
   "execution_count": 16,
   "metadata": {
    "execution": {
     "iopub.execute_input": "2021-02-06T06:12:38.724656Z",
     "iopub.status.busy": "2021-02-06T06:12:38.723684Z",
     "iopub.status.idle": "2021-02-06T06:12:38.734007Z",
     "shell.execute_reply": "2021-02-06T06:12:38.733392Z"
    },
    "papermill": {
     "duration": 0.107144,
     "end_time": "2021-02-06T06:12:38.734158",
     "exception": false,
     "start_time": "2021-02-06T06:12:38.627014",
     "status": "completed"
    },
    "tags": []
   },
   "outputs": [
    {
     "data": {
      "text/plain": [
       "Counter({'Chekhov': 20000, 'Dostoevsky': 20000, 'Tolstoy': 20000})"
      ]
     },
     "execution_count": 16,
     "metadata": {},
     "output_type": "execute_result"
    }
   ],
   "source": [
    "authors = Counter(author)\n",
    "authors"
   ]
  },
  {
   "cell_type": "code",
   "execution_count": 17,
   "metadata": {
    "execution": {
     "iopub.execute_input": "2021-02-06T06:12:38.920529Z",
     "iopub.status.busy": "2021-02-06T06:12:38.919538Z",
     "iopub.status.idle": "2021-02-06T06:12:38.924039Z",
     "shell.execute_reply": "2021-02-06T06:12:38.923482Z"
    },
    "papermill": {
     "duration": 0.098867,
     "end_time": "2021-02-06T06:12:38.924206",
     "exception": false,
     "start_time": "2021-02-06T06:12:38.825339",
     "status": "completed"
    },
    "tags": []
   },
   "outputs": [
    {
     "data": {
      "text/plain": [
       "['Chekhov', 'Dostoevsky', 'Tolstoy']"
      ]
     },
     "execution_count": 17,
     "metadata": {},
     "output_type": "execute_result"
    }
   ],
   "source": [
    "author_names = list(authors.keys())\n",
    "author_names"
   ]
  },
  {
   "cell_type": "markdown",
   "metadata": {
    "papermill": {
     "duration": 0.09883,
     "end_time": "2021-02-06T06:12:39.121384",
     "exception": false,
     "start_time": "2021-02-06T06:12:39.022554",
     "status": "completed"
    },
    "tags": []
   },
   "source": [
    "Let's look at some sample sentences:"
   ]
  },
  {
   "cell_type": "code",
   "execution_count": 18,
   "metadata": {
    "execution": {
     "iopub.execute_input": "2021-02-06T06:12:39.309290Z",
     "iopub.status.busy": "2021-02-06T06:12:39.308302Z",
     "iopub.status.idle": "2021-02-06T06:12:39.314694Z",
     "shell.execute_reply": "2021-02-06T06:12:39.313989Z"
    },
    "papermill": {
     "duration": 0.102951,
     "end_time": "2021-02-06T06:12:39.314880",
     "exception": false,
     "start_time": "2021-02-06T06:12:39.211929",
     "status": "completed"
    },
    "tags": []
   },
   "outputs": [
    {
     "name": "stdout",
     "output_type": "stream",
     "text": [
      "— Каштанка!\n",
      "Он делает визиты и везде говорит, что у него жена и две девочки.\n",
      "— распутен, лжив и гадок не он один, а мы... «мы люди восьмидесятых годов», «мы вялое, нервное отродье крепостного права», «нас искалечила цивилизация»... Одним словом, мы должны понять, что такой великий человек, как Лаевский, и в падении своем велик; что его распутство, необразованность и нечистоплотность составляют явление естественно-историческое, освященное необходимостью, что причины тут мировые, стихийные и что перед Лаевским надо лампаду повесить, так как он — роковая жертва времени, веяний, наследственности и прочее.\n",
      "Она упала без чувств ему на руки.\n",
      "Он предлагает, в виде конечного разрешения вопроса, – разделение человечества на две неравные части.\n"
     ]
    }
   ],
   "source": [
    "np.random.seed(73)\n",
    "n = len(text)\n",
    "\n",
    "for _ in range(5):\n",
    "    print(text[np.random.randint(0, n)])"
   ]
  },
  {
   "cell_type": "markdown",
   "metadata": {
    "papermill": {
     "duration": 0.089259,
     "end_time": "2021-02-06T06:12:39.494222",
     "exception": false,
     "start_time": "2021-02-06T06:12:39.404963",
     "status": "completed"
    },
    "tags": []
   },
   "source": [
    "## Calculating statistics by words:"
   ]
  },
  {
   "cell_type": "code",
   "execution_count": 19,
   "metadata": {
    "execution": {
     "iopub.execute_input": "2021-02-06T06:12:39.703470Z",
     "iopub.status.busy": "2021-02-06T06:12:39.693264Z",
     "iopub.status.idle": "2021-02-06T06:12:39.811420Z",
     "shell.execute_reply": "2021-02-06T06:12:39.810729Z"
    },
    "papermill": {
     "duration": 0.226696,
     "end_time": "2021-02-06T06:12:39.811574",
     "exception": false,
     "start_time": "2021-02-06T06:12:39.584878",
     "status": "completed"
    },
    "tags": []
   },
   "outputs": [],
   "source": [
    "word_count = np.array([len(sent.split()) for sent in text])\n",
    "char_count = np.array([len(sent) for sent in text])\n",
    "ave_length = char_count / word_count"
   ]
  },
  {
   "cell_type": "code",
   "execution_count": 20,
   "metadata": {
    "execution": {
     "iopub.execute_input": "2021-02-06T06:12:40.011856Z",
     "iopub.status.busy": "2021-02-06T06:12:40.010809Z",
     "iopub.status.idle": "2021-02-06T06:12:40.013300Z",
     "shell.execute_reply": "2021-02-06T06:12:40.013940Z"
    },
    "papermill": {
     "duration": 0.1088,
     "end_time": "2021-02-06T06:12:40.014113",
     "exception": false,
     "start_time": "2021-02-06T06:12:39.905313",
     "status": "completed"
    },
    "tags": []
   },
   "outputs": [],
   "source": [
    "def get_stats(var):    \n",
    "    print('\\t Min: ', np.min(var))\n",
    "    print('\\t Max: ', np.max(var))\n",
    "    print('\\t Average: ', np.mean(var))\n",
    "    print('\\t Median: ', np.median(var))\n",
    "    print('\\t Percentile 1%: ', np.percentile(var, 1))\n",
    "    print('\\t Percentile 95%: ', np.percentile(var, 95))\n",
    "    print('\\t Percentile 99%: ', np.percentile(var, 99))\n",
    "    print('\\t Percentile 99.5%: ', np.percentile(var, 99.5))\n",
    "    print('\\t Percentile 99.9%: ', np.percentile(var, 99.9))"
   ]
  },
  {
   "cell_type": "markdown",
   "metadata": {
    "papermill": {
     "duration": 0.091306,
     "end_time": "2021-02-06T06:12:40.200669",
     "exception": false,
     "start_time": "2021-02-06T06:12:40.109363",
     "status": "completed"
    },
    "tags": []
   },
   "source": [
    "### Word count"
   ]
  },
  {
   "cell_type": "code",
   "execution_count": 21,
   "metadata": {
    "execution": {
     "iopub.execute_input": "2021-02-06T06:12:40.386685Z",
     "iopub.status.busy": "2021-02-06T06:12:40.385541Z",
     "iopub.status.idle": "2021-02-06T06:12:40.401589Z",
     "shell.execute_reply": "2021-02-06T06:12:40.400837Z"
    },
    "papermill": {
     "duration": 0.111023,
     "end_time": "2021-02-06T06:12:40.401772",
     "exception": false,
     "start_time": "2021-02-06T06:12:40.290749",
     "status": "completed"
    },
    "tags": []
   },
   "outputs": [
    {
     "name": "stdout",
     "output_type": "stream",
     "text": [
      "Word count statistics:\n",
      "\t Min:  1\n",
      "\t Max:  244\n",
      "\t Average:  15.026033333333332\n",
      "\t Median:  10.0\n",
      "\t Percentile 1%:  1.0\n",
      "\t Percentile 95%:  44.0\n",
      "\t Percentile 99%:  75.0\n",
      "\t Percentile 99.5%:  89.0\n",
      "\t Percentile 99.9%:  132.0\n"
     ]
    }
   ],
   "source": [
    "print('Word count statistics:')\n",
    "get_stats(word_count)"
   ]
  },
  {
   "cell_type": "code",
   "execution_count": 22,
   "metadata": {
    "execution": {
     "iopub.execute_input": "2021-02-06T06:12:40.634026Z",
     "iopub.status.busy": "2021-02-06T06:12:40.633180Z",
     "iopub.status.idle": "2021-02-06T06:12:41.250955Z",
     "shell.execute_reply": "2021-02-06T06:12:41.250183Z"
    },
    "papermill": {
     "duration": 0.757194,
     "end_time": "2021-02-06T06:12:41.251120",
     "exception": false,
     "start_time": "2021-02-06T06:12:40.493926",
     "status": "completed"
    },
    "tags": []
   },
   "outputs": [
    {
     "name": "stderr",
     "output_type": "stream",
     "text": [
      "/opt/conda/lib/python3.7/site-packages/seaborn/distributions.py:2557: FutureWarning: `distplot` is a deprecated function and will be removed in a future version. Please adapt your code to use either `displot` (a figure-level function with similar flexibility) or `histplot` (an axes-level function for histograms).\n",
      "  warnings.warn(msg, FutureWarning)\n"
     ]
    },
    {
     "data": {
      "image/png": "[encoded data removed]",
      "text/plain": [
       "<Figure size 432x288 with 1 Axes>"
      ]
     },
     "metadata": {
      "needs_background": "light"
     },
     "output_type": "display_data"
    }
   ],
   "source": [
    "sns.distplot(word_count, kde=True, bins=80, color='green').set_title('Distribution of word count')\n",
    "plt.xlabel('Sentence length in words')\n",
    "plt.ylabel('Number of offers')\n",
    "plt.xlim(0, 100)\n",
    "plt.savefig('word_count.png')"
   ]
  },
  {
   "cell_type": "markdown",
   "metadata": {
    "papermill": {
     "duration": 0.103425,
     "end_time": "2021-02-06T06:12:41.460095",
     "exception": false,
     "start_time": "2021-02-06T06:12:41.356670",
     "status": "completed"
    },
    "tags": []
   },
   "source": [
    "### Character count"
   ]
  },
  {
   "cell_type": "code",
   "execution_count": 23,
   "metadata": {
    "execution": {
     "iopub.execute_input": "2021-02-06T06:12:41.657853Z",
     "iopub.status.busy": "2021-02-06T06:12:41.656900Z",
     "iopub.status.idle": "2021-02-06T06:12:41.670047Z",
     "shell.execute_reply": "2021-02-06T06:12:41.669510Z"
    },
    "papermill": {
     "duration": 0.11485,
     "end_time": "2021-02-06T06:12:41.670261",
     "exception": false,
     "start_time": "2021-02-06T06:12:41.555411",
     "status": "completed"
    },
    "tags": []
   },
   "outputs": [
    {
     "name": "stdout",
     "output_type": "stream",
     "text": [
      "Character count statistics:\n",
      "\t Min:  5\n",
      "\t Max:  1710\n",
      "\t Average:  92.4932\n",
      "\t Median:  63.0\n",
      "\t Percentile 1%:  6.0\n",
      "\t Percentile 95%:  278.0\n",
      "\t Percentile 99%:  477.0\n",
      "\t Percentile 99.5%:  572.0\n",
      "\t Percentile 99.9%:  858.0030000000115\n"
     ]
    }
   ],
   "source": [
    "print('Character count statistics:')\n",
    "get_stats(char_count)"
   ]
  },
  {
   "cell_type": "code",
   "execution_count": 24,
   "metadata": {
    "execution": {
     "iopub.execute_input": "2021-02-06T06:12:41.893358Z",
     "iopub.status.busy": "2021-02-06T06:12:41.892422Z",
     "iopub.status.idle": "2021-02-06T06:12:42.718956Z",
     "shell.execute_reply": "2021-02-06T06:12:42.719639Z"
    },
    "papermill": {
     "duration": 0.95554,
     "end_time": "2021-02-06T06:12:42.719957",
     "exception": false,
     "start_time": "2021-02-06T06:12:41.764417",
     "status": "completed"
    },
    "tags": []
   },
   "outputs": [
    {
     "name": "stderr",
     "output_type": "stream",
     "text": [
      "/opt/conda/lib/python3.7/site-packages/seaborn/distributions.py:2557: FutureWarning: `distplot` is a deprecated function and will be removed in a future version. Please adapt your code to use either `displot` (a figure-level function with similar flexibility) or `histplot` (an axes-level function for histograms).\n",
      "  warnings.warn(msg, FutureWarning)\n"
     ]
    },
    {
     "data": {
      "image/png": "[encoded data removed]",
      "text/plain": [
       "<Figure size 432x288 with 1 Axes>"
      ]
     },
     "metadata": {
      "needs_background": "light"
     },
     "output_type": "display_data"
    }
   ],
   "source": [
    "sns.distplot(char_count, kde=True, bins=80, color='green').set_title('Distribution of characters')\n",
    "plt.xlabel('Sentence length in characters')\n",
    "plt.ylabel('Number of sentences')\n",
    "plt.xlim(0, 400)\n",
    "plt.savefig('char_count.png')"
   ]
  },
  {
   "cell_type": "markdown",
   "metadata": {
    "papermill": {
     "duration": 0.119033,
     "end_time": "2021-02-06T06:12:42.963804",
     "exception": false,
     "start_time": "2021-02-06T06:12:42.844771",
     "status": "completed"
    },
    "tags": []
   },
   "source": [
    "### Average length"
   ]
  },
  {
   "cell_type": "code",
   "execution_count": 25,
   "metadata": {
    "execution": {
     "iopub.execute_input": "2021-02-06T06:12:43.226684Z",
     "iopub.status.busy": "2021-02-06T06:12:43.226009Z",
     "iopub.status.idle": "2021-02-06T06:12:43.239819Z",
     "shell.execute_reply": "2021-02-06T06:12:43.239174Z"
    },
    "papermill": {
     "duration": 0.153982,
     "end_time": "2021-02-06T06:12:43.239961",
     "exception": false,
     "start_time": "2021-02-06T06:12:43.085979",
     "status": "completed"
    },
    "tags": []
   },
   "outputs": [
    {
     "name": "stdout",
     "output_type": "stream",
     "text": [
      "Average length statistics:\n",
      "\t Min:  2.3333333333333335\n",
      "\t Max:  35.4\n",
      "\t Average:  6.098282300821733\n",
      "\t Median:  6.0\n",
      "\t Percentile 1%:  3.3333333333333335\n",
      "\t Percentile 95%:  8.125\n",
      "\t Percentile 99%:  10.0\n",
      "\t Percentile 99.5%:  11.0\n",
      "\t Percentile 99.9%:  13.0\n"
     ]
    }
   ],
   "source": [
    "print('Average length statistics:')\n",
    "get_stats(ave_length)"
   ]
  },
  {
   "cell_type": "code",
   "execution_count": 26,
   "metadata": {
    "execution": {
     "iopub.execute_input": "2021-02-06T06:12:43.568606Z",
     "iopub.status.busy": "2021-02-06T06:12:43.565938Z",
     "iopub.status.idle": "2021-02-06T06:12:44.101694Z",
     "shell.execute_reply": "2021-02-06T06:12:44.102195Z"
    },
    "papermill": {
     "duration": 0.767543,
     "end_time": "2021-02-06T06:12:44.102381",
     "exception": false,
     "start_time": "2021-02-06T06:12:43.334838",
     "status": "completed"
    },
    "tags": []
   },
   "outputs": [
    {
     "name": "stderr",
     "output_type": "stream",
     "text": [
      "/opt/conda/lib/python3.7/site-packages/seaborn/distributions.py:2557: FutureWarning: `distplot` is a deprecated function and will be removed in a future version. Please adapt your code to use either `displot` (a figure-level function with similar flexibility) or `histplot` (an axes-level function for histograms).\n",
      "  warnings.warn(msg, FutureWarning)\n"
     ]
    },
    {
     "data": {
      "image/png": "[encoded data removed]",
      "text/plain": [
       "<Figure size 432x288 with 1 Axes>"
      ]
     },
     "metadata": {
      "needs_background": "light"
     },
     "output_type": "display_data"
    }
   ],
   "source": [
    "sns.distplot(ave_length, kde=True, bins=80, color='green').set_title('Distribution of average word length')\n",
    "plt.xlabel('Average word length in characters')\n",
    "plt.ylabel('Number of sentences')\n",
    "plt.xlim(0, 10)\n",
    "plt.savefig('ave_length.png')"
   ]
  },
  {
   "cell_type": "markdown",
   "metadata": {
    "papermill": {
     "duration": 0.0964,
     "end_time": "2021-02-06T06:12:44.296310",
     "exception": false,
     "start_time": "2021-02-06T06:12:44.199910",
     "status": "completed"
    },
    "tags": []
   },
   "source": [
    "## Examining outliers in data"
   ]
  },
  {
   "cell_type": "markdown",
   "metadata": {
    "papermill": {
     "duration": 0.096154,
     "end_time": "2021-02-06T06:12:44.488965",
     "exception": false,
     "start_time": "2021-02-06T06:12:44.392811",
     "status": "completed"
    },
    "tags": []
   },
   "source": [
    "### Extremely long sentences"
   ]
  },
  {
   "cell_type": "code",
   "execution_count": 27,
   "metadata": {
    "collapsed": true,
    "execution": {
     "iopub.execute_input": "2021-02-06T06:12:44.689834Z",
     "iopub.status.busy": "2021-02-06T06:12:44.688869Z",
     "iopub.status.idle": "2021-02-06T06:12:44.697175Z",
     "shell.execute_reply": "2021-02-06T06:12:44.696603Z"
    },
    "papermill": {
     "duration": 0.111522,
     "end_time": "2021-02-06T06:12:44.697310",
     "exception": false,
     "start_time": "2021-02-06T06:12:44.585788",
     "status": "completed"
    },
    "tags": []
   },
   "outputs": [
    {
     "name": "stdout",
     "output_type": "stream",
     "text": [
      "Author: Chekhov, Sentence length: 166\n",
      "Края ее ровные, как бы порезанные, пропитаны жидкой и свернувшейся кровью... Рана проникающая... Произведена она режущим орудием и, как видно из собранных предварительных сведений, кинжалом, ширина которого вполне соответствовала величине раны.. Внутренний осмотр показал поранение правых легкого и плевры, воспаление легкого и кровоизлияние в полость плевры.. Врачи, насколько помню, дали приблизительно такое заключение: a) смерть произошла от малокровия, которое последовало за значительной потерей крови; потеря крови объясняется присутствием на правой стороне груди зияющей раны; b) рану головы следует отнести к тяжким повреждениям, а рану груди к безусловно смертельным; последнюю следует признать за непосредственную причину смерти; c) рана головы нанесена тупым орудием, а рана груди — режущим, и притом, вероятно, обоюдоострым; d) все вышеописанные повреждения не могли быть нанесены собственною рукою умершей и e) покушения на оскорбление женской чести, вероятно, не было.. Чтобы не откладывать в долгий ящик и потом не повторяться, передам тут же читателю картину убийства, набросанную мною под первым впечатлением осмотров, двух-трех допросов и чтения протокола вскрытия.. Ольга, отделившись от компании, гуляла в лесу. \n",
      "\n",
      "Author: Tolstoy, Sentence length: 153\n",
      "Старшина настаивал на том, что она виновна и в отравлении и в грабеже, купец не соглашался и с ним вместе полковник, приказчик и артельщик,   остальные как будто колебались, но мнение старшины начинало преобладать, в особенности потому, что все присяжные устали и охотнее примыкали к тому мнению, которое обещало скорее соединить, а потому и освободить всех..    По всему тому, что происходило на судебном следствии, и по тому, как знал Нехлюдов Маслову, он был убежден, что она не виновна ни в похищении, ни в отравлении, и сначала был уверен, что все признают это; но когда он увидал, что вследствие неловкой защиты купца, очевидно основанной на том, что Маслова физически нравилась ему, чего он и не скрывал, и вследствие отпора на этом именно основании старшины и, главное, вследствие усталости всех решение стало склоняться к обвинению, {86} он хотел возражать, но ему страшно было говорить за Маслову,   ему казалось, что все сейчас узнают его отношения к ней. \n",
      "\n",
      "Author: Chekhov, Sentence length: 153\n",
      "Гуров, глядя на нее теперь, думал: «Каких только не бывает в жизни встреч!» От прошлого у него сохранилось воспоминание о беззаботных, добродушных женщинах, веселых от любви, благодарных ему за счастье, хотя бы очень короткое; и о таких, – как, например, его жена, – которые любили без искренности, с излишними разговорами, манерно, с истерией, с таким выражением, как будто то была не любовь, не страсть, а что-то более значительное; и о таких двух-трех, очень красивых, холодных, у которых вдруг промелькало на лице хищное выражение, упрямое желание взять, выхватить у жизни больше, чем она может дать, и это были не первой молодости, капризные, не рассуждающие, властные, не умные женщины, и когда Гуров охладевал к ним, то красота их возбуждала в нем ненависть и кружева на их белье казались ему тогда похожими на чешую.. Но тут все та же несмелость, угловатость неопытной молодости, неловкое чувство; и было впечатление растерянности, как будто кто вдруг постучал в дверь. \n",
      "\n",
      "Author: Tolstoy, Sentence length: 158\n",
      "Вместо прежних, угодных божеству целей народов: иудейского, греческого, римского, которые древним представлялись целями движения человечества, новая история поставила свои цели — блага французского, германского, английского и, в самом своем высшем отвлечении, цели блага цивилизации всего человечества, под которым разумеются обыкновенно народы, занимающие маленький северо-западный уголок большого материка..       Новая история отвергла верования древних, не поставив на место их нового воззрения, и логика положения заставила историков, мнимо отвергших божественную власть царей и фатум древних, прийти другим путем к тому же самому: к признанию того, что: 1) народы руководятся единичными людьми и 2) что существует известная цель, к которой движутся народы и человечество..       Во всех сочинениях новейших историков от Гибона до Бокля*, несмотря на их кажущееся разногласие и на кажущуюся новизну их воззрений, лежат в основе эти два старые неизбежные положения..       Во-первых, историк описывает деятельность отдельных лиц, по его мнению, руководивших человечеством (один считает таковыми одних монархов, полководцев, министров; другой — кроме монархов и ораторов — ученых, реформаторов, философов и поэтов). \n",
      "\n",
      "Author: Tolstoy, Sentence length: 159\n",
      "Она была озабочена воспитанием племянника, для которого она чувствовала себя постоянно неспособной; но в глубине души ее было согласие с самой собою, вытекавшее из сознания того, что она задавила в себе поднявшиеся было, связанные с появлением Ростова, личные мечтания и надежды..      Когда на другой день после своего вечера губернаторша приехала к Мальвинцевой и, переговорив с теткой о своих планах (сделав оговорку о том, что, хотя при теперешних обстоятельствах нельзя и думать о формальном сватовстве, все-таки можно свести молодых людей, дать им узнать друг друга), и когда, получив одобрение тетки, губернаторша при княжне Марье заговорила о Ростове, хваля его и рассказывая, как он покраснел при упоминании о княжне, — княжна Марья испытала не радостное, но болезненное чувство: внутреннее согласие ее не существовало более, и опять поднялись желания, сомнения, упреки и надежды..      В те два дня, которые прошли со времени этого известия и до посещения Ростова, княжна Марья не переставая думала о том, как ей должно держать себя в отношении Ростова. \n",
      "\n"
     ]
    }
   ],
   "source": [
    "word_outliers = np.where(word_count > 150)\n",
    "\n",
    "for i in word_outliers[0][:5]:\n",
    "    print('Author: {}, Sentence length: {}'.format(author[i], word_count[i]))\n",
    "    print(text[i], '\\n')"
   ]
  },
  {
   "cell_type": "code",
   "execution_count": 28,
   "metadata": {
    "execution": {
     "iopub.execute_input": "2021-02-06T06:12:44.896333Z",
     "iopub.status.busy": "2021-02-06T06:12:44.895671Z",
     "iopub.status.idle": "2021-02-06T06:12:44.902096Z",
     "shell.execute_reply": "2021-02-06T06:12:44.901578Z"
    },
    "papermill": {
     "duration": 0.110359,
     "end_time": "2021-02-06T06:12:44.902274",
     "exception": false,
     "start_time": "2021-02-06T06:12:44.791915",
     "status": "completed"
    },
    "tags": []
   },
   "outputs": [
    {
     "data": {
      "text/plain": [
       "Counter({'Chekhov': 4, 'Dostoevsky': 1, 'Tolstoy': 18})"
      ]
     },
     "execution_count": 28,
     "metadata": {},
     "output_type": "execute_result"
    }
   ],
   "source": [
    "max_authors = {author : 0 for author in author_names}\n",
    "\n",
    "for i in word_outliers[0]:\n",
    "    max_authors[author[i]] += 1\n",
    "\n",
    "Counter(max_authors)"
   ]
  },
  {
   "cell_type": "markdown",
   "metadata": {
    "papermill": {
     "duration": 0.097189,
     "end_time": "2021-02-06T06:12:45.096449",
     "exception": false,
     "start_time": "2021-02-06T06:12:44.999260",
     "status": "completed"
    },
    "tags": []
   },
   "source": [
    "### Extremely short"
   ]
  },
  {
   "cell_type": "code",
   "execution_count": 29,
   "metadata": {
    "collapsed": true,
    "execution": {
     "iopub.execute_input": "2021-02-06T06:12:45.301733Z",
     "iopub.status.busy": "2021-02-06T06:12:45.300714Z",
     "iopub.status.idle": "2021-02-06T06:12:45.307463Z",
     "shell.execute_reply": "2021-02-06T06:12:45.308180Z"
    },
    "papermill": {
     "duration": 0.114047,
     "end_time": "2021-02-06T06:12:45.308408",
     "exception": false,
     "start_time": "2021-02-06T06:12:45.194361",
     "status": "completed"
    },
    "tags": []
   },
   "outputs": [
    {
     "name": "stdout",
     "output_type": "stream",
     "text": [
      "Sentence length: 1\n",
      "Ирина. \n",
      "\n",
      "Sentence length: 1\n",
      "Ольга. \n",
      "\n",
      "Sentence length: 1\n",
      "(фр.). \n",
      "\n",
      "Sentence length: 1\n",
      "Слышала. \n",
      "\n",
      "Sentence length: 1\n",
      "Воды!... \n",
      "\n",
      "Sentence length: 1\n",
      "Каштанка!. \n",
      "\n",
      "Sentence length: 1\n",
      "Степушка!. \n",
      "\n",
      "Sentence length: 1\n",
      "Ужас! \n",
      "\n",
      "Sentence length: 1\n",
      "Миша! \n",
      "\n",
      "Sentence length: 1\n",
      "неестественно. \n",
      "\n"
     ]
    }
   ],
   "source": [
    "word_outliers = np.where(word_count < 2)\n",
    "\n",
    "for i in word_outliers[0][:10]:\n",
    "    print('Sentence length: {}'.format(word_count[i]))\n",
    "    print(text[i], '\\n')"
   ]
  },
  {
   "cell_type": "markdown",
   "metadata": {
    "papermill": {
     "duration": 0.100132,
     "end_time": "2021-02-06T06:12:45.507826",
     "exception": false,
     "start_time": "2021-02-06T06:12:45.407694",
     "status": "completed"
    },
    "tags": []
   },
   "source": [
    "## Exploring symbols"
   ]
  },
  {
   "cell_type": "markdown",
   "metadata": {
    "papermill": {
     "duration": 0.100895,
     "end_time": "2021-02-06T06:12:45.708797",
     "exception": false,
     "start_time": "2021-02-06T06:12:45.607902",
     "status": "completed"
    },
    "tags": []
   },
   "source": [
    "Let's create a dictionary showing the number of dataset inclusions for each character."
   ]
  },
  {
   "cell_type": "code",
   "execution_count": 30,
   "metadata": {
    "execution": {
     "iopub.execute_input": "2021-02-06T06:12:45.928552Z",
     "iopub.status.busy": "2021-02-06T06:12:45.923555Z",
     "iopub.status.idle": "2021-02-06T06:12:46.674036Z",
     "shell.execute_reply": "2021-02-06T06:12:46.673088Z"
    },
    "papermill": {
     "duration": 0.86717,
     "end_time": "2021-02-06T06:12:46.674240",
     "exception": false,
     "start_time": "2021-02-06T06:12:45.807070",
     "status": "completed"
    },
    "tags": []
   },
   "outputs": [
    {
     "name": "stdout",
     "output_type": "stream",
     "text": [
      "Counter({' ': 885133, 'о': 485392, 'е': 370495, 'а': 354225, 'и': 286585, 'н': 277973, 'т': 264673, 'с': 225058, 'л': 208520, 'в': 196476, 'р': 176961, 'к': 147094, 'д': 135388, 'м': 135373, ',': 125431, 'у': 122884, 'п': 112368, '.': 98145, 'я': 96563, 'ь': 87320, 'г': 81420, 'ы': 79514, 'б': 76006, 'ч': 72123, 'з': 70834, 'ж': 48782, 'й': 47280, 'ш': 39797, 'х': 37008, 'ю': 27763, 'ц': 13891, 'э': 13045, 'щ': 12713, '-': 12678, '—': 11654, '–': 11245, '!': 10146, '\\xa0': 7880, '?': 7616, 'ф': 7369, ';': 5097, 'e': 4352, ':': 4297, '…': 3625, 'i': 2917, '«': 2867, '»': 2830, 'a': 2254, ')': 2171, '(': 2140, 's': 2131, 'n': 2124, 'r': 1861, 'ё': 1829, 'o': 1763, 't': 1702, '1': 1679, 'u': 1631, '2': 1466, 'm': 1457, 'l': 1439, '\"': 1271, '3': 1258, 'ъ': 1186, 'c': 953, 'd': 896, '8': 774, 'v': 721, 'p': 704, '6': 621, '4': 588, '[': 587, ']': 583, '5': 527, '0': 507, '7': 480, '9': 461, 'h': 436, '&': 413, '#': 412, 'x': 392, 'b': 354, 'f': 312, \"'\": 308, '*': 295, 'q': 280, 'g': 260, 'j': 198, 'z': 176, 'é': 120, '́': 109, '{': 106, '}': 106, '’': 88, '“': 79, '„': 76, 'y': 71, '>': 46, 'è': 44, '<': 44, 'k': 38, '\\x7f': 37, 'ê': 28, 'w': 28, 'ó': 27, 'à': 26, 'ô': 20, '̀': 14, '/': 12, '№': 12, '\\t': 8, '”': 7, 'á': 5, 'ü': 5, 'ò': 5, 'ç': 4, 'ö': 2, '°': 2, 'ï': 2, 'і': 2, 'î': 2, '‑': 2, 'ý': 2, 'â': 1, '`': 1, '\\x01': 1, 'ї': 1, '%': 1, '=': 1, 'û': 1})\n",
      "130 unusual symbols in data.\n"
     ]
    }
   ],
   "source": [
    "text_string = ''\n",
    "for sents in text:\n",
    "    text_string += sents.lower()\n",
    "\n",
    "char_cnt = Counter(text_string)\n",
    "print(char_cnt)\n",
    "print(len(char_cnt), 'unusual symbols in data.')"
   ]
  },
  {
   "cell_type": "markdown",
   "metadata": {
    "papermill": {
     "duration": 0.108018,
     "end_time": "2021-02-06T06:12:46.882679",
     "exception": false,
     "start_time": "2021-02-06T06:12:46.774661",
     "status": "completed"
    },
    "tags": []
   },
   "source": [
    "All symbols used:"
   ]
  },
  {
   "cell_type": "code",
   "execution_count": 31,
   "metadata": {
    "execution": {
     "iopub.execute_input": "2021-02-06T06:12:47.084962Z",
     "iopub.status.busy": "2021-02-06T06:12:47.084206Z",
     "iopub.status.idle": "2021-02-06T06:12:47.087276Z",
     "shell.execute_reply": "2021-02-06T06:12:47.087826Z"
    },
    "papermill": {
     "duration": 0.106532,
     "end_time": "2021-02-06T06:12:47.087994",
     "exception": false,
     "start_time": "2021-02-06T06:12:46.981462",
     "status": "completed"
    },
    "tags": []
   },
   "outputs": [
    {
     "name": "stdout",
     "output_type": "stream",
     "text": [
      "['п', 'о', 'с', 'л', 'у', 'ш', 'а', 'й', 'т', 'е', ',', ' ', 'д', 'к', 'р', '—', 'г', 'я', 'ч', 'з', 'н', 'х', 'и', 'в', '.', 'б', 'м', '(', ')', 'ж', 'ь', '?', '…', 'щ', 'ы', 'ф', '«', '\\xa0', ';', '»', 'ю', 'ц', '–', ':', 'э', '!', '-', 'ё', '8', '4', '6', 'i', '1', 'ъ', '\"', 'm', 'l', 'e', 'b', 'o', 'u', 'r', 'n', '*', '[', '2', '9', ']', 'à', \"'\", 'f', 'a', 't', '5', '3', '7', 'v', '„', '“', 'c', 'h', 'p', 's', '&', '#', 'd', 'g', 'x', 'q', '́', '\\x7f', '{', '}', '0', 'y', 'z', '’', 'ê', 'j', 'é', 'ó', 'è', 'ô', '̀', 'w', '/', '№', 'á', 'k', 'ü', 'â', '\\t', '>', 'ç', '<', 'ö', '”', '`', '°', 'ï', '\\x01', 'і', 'î', '‑', 'ї', '%', 'ý', 'ò', '=', 'û']\n"
     ]
    }
   ],
   "source": [
    "print(list(char_cnt.keys()))"
   ]
  },
  {
   "cell_type": "markdown",
   "metadata": {
    "papermill": {
     "duration": 0.098973,
     "end_time": "2021-02-06T06:12:47.284326",
     "exception": false,
     "start_time": "2021-02-06T06:12:47.185353",
     "status": "completed"
    },
    "tags": []
   },
   "source": [
    "Among them there are many that do not belong to the standard ones, such as punctuation or Cyrillic characters. Let's highlight those sentences in which they occur."
   ]
  },
  {
   "cell_type": "code",
   "execution_count": 32,
   "metadata": {
    "execution": {
     "iopub.execute_input": "2021-02-06T06:12:47.504402Z",
     "iopub.status.busy": "2021-02-06T06:12:47.494209Z",
     "iopub.status.idle": "2021-02-06T06:12:53.318596Z",
     "shell.execute_reply": "2021-02-06T06:12:53.319915Z"
    },
    "papermill": {
     "duration": 5.937926,
     "end_time": "2021-02-06T06:12:53.320166",
     "exception": false,
     "start_time": "2021-02-06T06:12:47.382240",
     "status": "completed"
    },
    "tags": []
   },
   "outputs": [
    {
     "name": "stdout",
     "output_type": "stream",
     "text": [
      "1343 sentences contains unusual symbols.\n"
     ]
    }
   ],
   "source": [
    "accented_chars = ['f', 'u', 'r', 's', 'i', 'c', 'h', '́', 'n', 'd', 'p', 'e', 'a', 't', 'o', 'l', 'x', 'm', 'j', 'é', 'ô', 'v', 'q', 'ê', 'g', 'b', 'k', 'y', 'à', 'і', 'z', 'w', 'è', 'ó', 'ö', '°', 'ç', 'ï', 'á', 'ü', 'ù', 'û', 'î', 'ѣ', 'â']\n",
    "\n",
    "accented_text = []\n",
    "for i in range(len(text)):\n",
    "    for j in text[i]:\n",
    "        if j in accented_chars:\n",
    "            accented_text.append(i)\n",
    "        \n",
    "accented_text = list(set(accented_text))\n",
    " \n",
    "print(len(accented_text), 'sentences contains unusual symbols.')"
   ]
  },
  {
   "cell_type": "code",
   "execution_count": 33,
   "metadata": {
    "execution": {
     "iopub.execute_input": "2021-02-06T06:12:53.649713Z",
     "iopub.status.busy": "2021-02-06T06:12:53.646732Z",
     "iopub.status.idle": "2021-02-06T06:12:53.653335Z",
     "shell.execute_reply": "2021-02-06T06:12:53.652619Z"
    },
    "papermill": {
     "duration": 0.177787,
     "end_time": "2021-02-06T06:12:53.653572",
     "exception": false,
     "start_time": "2021-02-06T06:12:53.475785",
     "status": "completed"
    },
    "tags": []
   },
   "outputs": [
    {
     "name": "stdout",
     "output_type": "stream",
     "text": [
      "Sentence number 24584: \n",
      "Я вас довезу..    Перед тем как уехать, уже в передней Нехлюдова встретил лакей с запиской к нему от Mariette:. \n",
      "\n",
      "Sentence number 57358: \n",
      "Евгений Федорович хотя и моветон note 2, между нами говоря, но сведущий; на него вполне можно положиться. \n",
      "\n",
      "Sentence number 40987: \n",
      "— И таким образом уничтожив молодого человека, Анна Павловна обратилась к Билибину, который в другом кружке, подобрав кожу и, видимо, сбираясь распустить ее, чтобы сказать un mot, говорил об австрийцах..      — Je trouve que c'est charmant! \n",
      "\n",
      "Sentence number 32807: \n",
      "слова  каким-то  раздавленным,  дребезжащим   голосом;   слово   prйfйrable,. \n",
      "\n",
      "Sentence number 41001: \n",
      "— Voudrez vous bien me dire &#224; pr&#233;sent, &#224; qui j'ai l'honneur de parler aussi agr&#233;ablement au lieu de rester &#224; l'ambulance avec la balle de ce fou dans le &#231;orps[240]..      Пьер отвечал, что не может сказать своего имени, и, покраснев, начал было, пытаясь выдумать имя, говорить о причинах, по которым он не может сказать этого, по француз поспешно перебил его..      — De gr&#226;ce, — сказал он. \n",
      "\n",
      "Sentence number 24619: \n",
      "Переведены уже четыре книги, а Воротов не знает ничего, кроме слова «mémoires», и когда его спрашивают об его научной работке, то он машет рукой и, не ответив на вопрос, заводит речь о погоде.. 1. до свиданья (франц. \n",
      "\n",
      "Sentence number 16428: \n",
      "Je comprends ces sentiments chez les autres et si je ne puis approuver ne les ayant jamais ressentis, je ne les condamne pas. \n",
      "\n",
      "Sentence number 57413: \n",
      "Конечно, я приписал расстройству..        - Cher enfant, ты ведь не сердишься за то, что я  тебе  ты  говорю,  не. \n",
      "\n",
      "Sentence number 49240: \n",
      "– повертываясь на кресле и защелкивая свой pince-nez, сказал он.. . \n",
      "\n",
      "Sentence number 24671: \n",
      "a Chopin?! \n",
      "\n"
     ]
    }
   ],
   "source": [
    "for i in accented_text[:10]:\n",
    "    print('Sentence number {}: '.format(i))\n",
    "    print(text[i], '\\n')"
   ]
  },
  {
   "cell_type": "markdown",
   "metadata": {
    "papermill": {
     "duration": 0.128404,
     "end_time": "2021-02-06T06:12:53.924274",
     "exception": false,
     "start_time": "2021-02-06T06:12:53.795870",
     "status": "completed"
    },
    "tags": []
   },
   "source": [
    "Based on the above research proposals, we can say that our data is quite suitable for analysis. The only thing is that you need to remove the indented blocks and some invalid characters that are artifacts of the original text."
   ]
  },
  {
   "cell_type": "markdown",
   "metadata": {
    "papermill": {
     "duration": 0.142483,
     "end_time": "2021-02-06T06:12:54.207661",
     "exception": false,
     "start_time": "2021-02-06T06:12:54.065178",
     "status": "completed"
    },
    "tags": []
   },
   "source": [
    "## Data preparation"
   ]
  },
  {
   "cell_type": "markdown",
   "metadata": {
    "papermill": {
     "duration": 0.10245,
     "end_time": "2021-02-06T06:12:54.414436",
     "exception": false,
     "start_time": "2021-02-06T06:12:54.311986",
     "status": "completed"
    },
    "tags": []
   },
   "source": [
    "This is exactly where we remove the unacceptable uninformative characters."
   ]
  },
  {
   "cell_type": "code",
   "execution_count": 34,
   "metadata": {
    "execution": {
     "iopub.execute_input": "2021-02-06T06:12:54.652599Z",
     "iopub.status.busy": "2021-02-06T06:12:54.637166Z",
     "iopub.status.idle": "2021-02-06T06:12:54.667198Z",
     "shell.execute_reply": "2021-02-06T06:12:54.666676Z"
    },
    "papermill": {
     "duration": 0.148152,
     "end_time": "2021-02-06T06:12:54.667374",
     "exception": false,
     "start_time": "2021-02-06T06:12:54.519222",
     "status": "completed"
    },
    "tags": []
   },
   "outputs": [],
   "source": [
    "text = [excerpt.replace('\\xa0', '').replace('\\x7f', '') for excerpt in text]"
   ]
  },
  {
   "cell_type": "markdown",
   "metadata": {
    "papermill": {
     "duration": 0.104871,
     "end_time": "2021-02-06T06:12:54.877137",
     "exception": false,
     "start_time": "2021-02-06T06:12:54.772266",
     "status": "completed"
    },
    "tags": []
   },
   "source": [
    "And big blocks of indentation."
   ]
  },
  {
   "cell_type": "code",
   "execution_count": 35,
   "metadata": {
    "execution": {
     "iopub.execute_input": "2021-02-06T06:12:55.110415Z",
     "iopub.status.busy": "2021-02-06T06:12:55.099006Z",
     "iopub.status.idle": "2021-02-06T06:12:55.113911Z",
     "shell.execute_reply": "2021-02-06T06:12:55.114444Z"
    },
    "papermill": {
     "duration": 0.133295,
     "end_time": "2021-02-06T06:12:55.114613",
     "exception": false,
     "start_time": "2021-02-06T06:12:54.981318",
     "status": "completed"
    },
    "tags": []
   },
   "outputs": [
    {
     "name": "stdout",
     "output_type": "stream",
     "text": [
      "9033 occurrences of large blocks of indentation.\n"
     ]
    }
   ],
   "source": [
    "ctr = 0\n",
    "for excerpt in text:\n",
    "    if '  ' in excerpt:\n",
    "        ctr += 1\n",
    "\n",
    "print(ctr, 'occurrences of large blocks of indentation.')"
   ]
  },
  {
   "cell_type": "code",
   "execution_count": 36,
   "metadata": {
    "execution": {
     "iopub.execute_input": "2021-02-06T06:12:55.358602Z",
     "iopub.status.busy": "2021-02-06T06:12:55.353588Z",
     "iopub.status.idle": "2021-02-06T06:12:55.392676Z",
     "shell.execute_reply": "2021-02-06T06:12:55.393199Z"
    },
    "papermill": {
     "duration": 0.171482,
     "end_time": "2021-02-06T06:12:55.393376",
     "exception": false,
     "start_time": "2021-02-06T06:12:55.221894",
     "status": "completed"
    },
    "tags": []
   },
   "outputs": [
    {
     "name": "stdout",
     "output_type": "stream",
     "text": [
      "60000\n"
     ]
    }
   ],
   "source": [
    "new_text = []\n",
    "for excerpt in text:\n",
    "    while '  ' in excerpt:\n",
    "        excerpt = excerpt.replace('  ',' ')\n",
    "    new_text.append(excerpt)\n",
    "\n",
    "text = new_text\n",
    "print(len(text))"
   ]
  },
  {
   "cell_type": "markdown",
   "metadata": {
    "papermill": {
     "duration": 0.106534,
     "end_time": "2021-02-06T06:12:55.607325",
     "exception": false,
     "start_time": "2021-02-06T06:12:55.500791",
     "status": "completed"
    },
    "tags": []
   },
   "source": [
    "Remove punctuation and convert all letters of the sentence to lowercase."
   ]
  },
  {
   "cell_type": "code",
   "execution_count": 37,
   "metadata": {
    "execution": {
     "iopub.execute_input": "2021-02-06T06:12:55.850505Z",
     "iopub.status.busy": "2021-02-06T06:12:55.845442Z",
     "iopub.status.idle": "2021-02-06T06:12:56.760803Z",
     "shell.execute_reply": "2021-02-06T06:12:56.761294Z"
    },
    "papermill": {
     "duration": 1.050614,
     "end_time": "2021-02-06T06:12:56.761586",
     "exception": false,
     "start_time": "2021-02-06T06:12:55.710972",
     "status": "completed"
    },
    "tags": []
   },
   "outputs": [
    {
     "name": "stdout",
     "output_type": "stream",
     "text": [
      "['послушайте доктор  горячо сказал он подходя к кирилову', 'тогда я обрадовался и страх мой прошел но я ошибался как и узнал потом к моему', 'тянет ирину за руку привлекает к себе', 'так чем могу служить', 'хотя черт его знает все равно']\n",
      "60000\n"
     ]
    }
   ],
   "source": [
    "normed_text = []\n",
    "\n",
    "for sent in text:\n",
    "    new = sent.lower()\n",
    "    new = new.translate(str.maketrans('','', string.punctuation))\n",
    "    new = new.replace('“', '').replace('”', '') # english quotes\n",
    "    new = new.replace('‟', '').replace('”', '') # french quotes\n",
    "    new = new.replace('«', '').replace('»', '') # christmas tree quotes\n",
    "    new = new.replace('—', '').replace('–', '') # em dash\n",
    "    new = new.replace('(', '').replace(')', '')\n",
    "    new = new.replace('…', '') # ellipsis as one character\n",
    "    \n",
    "    normed_text.append(new)\n",
    "    \n",
    "print(normed_text[0:5])\n",
    "print(len(normed_text))"
   ]
  },
  {
   "cell_type": "markdown",
   "metadata": {
    "papermill": {
     "duration": 0.105987,
     "end_time": "2021-02-06T06:12:56.997633",
     "exception": false,
     "start_time": "2021-02-06T06:12:56.891646",
     "status": "completed"
    },
    "tags": []
   },
   "source": [
    "## Save the prepared data"
   ]
  },
  {
   "cell_type": "code",
   "execution_count": 38,
   "metadata": {
    "execution": {
     "iopub.execute_input": "2021-02-06T06:12:57.224297Z",
     "iopub.status.busy": "2021-02-06T06:12:57.220049Z",
     "iopub.status.idle": "2021-02-06T06:12:57.609081Z",
     "shell.execute_reply": "2021-02-06T06:12:57.608455Z"
    },
    "papermill": {
     "duration": 0.50599,
     "end_time": "2021-02-06T06:12:57.609288",
     "exception": false,
     "start_time": "2021-02-06T06:12:57.103298",
     "status": "completed"
    },
    "tags": []
   },
   "outputs": [],
   "source": [
    "data['text'] = normed_text\n",
    "\n",
    "data.to_csv('preprocessed_data.csv', index=False)"
   ]
  },
  {
   "cell_type": "markdown",
   "metadata": {
    "papermill": {
     "duration": 0.100895,
     "end_time": "2021-02-06T06:12:57.814416",
     "exception": false,
     "start_time": "2021-02-06T06:12:57.713521",
     "status": "completed"
    },
    "tags": []
   },
   "source": [
    "# Analysys"
   ]
  },
  {
   "cell_type": "markdown",
   "metadata": {
    "papermill": {
     "duration": 0.101008,
     "end_time": "2021-02-06T06:12:58.017309",
     "exception": false,
     "start_time": "2021-02-06T06:12:57.916301",
     "status": "completed"
    },
    "tags": []
   },
   "source": [
    "Teaching and learning models."
   ]
  },
  {
   "cell_type": "markdown",
   "metadata": {
    "papermill": {
     "duration": 0.102576,
     "end_time": "2021-02-06T06:12:58.221196",
     "exception": false,
     "start_time": "2021-02-06T06:12:58.118620",
     "status": "completed"
    },
    "tags": []
   },
   "source": [
    "## Importing packages and loading pre-prepared data"
   ]
  },
  {
   "cell_type": "code",
   "execution_count": 39,
   "metadata": {
    "execution": {
     "iopub.execute_input": "2021-02-06T06:12:58.435973Z",
     "iopub.status.busy": "2021-02-06T06:12:58.435095Z",
     "iopub.status.idle": "2021-02-06T06:13:03.709336Z",
     "shell.execute_reply": "2021-02-06T06:13:03.708650Z"
    },
    "papermill": {
     "duration": 5.388271,
     "end_time": "2021-02-06T06:13:03.709498",
     "exception": false,
     "start_time": "2021-02-06T06:12:58.321227",
     "status": "completed"
    },
    "tags": []
   },
   "outputs": [],
   "source": [
    "from typing import List\n",
    "\n",
    "import numpy as np\n",
    "import pandas as pd\n",
    "from collections import Counter\n",
    "import seaborn as sns\n",
    "import matplotlib.pyplot as plt\n",
    "import string\n",
    "import time\n",
    "\n",
    "from sklearn.model_selection import train_test_split\n",
    "from sklearn.feature_extraction.text import TfidfVectorizer\n",
    "from sklearn.metrics import accuracy_score, confusion_matrix\n",
    "from sklearn.metrics import precision_recall_fscore_support as score\n",
    "from sklearn.preprocessing import LabelBinarizer\n",
    "\n",
    "import keras\n",
    "from keras.models import Model\n",
    "from keras.layers import Input, Dense, Flatten, Dropout, Embedding\n",
    "from keras.layers.convolutional import Conv1D, MaxPooling1D\n",
    "from keras.layers.merge import concatenate\n",
    "from keras.optimizers import Adam\n",
    "from keras.preprocessing.text import one_hot\n",
    "from keras.callbacks import ModelCheckpoint \n",
    "\n",
    "from scipy import stats"
   ]
  },
  {
   "cell_type": "code",
   "execution_count": 40,
   "metadata": {
    "execution": {
     "iopub.execute_input": "2021-02-06T06:13:03.985034Z",
     "iopub.status.busy": "2021-02-06T06:13:03.983995Z",
     "iopub.status.idle": "2021-02-06T06:13:04.319532Z",
     "shell.execute_reply": "2021-02-06T06:13:04.320879Z"
    },
    "papermill": {
     "duration": 0.505275,
     "end_time": "2021-02-06T06:13:04.321121",
     "exception": false,
     "start_time": "2021-02-06T06:13:03.815846",
     "status": "completed"
    },
    "tags": []
   },
   "outputs": [
    {
     "name": "stdout",
     "output_type": "stream",
     "text": [
      "                                                text      author\n",
      "0  послушайте доктор  горячо сказал он подходя к ...     Chekhov\n",
      "1  тогда я обрадовался и страх мой прошел но я ош...  Dostoevsky\n",
      "2              тянет ирину за руку привлекает к себе     Chekhov\n",
      "3                               так чем могу служить     Tolstoy\n",
      "4                      хотя черт его знает все равно     Chekhov\n"
     ]
    }
   ],
   "source": [
    "data = pd.read_csv(\"preprocessed_data.csv\", encoding='utf8')\n",
    "print(data.head())"
   ]
  },
  {
   "cell_type": "code",
   "execution_count": 41,
   "metadata": {
    "execution": {
     "iopub.execute_input": "2021-02-06T06:13:04.632931Z",
     "iopub.status.busy": "2021-02-06T06:13:04.632129Z",
     "iopub.status.idle": "2021-02-06T06:13:04.693052Z",
     "shell.execute_reply": "2021-02-06T06:13:04.694216Z"
    },
    "papermill": {
     "duration": 0.220424,
     "end_time": "2021-02-06T06:13:04.694453",
     "exception": false,
     "start_time": "2021-02-06T06:13:04.474029",
     "status": "completed"
    },
    "tags": []
   },
   "outputs": [],
   "source": [
    "normed_text = list(data['text'])\n",
    "author = list(data['author'])\n",
    "\n",
    "authors_names = list(Counter(author).keys())\n",
    "authors_count = len(authors_names)\n",
    "\n",
    "normed_text = [str(i) for i in normed_text]"
   ]
  },
  {
   "cell_type": "markdown",
   "metadata": {
    "papermill": {
     "duration": 0.131009,
     "end_time": "2021-02-06T06:13:04.947953",
     "exception": false,
     "start_time": "2021-02-06T06:13:04.816944",
     "status": "completed"
    },
    "tags": []
   },
   "source": [
    "## Section with statistics and output functions"
   ]
  },
  {
   "cell_type": "code",
   "execution_count": 42,
   "metadata": {
    "execution": {
     "iopub.execute_input": "2021-02-06T06:13:05.223288Z",
     "iopub.status.busy": "2021-02-06T06:13:05.222441Z",
     "iopub.status.idle": "2021-02-06T06:13:05.225546Z",
     "shell.execute_reply": "2021-02-06T06:13:05.225038Z"
    },
    "papermill": {
     "duration": 0.142228,
     "end_time": "2021-02-06T06:13:05.225698",
     "exception": false,
     "start_time": "2021-02-06T06:13:05.083470",
     "status": "completed"
    },
    "tags": []
   },
   "outputs": [],
   "source": [
    "def plot_confusion_matrix(cm, classes: List[str],\n",
    "                          normalize: bool = False,\n",
    "                          title: str = 'Confusion matrix',\n",
    "                          cmap = plt.cm.Greens):\n",
    "    if normalize:\n",
    "        cm = cm.astype('float') / cm.sum(axis=1)[:, np.newaxis]\n",
    "        print('Normalized confusion matrix')\n",
    "    else:\n",
    "        print('Unnormalized confusion matrix')\n",
    "\n",
    "    print(cm)\n",
    "       \n",
    "    df_cm = pd.DataFrame(cm, index = classes,\n",
    "                  columns = classes)\n",
    "    sns.heatmap(df_cm, annot=True, cmap = cmap)\n",
    "    plt.ylabel('Right author')\n",
    "    plt.xlabel('Predicted author')\n",
    "    plt.title(title)"
   ]
  },
  {
   "cell_type": "code",
   "execution_count": 43,
   "metadata": {
    "execution": {
     "iopub.execute_input": "2021-02-06T06:13:05.434808Z",
     "iopub.status.busy": "2021-02-06T06:13:05.433947Z",
     "iopub.status.idle": "2021-02-06T06:13:05.436462Z",
     "shell.execute_reply": "2021-02-06T06:13:05.436981Z"
    },
    "papermill": {
     "duration": 0.109726,
     "end_time": "2021-02-06T06:13:05.437168",
     "exception": false,
     "start_time": "2021-02-06T06:13:05.327442",
     "status": "completed"
    },
    "tags": []
   },
   "outputs": [],
   "source": [
    "def plot_history_of_accurancy(history):\n",
    "    plt.plot(history.history['accuracy'])\n",
    "    plt.plot(history.history['val_accuracy'])\n",
    "    plt.title('Model\\'s accurancy')\n",
    "    plt.ylabel('accurancy')\n",
    "    plt.xlabel('epochs')\n",
    "    plt.legend(['teaching data', 'test data'], loc='upper left')"
   ]
  },
  {
   "cell_type": "code",
   "execution_count": 44,
   "metadata": {
    "execution": {
     "iopub.execute_input": "2021-02-06T06:13:05.649897Z",
     "iopub.status.busy": "2021-02-06T06:13:05.649006Z",
     "iopub.status.idle": "2021-02-06T06:13:05.651537Z",
     "shell.execute_reply": "2021-02-06T06:13:05.651999Z"
    },
    "papermill": {
     "duration": 0.111586,
     "end_time": "2021-02-06T06:13:05.652211",
     "exception": false,
     "start_time": "2021-02-06T06:13:05.540625",
     "status": "completed"
    },
    "tags": []
   },
   "outputs": [],
   "source": [
    "def plot_history_of_loss(history):\n",
    "    plt.plot(history.history['loss'])\n",
    "    plt.plot(history.history['val_loss'])\n",
    "    plt.title('Model\\'s error')\n",
    "    plt.ylabel('error')\n",
    "    plt.xlabel('epochs')\n",
    "    plt.legend(['teaching data', 'test data'], loc='upper left')"
   ]
  },
  {
   "cell_type": "markdown",
   "metadata": {
    "papermill": {
     "duration": 0.102827,
     "end_time": "2021-02-06T06:13:05.858828",
     "exception": false,
     "start_time": "2021-02-06T06:13:05.756001",
     "status": "completed"
    },
    "tags": []
   },
   "source": [
    "## Preparing data for direct use"
   ]
  },
  {
   "cell_type": "markdown",
   "metadata": {
    "papermill": {
     "duration": 0.104594,
     "end_time": "2021-02-06T06:13:06.067967",
     "exception": false,
     "start_time": "2021-02-06T06:13:05.963373",
     "status": "completed"
    },
    "tags": []
   },
   "source": [
    "### We select the training and test set"
   ]
  },
  {
   "cell_type": "code",
   "execution_count": 45,
   "metadata": {
    "execution": {
     "iopub.execute_input": "2021-02-06T06:13:06.305190Z",
     "iopub.status.busy": "2021-02-06T06:13:06.300079Z",
     "iopub.status.idle": "2021-02-06T06:13:06.326295Z",
     "shell.execute_reply": "2021-02-06T06:13:06.325654Z"
    },
    "papermill": {
     "duration": 0.155615,
     "end_time": "2021-02-06T06:13:06.326448",
     "exception": false,
     "start_time": "2021-02-06T06:13:06.170833",
     "status": "completed"
    },
    "tags": []
   },
   "outputs": [],
   "source": [
    "text_train, text_test, author_train, author_test = train_test_split(normed_text, author, test_size=0.2, random_state=5)"
   ]
  },
  {
   "cell_type": "code",
   "execution_count": 46,
   "metadata": {
    "execution": {
     "iopub.execute_input": "2021-02-06T06:13:06.809942Z",
     "iopub.status.busy": "2021-02-06T06:13:06.809039Z",
     "iopub.status.idle": "2021-02-06T06:13:06.826368Z",
     "shell.execute_reply": "2021-02-06T06:13:06.827383Z"
    },
    "papermill": {
     "duration": 0.394251,
     "end_time": "2021-02-06T06:13:06.827619",
     "exception": false,
     "start_time": "2021-02-06T06:13:06.433368",
     "status": "completed"
    },
    "tags": []
   },
   "outputs": [
    {
     "name": "stdout",
     "output_type": "stream",
     "text": [
      "(48000,)\n",
      "(12000,)\n",
      "(48000,)\n",
      "(12000,)\n"
     ]
    }
   ],
   "source": [
    "print(np.shape(text_train))\n",
    "print(np.shape(text_test))\n",
    "print(np.shape(author_train))\n",
    "print(np.shape(author_test))"
   ]
  },
  {
   "cell_type": "markdown",
   "metadata": {
    "papermill": {
     "duration": 0.105306,
     "end_time": "2021-02-06T06:13:07.038439",
     "exception": false,
     "start_time": "2021-02-06T06:13:06.933133",
     "status": "completed"
    },
    "tags": []
   },
   "source": [
    "### Create n-gram sequences"
   ]
  },
  {
   "cell_type": "code",
   "execution_count": 47,
   "metadata": {
    "execution": {
     "iopub.execute_input": "2021-02-06T06:13:07.256010Z",
     "iopub.status.busy": "2021-02-06T06:13:07.255036Z",
     "iopub.status.idle": "2021-02-06T06:13:07.258069Z",
     "shell.execute_reply": "2021-02-06T06:13:07.257545Z"
    },
    "papermill": {
     "duration": 0.114594,
     "end_time": "2021-02-06T06:13:07.258232",
     "exception": false,
     "start_time": "2021-02-06T06:13:07.143638",
     "status": "completed"
    },
    "tags": []
   },
   "outputs": [],
   "source": [
    "def create_n_grams(excerpt_list: List[str], n: int, vocab_size: int, seq_size: int):\n",
    "    n_gram_list = []\n",
    "\n",
    "    for excerpt in excerpt_list:\n",
    "        excerpt = excerpt.replace(\" \", \"\")\n",
    "\n",
    "        n_grams = [excerpt[i:i + n] for i in range(len(excerpt) - n + 1)]\n",
    "\n",
    "        new_string = \" \".join(n_grams)\n",
    "\n",
    "        hot = one_hot(new_string, round(vocab_size * 1.3))\n",
    "\n",
    "        hot_len = len(hot)\n",
    "        if hot_len >= seq_size:\n",
    "            hot = hot[0:seq_size]\n",
    "        else:\n",
    "            diff = seq_size - hot_len\n",
    "            extra = [0]*diff\n",
    "            hot = hot + extra\n",
    "\n",
    "        n_gram_list.append(hot)\n",
    "    \n",
    "    n_gram_array = np.array(n_gram_list)\n",
    "    \n",
    "    return n_gram_array"
   ]
  },
  {
   "cell_type": "code",
   "execution_count": 48,
   "metadata": {
    "execution": {
     "iopub.execute_input": "2021-02-06T06:13:07.474973Z",
     "iopub.status.busy": "2021-02-06T06:13:07.474097Z",
     "iopub.status.idle": "2021-02-06T06:13:07.477042Z",
     "shell.execute_reply": "2021-02-06T06:13:07.476539Z"
    },
    "papermill": {
     "duration": 0.115453,
     "end_time": "2021-02-06T06:13:07.477179",
     "exception": false,
     "start_time": "2021-02-06T06:13:07.361726",
     "status": "completed"
    },
    "tags": []
   },
   "outputs": [],
   "source": [
    "def get_vocab_size(excerpt_list: List[str], n: int, seq_size: int) -> int:\n",
    "    n_gram_list = []\n",
    "\n",
    "    for excerpt in excerpt_list:\n",
    "        excerpt = excerpt.replace(\" \", \"\")\n",
    "   \n",
    "        n_grams = [excerpt[i:i + n] for i in range(len(excerpt) - n + 1)]\n",
    "\n",
    "        gram_len = len(n_grams)\n",
    "        if gram_len >= seq_size:\n",
    "            n_grams = n_grams[0:seq_size]\n",
    "        else:\n",
    "            diff = seq_size - gram_len\n",
    "            extra = [0]*diff\n",
    "            n_grams = n_grams + extra\n",
    "        \n",
    "        n_gram_list.append(n_grams)\n",
    "    \n",
    "    n_gram_list = list(np.array(n_gram_list).flat)\n",
    "    \n",
    "    n_gram_cnt = Counter(n_gram_list)\n",
    "    vocab_size = len(n_gram_cnt)\n",
    "    \n",
    "    return vocab_size"
   ]
  },
  {
   "cell_type": "markdown",
   "metadata": {
    "papermill": {
     "duration": 0.104804,
     "end_time": "2021-02-06T06:13:07.686218",
     "exception": false,
     "start_time": "2021-02-06T06:13:07.581414",
     "status": "completed"
    },
    "tags": []
   },
   "source": [
    "Determine the size of the dictionary for n from 1 to 3 inclusive:"
   ]
  },
  {
   "cell_type": "code",
   "execution_count": 49,
   "metadata": {
    "execution": {
     "iopub.execute_input": "2021-02-06T06:13:07.929159Z",
     "iopub.status.busy": "2021-02-06T06:13:07.924113Z",
     "iopub.status.idle": "2021-02-06T06:14:06.044005Z",
     "shell.execute_reply": "2021-02-06T06:14:06.043437Z"
    },
    "papermill": {
     "duration": 58.254886,
     "end_time": "2021-02-06T06:14:06.044184",
     "exception": false,
     "start_time": "2021-02-06T06:13:07.789298",
     "status": "completed"
    },
    "tags": []
   },
   "outputs": [
    {
     "name": "stdout",
     "output_type": "stream",
     "text": [
      "Size for n = 1 is: 96\n",
      "Size for n = 2 is: 2840\n",
      "Size for n = 3 is: 23854\n"
     ]
    }
   ],
   "source": [
    "vocab_sizes = []\n",
    "for i in range(1, 4):\n",
    "    vocab_sizes.append(get_vocab_size(text_train, i, 350))\n",
    "    print('Size for n =', i, 'is:', vocab_sizes[i - 1])"
   ]
  },
  {
   "cell_type": "markdown",
   "metadata": {
    "papermill": {
     "duration": 0.107257,
     "end_time": "2021-02-06T06:14:06.258897",
     "exception": false,
     "start_time": "2021-02-06T06:14:06.151640",
     "status": "completed"
    },
    "tags": []
   },
   "source": [
    "And create lists of n-grams:"
   ]
  },
  {
   "cell_type": "code",
   "execution_count": 50,
   "metadata": {
    "execution": {
     "iopub.execute_input": "2021-02-06T06:14:06.504041Z",
     "iopub.status.busy": "2021-02-06T06:14:06.483546Z",
     "iopub.status.idle": "2021-02-06T06:14:32.165398Z",
     "shell.execute_reply": "2021-02-06T06:14:32.166679Z"
    },
    "papermill": {
     "duration": 25.802303,
     "end_time": "2021-02-06T06:14:32.166915",
     "exception": false,
     "start_time": "2021-02-06T06:14:06.364612",
     "status": "completed"
    },
    "tags": []
   },
   "outputs": [],
   "source": [
    "gram1_train = create_n_grams(text_train, 1, vocab_sizes[0], 350)\n",
    "gram2_train = create_n_grams(text_train, 2, vocab_sizes[1], 350)\n",
    "gram3_train = create_n_grams(text_train, 3, vocab_sizes[2], 350)"
   ]
  },
  {
   "cell_type": "code",
   "execution_count": 51,
   "metadata": {
    "execution": {
     "iopub.execute_input": "2021-02-06T06:14:32.487229Z",
     "iopub.status.busy": "2021-02-06T06:14:32.486280Z",
     "iopub.status.idle": "2021-02-06T06:14:38.581328Z",
     "shell.execute_reply": "2021-02-06T06:14:38.580256Z"
    },
    "papermill": {
     "duration": 6.265188,
     "end_time": "2021-02-06T06:14:38.581490",
     "exception": false,
     "start_time": "2021-02-06T06:14:32.316302",
     "status": "completed"
    },
    "tags": []
   },
   "outputs": [],
   "source": [
    "gram1_test = create_n_grams(text_test, 1, vocab_sizes[0], 350)\n",
    "gram2_test = create_n_grams(text_test, 2, vocab_sizes[1], 350)\n",
    "gram3_test = create_n_grams(text_test, 3, vocab_sizes[2], 350)"
   ]
  },
  {
   "cell_type": "code",
   "execution_count": 52,
   "metadata": {
    "execution": {
     "iopub.execute_input": "2021-02-06T06:14:38.807767Z",
     "iopub.status.busy": "2021-02-06T06:14:38.806804Z",
     "iopub.status.idle": "2021-02-06T06:14:38.812556Z",
     "shell.execute_reply": "2021-02-06T06:14:38.811865Z"
    },
    "papermill": {
     "duration": 0.1247,
     "end_time": "2021-02-06T06:14:38.812702",
     "exception": false,
     "start_time": "2021-02-06T06:14:38.688002",
     "status": "completed"
    },
    "tags": []
   },
   "outputs": [
    {
     "name": "stdout",
     "output_type": "stream",
     "text": [
      "(48000, 350)\n",
      "(48000, 350)\n",
      "(48000, 350)\n",
      "(12000, 350)\n",
      "(12000, 350)\n",
      "(12000, 350)\n"
     ]
    }
   ],
   "source": [
    "print(np.shape(gram1_train))\n",
    "print(np.shape(gram2_train))\n",
    "print(np.shape(gram3_train))\n",
    "\n",
    "print(np.shape(gram1_test))\n",
    "print(np.shape(gram2_test))\n",
    "print(np.shape(gram3_test))"
   ]
  },
  {
   "cell_type": "markdown",
   "metadata": {
    "papermill": {
     "duration": 0.106527,
     "end_time": "2021-02-06T06:14:39.031027",
     "exception": false,
     "start_time": "2021-02-06T06:14:38.924500",
     "status": "completed"
    },
    "tags": []
   },
   "source": [
    "Определим максимальное значение n-грамм, что будет использовано для создания сети."
   ]
  },
  {
   "cell_type": "code",
   "execution_count": 53,
   "metadata": {
    "execution": {
     "iopub.execute_input": "2021-02-06T06:14:39.254385Z",
     "iopub.status.busy": "2021-02-06T06:14:39.253408Z",
     "iopub.status.idle": "2021-02-06T06:14:39.310369Z",
     "shell.execute_reply": "2021-02-06T06:14:39.310915Z"
    },
    "papermill": {
     "duration": 0.171561,
     "end_time": "2021-02-06T06:14:39.311100",
     "exception": false,
     "start_time": "2021-02-06T06:14:39.139539",
     "status": "completed"
    },
    "tags": []
   },
   "outputs": [
    {
     "name": "stdout",
     "output_type": "stream",
     "text": [
      "Max value for 1-gramms:  124\n",
      "Max value for bigramms:  3690\n",
      "Max value for trigramms:  31008\n"
     ]
    }
   ],
   "source": [
    "max_1gram = np.max(gram1_train)\n",
    "max_2gram = np.max(gram2_train)\n",
    "max_3gram = np.max(gram3_train)\n",
    "\n",
    "print('Max value for 1-gramms: ', max_1gram)\n",
    "print('Max value for bigramms: ', max_2gram)\n",
    "print('Max value for trigramms: ', max_3gram)"
   ]
  },
  {
   "cell_type": "markdown",
   "metadata": {
    "papermill": {
     "duration": 0.109486,
     "end_time": "2021-02-06T06:14:39.528244",
     "exception": false,
     "start_time": "2021-02-06T06:14:39.418758",
     "status": "completed"
    },
    "tags": []
   },
   "source": [
    "## Vectorization"
   ]
  },
  {
   "cell_type": "code",
   "execution_count": 54,
   "metadata": {
    "execution": {
     "iopub.execute_input": "2021-02-06T06:14:39.756361Z",
     "iopub.status.busy": "2021-02-06T06:14:39.755485Z",
     "iopub.status.idle": "2021-02-06T06:14:39.759276Z",
     "shell.execute_reply": "2021-02-06T06:14:39.760003Z"
    },
    "papermill": {
     "duration": 0.121584,
     "end_time": "2021-02-06T06:14:39.760292",
     "exception": false,
     "start_time": "2021-02-06T06:14:39.638708",
     "status": "completed"
    },
    "tags": []
   },
   "outputs": [
    {
     "name": "stdout",
     "output_type": "stream",
     "text": [
      "['татьяна', ' сухо сказал он ему и кликнув кучера принялся выпрастывать лошадей ', 'я был там и нашел две трети людей и лошадей перебитыми два орудия исковерканными и прикрытия никакого князь багратион и тушин одинаково упорно смотрели теперь на сдержанно и взволнованно говорившего болконского и ежели ваше сиятельство позволите мне высказать свое мнение продолжал он то успехом дня мы обязаны более всего действию этой батареи и геройской стойкости капитана тушина с его ротой сказал князь андрей и не ожидая ответа тотчас же встал и отошел от стола князь багратион посмотрел на тушина и видимо не желая выказать недоверия к резкому суждению болконского и вместе с тем чувствуя себя не в состоянии вполне верить ему наклонил голову и сказал тушину что он может идти', 'и проказникто я и забавникто я и перепугалто я их ну такое сладчайшее что самому стыдно стало так что стоишь да со страхом и думаешь как такого грешника такое место святое на себе держать может', 'живо']\n"
     ]
    }
   ],
   "source": [
    "processed_train = text_train\n",
    "processed_test = text_test\n",
    "\n",
    "print(processed_train[0:5])"
   ]
  },
  {
   "cell_type": "code",
   "execution_count": 55,
   "metadata": {
    "execution": {
     "iopub.execute_input": "2021-02-06T06:14:40.001364Z",
     "iopub.status.busy": "2021-02-06T06:14:39.996294Z",
     "iopub.status.idle": "2021-02-06T06:14:45.871408Z",
     "shell.execute_reply": "2021-02-06T06:14:45.870130Z"
    },
    "papermill": {
     "duration": 6.000575,
     "end_time": "2021-02-06T06:14:45.871573",
     "exception": false,
     "start_time": "2021-02-06T06:14:39.870998",
     "status": "completed"
    },
    "tags": []
   },
   "outputs": [
    {
     "name": "stdout",
     "output_type": "stream",
     "text": [
      "Dictionary size:  11217\n"
     ]
    }
   ],
   "source": [
    "vectorizer = TfidfVectorizer(strip_accents = 'unicode', min_df = 6)\n",
    "vectorizer.fit(processed_train)\n",
    "\n",
    "print('Dictionary size: ', len(vectorizer.vocabulary_))\n",
    "\n",
    "words_train = vectorizer.transform(processed_train)\n",
    "words_test = vectorizer.transform(processed_test)"
   ]
  },
  {
   "cell_type": "code",
   "execution_count": 56,
   "metadata": {
    "execution": {
     "iopub.execute_input": "2021-02-06T06:14:46.105421Z",
     "iopub.status.busy": "2021-02-06T06:14:46.104506Z",
     "iopub.status.idle": "2021-02-06T06:14:46.251982Z",
     "shell.execute_reply": "2021-02-06T06:14:46.252457Z"
    },
    "papermill": {
     "duration": 0.269252,
     "end_time": "2021-02-06T06:14:46.252635",
     "exception": false,
     "start_time": "2021-02-06T06:14:45.983383",
     "status": "completed"
    },
    "tags": []
   },
   "outputs": [],
   "source": [
    "author_lb = LabelBinarizer()\n",
    "\n",
    "author_lb.fit(author_train)\n",
    "author_train_hot = author_lb.transform(author_train)\n",
    "author_test_hot = author_lb.transform(author_test)"
   ]
  },
  {
   "cell_type": "markdown",
   "metadata": {
    "papermill": {
     "duration": 0.106869,
     "end_time": "2021-02-06T06:14:46.467390",
     "exception": false,
     "start_time": "2021-02-06T06:14:46.360521",
     "status": "completed"
    },
    "tags": []
   },
   "source": [
    "## Model implementation"
   ]
  },
  {
   "cell_type": "markdown",
   "metadata": {
    "papermill": {
     "duration": 0.108389,
     "end_time": "2021-02-06T06:14:46.684216",
     "exception": false,
     "start_time": "2021-02-06T06:14:46.575827",
     "status": "completed"
    },
    "tags": []
   },
   "source": [
    "https://machinelearningmastery.com/develop-n-gram-multichannel-convolutional-neural-network-sentiment-analysis/"
   ]
  },
  {
   "cell_type": "code",
   "execution_count": 57,
   "metadata": {
    "execution": {
     "iopub.execute_input": "2021-02-06T06:14:46.925041Z",
     "iopub.status.busy": "2021-02-06T06:14:46.919741Z",
     "iopub.status.idle": "2021-02-06T06:14:46.927687Z",
     "shell.execute_reply": "2021-02-06T06:14:46.927155Z"
    },
    "papermill": {
     "duration": 0.133415,
     "end_time": "2021-02-06T06:14:46.927819",
     "exception": false,
     "start_time": "2021-02-06T06:14:46.794404",
     "status": "completed"
    },
    "tags": []
   },
   "outputs": [],
   "source": [
    "def define_model(input_len: int, output_size: int, vocab_size : int, embedding_dim: int, verbose: bool = True,\n",
    "                drop_out_pct: float = 0.25, conv_filters: int = 500, activation_fn: str = 'relu', pool_size: int = 2, learning: float = 0.0001):\n",
    "    inputs1 = Input(shape=(input_len,))\n",
    "    embedding1 = Embedding(vocab_size, embedding_dim)(inputs1)\n",
    "    drop1 = Dropout(drop_out_pct)(embedding1)\n",
    "    conv1 = Conv1D(filters=conv_filters, kernel_size=3, activation=activation_fn)(drop1)\n",
    "    pool1 = MaxPooling1D(pool_size=pool_size)(conv1)\n",
    "    flat1 = Flatten()(pool1)\n",
    "    \n",
    "    inputs2 = Input(shape=(input_len,))\n",
    "    embedding2 = Embedding(vocab_size, embedding_dim)(inputs2)\n",
    "    drop2 = Dropout(drop_out_pct)(embedding2)\n",
    "    conv2 = Conv1D(filters=conv_filters, kernel_size=4, activation=activation_fn)(drop2)\n",
    "    pool2 = MaxPooling1D(pool_size=pool_size)(conv2)\n",
    "    flat2 = Flatten()(pool2)\n",
    "    \n",
    "    inputs3 = Input(shape=(input_len,))\n",
    "    embedding3= Embedding(vocab_size, embedding_dim)(inputs3)\n",
    "    drop3 = Dropout(drop_out_pct)(embedding3)\n",
    "    conv3 = Conv1D(filters=conv_filters, kernel_size=5, activation=activation_fn)(drop3)\n",
    "    pool3 = MaxPooling1D(pool_size=pool_size)(conv3)\n",
    "    flat3 = Flatten()(pool3)\n",
    "    \n",
    "    merged = concatenate([flat1, flat2, flat3])\n",
    "    \n",
    "    output = Dense(output_size, activation='softmax')(merged)\n",
    "    \n",
    "    model = Model(inputs=[inputs1, inputs2, inputs3], outputs=output)\n",
    "    \n",
    "    model.compile(loss='categorical_crossentropy', optimizer=Adam(lr=learning), metrics=['accuracy'])\n",
    "    \n",
    "    if verbose:\n",
    "        print(model.summary())\n",
    "        \n",
    "    return model"
   ]
  },
  {
   "cell_type": "markdown",
   "metadata": {
    "papermill": {
     "duration": 0.110787,
     "end_time": "2021-02-06T06:14:47.147807",
     "exception": false,
     "start_time": "2021-02-06T06:14:47.037020",
     "status": "completed"
    },
    "tags": []
   },
   "source": [
    "## Calculations"
   ]
  },
  {
   "cell_type": "code",
   "execution_count": 58,
   "metadata": {
    "execution": {
     "iopub.execute_input": "2021-02-06T06:14:47.374250Z",
     "iopub.status.busy": "2021-02-06T06:14:47.373596Z",
     "iopub.status.idle": "2021-02-06T06:14:50.422073Z",
     "shell.execute_reply": "2021-02-06T06:14:50.421302Z"
    },
    "papermill": {
     "duration": 3.164771,
     "end_time": "2021-02-06T06:14:50.422324",
     "exception": false,
     "start_time": "2021-02-06T06:14:47.257553",
     "status": "completed"
    },
    "tags": []
   },
   "outputs": [
    {
     "name": "stdout",
     "output_type": "stream",
     "text": [
      "Model: \"model\"\n",
      "__________________________________________________________________________________________________\n",
      "Layer (type)                    Output Shape         Param #     Connected to                     \n",
      "==================================================================================================\n",
      "input_1 (InputLayer)            [(None, 350)]        0                                            \n",
      "__________________________________________________________________________________________________\n",
      "input_2 (InputLayer)            [(None, 350)]        0                                            \n",
      "__________________________________________________________________________________________________\n",
      "input_3 (InputLayer)            [(None, 350)]        0                                            \n",
      "__________________________________________________________________________________________________\n",
      "embedding (Embedding)           (None, 350, 26)      3250        input_1[0][0]                    \n",
      "__________________________________________________________________________________________________\n",
      "embedding_1 (Embedding)         (None, 350, 26)      3250        input_2[0][0]                    \n",
      "__________________________________________________________________________________________________\n",
      "embedding_2 (Embedding)         (None, 350, 26)      3250        input_3[0][0]                    \n",
      "__________________________________________________________________________________________________\n",
      "dropout (Dropout)               (None, 350, 26)      0           embedding[0][0]                  \n",
      "__________________________________________________________________________________________________\n",
      "dropout_1 (Dropout)             (None, 350, 26)      0           embedding_1[0][0]                \n",
      "__________________________________________________________________________________________________\n",
      "dropout_2 (Dropout)             (None, 350, 26)      0           embedding_2[0][0]                \n",
      "__________________________________________________________________________________________________\n",
      "conv1d (Conv1D)                 (None, 348, 500)     39500       dropout[0][0]                    \n",
      "__________________________________________________________________________________________________\n",
      "conv1d_1 (Conv1D)               (None, 347, 500)     52500       dropout_1[0][0]                  \n",
      "__________________________________________________________________________________________________\n",
      "conv1d_2 (Conv1D)               (None, 346, 500)     65500       dropout_2[0][0]                  \n",
      "__________________________________________________________________________________________________\n",
      "max_pooling1d (MaxPooling1D)    (None, 174, 500)     0           conv1d[0][0]                     \n",
      "__________________________________________________________________________________________________\n",
      "max_pooling1d_1 (MaxPooling1D)  (None, 173, 500)     0           conv1d_1[0][0]                   \n",
      "__________________________________________________________________________________________________\n",
      "max_pooling1d_2 (MaxPooling1D)  (None, 173, 500)     0           conv1d_2[0][0]                   \n",
      "__________________________________________________________________________________________________\n",
      "flatten (Flatten)               (None, 87000)        0           max_pooling1d[0][0]              \n",
      "__________________________________________________________________________________________________\n",
      "flatten_1 (Flatten)             (None, 86500)        0           max_pooling1d_1[0][0]            \n",
      "__________________________________________________________________________________________________\n",
      "flatten_2 (Flatten)             (None, 86500)        0           max_pooling1d_2[0][0]            \n",
      "__________________________________________________________________________________________________\n",
      "concatenate (Concatenate)       (None, 260000)       0           flatten[0][0]                    \n",
      "                                                                 flatten_1[0][0]                  \n",
      "                                                                 flatten_2[0][0]                  \n",
      "__________________________________________________________________________________________________\n",
      "dense (Dense)                   (None, 3)            780003      concatenate[0][0]                \n",
      "==================================================================================================\n",
      "Total params: 947,253\n",
      "Trainable params: 947,253\n",
      "Non-trainable params: 0\n",
      "__________________________________________________________________________________________________\n",
      "None\n"
     ]
    }
   ],
   "source": [
    "gram1_model = define_model(350, authors_count, max_1gram + 1, 26)"
   ]
  },
  {
   "cell_type": "code",
   "execution_count": 59,
   "metadata": {
    "execution": {
     "iopub.execute_input": "2021-02-06T06:14:50.643105Z",
     "iopub.status.busy": "2021-02-06T06:14:50.642331Z",
     "iopub.status.idle": "2021-02-06T06:17:59.915463Z",
     "shell.execute_reply": "2021-02-06T06:17:59.914781Z"
    },
    "papermill": {
     "duration": 189.385944,
     "end_time": "2021-02-06T06:17:59.915614",
     "exception": false,
     "start_time": "2021-02-06T06:14:50.529670",
     "status": "completed"
    },
    "tags": []
   },
   "outputs": [
    {
     "name": "stdout",
     "output_type": "stream",
     "text": [
      "Epoch 1/10\n",
      "1200/1200 [==============================] - 23s 16ms/step - loss: 1.0952 - accuracy: 0.3681 - val_loss: 1.0670 - val_accuracy: 0.4332\n",
      "Epoch 2/10\n",
      "1200/1200 [==============================] - 19s 16ms/step - loss: 1.0593 - accuracy: 0.4413 - val_loss: 1.0445 - val_accuracy: 0.4552\n",
      "Epoch 3/10\n",
      "1200/1200 [==============================] - 18s 15ms/step - loss: 1.0259 - accuracy: 0.4734 - val_loss: 1.0383 - val_accuracy: 0.4636\n",
      "Epoch 4/10\n",
      "1200/1200 [==============================] - 19s 15ms/step - loss: 1.0031 - accuracy: 0.4948 - val_loss: 1.0405 - val_accuracy: 0.4572\n",
      "Epoch 5/10\n",
      "1200/1200 [==============================] - 18s 15ms/step - loss: 0.9782 - accuracy: 0.5166 - val_loss: 1.0228 - val_accuracy: 0.4731\n",
      "Epoch 6/10\n",
      "1200/1200 [==============================] - 18s 15ms/step - loss: 0.9544 - accuracy: 0.5364 - val_loss: 1.0340 - val_accuracy: 0.4715\n",
      "Epoch 7/10\n",
      "1200/1200 [==============================] - 18s 15ms/step - loss: 0.9282 - accuracy: 0.5531 - val_loss: 1.0183 - val_accuracy: 0.4797\n",
      "Epoch 8/10\n",
      "1200/1200 [==============================] - 18s 15ms/step - loss: 0.9003 - accuracy: 0.5766 - val_loss: 1.0341 - val_accuracy: 0.4753\n",
      "Epoch 9/10\n",
      "1200/1200 [==============================] - 19s 16ms/step - loss: 0.8789 - accuracy: 0.5884 - val_loss: 1.0189 - val_accuracy: 0.4918\n",
      "Epoch 10/10\n",
      "1200/1200 [==============================] - 18s 15ms/step - loss: 0.8549 - accuracy: 0.6008 - val_loss: 1.0276 - val_accuracy: 0.4909\n"
     ]
    }
   ],
   "source": [
    "gram1_model_history = gram1_model.fit([gram1_train, gram1_train, gram1_train], author_train_hot, epochs=10, batch_size=32, \n",
    "                verbose = 1, validation_split = 0.2)"
   ]
  },
  {
   "cell_type": "code",
   "execution_count": 60,
   "metadata": {
    "execution": {
     "iopub.execute_input": "2021-02-06T06:18:02.476988Z",
     "iopub.status.busy": "2021-02-06T06:18:02.468578Z",
     "iopub.status.idle": "2021-02-06T06:18:02.616099Z",
     "shell.execute_reply": "2021-02-06T06:18:02.614806Z"
    },
    "papermill": {
     "duration": 1.4277,
     "end_time": "2021-02-06T06:18:02.616327",
     "exception": false,
     "start_time": "2021-02-06T06:18:01.188627",
     "status": "completed"
    },
    "tags": []
   },
   "outputs": [
    {
     "name": "stdout",
     "output_type": "stream",
     "text": [
      "Model: \"model_1\"\n",
      "__________________________________________________________________________________________________\n",
      "Layer (type)                    Output Shape         Param #     Connected to                     \n",
      "==================================================================================================\n",
      "input_4 (InputLayer)            [(None, 350)]        0                                            \n",
      "__________________________________________________________________________________________________\n",
      "input_5 (InputLayer)            [(None, 350)]        0                                            \n",
      "__________________________________________________________________________________________________\n",
      "input_6 (InputLayer)            [(None, 350)]        0                                            \n",
      "__________________________________________________________________________________________________\n",
      "embedding_3 (Embedding)         (None, 350, 300)     1107300     input_4[0][0]                    \n",
      "__________________________________________________________________________________________________\n",
      "embedding_4 (Embedding)         (None, 350, 300)     1107300     input_5[0][0]                    \n",
      "__________________________________________________________________________________________________\n",
      "embedding_5 (Embedding)         (None, 350, 300)     1107300     input_6[0][0]                    \n",
      "__________________________________________________________________________________________________\n",
      "dropout_3 (Dropout)             (None, 350, 300)     0           embedding_3[0][0]                \n",
      "__________________________________________________________________________________________________\n",
      "dropout_4 (Dropout)             (None, 350, 300)     0           embedding_4[0][0]                \n",
      "__________________________________________________________________________________________________\n",
      "dropout_5 (Dropout)             (None, 350, 300)     0           embedding_5[0][0]                \n",
      "__________________________________________________________________________________________________\n",
      "conv1d_3 (Conv1D)               (None, 348, 500)     450500      dropout_3[0][0]                  \n",
      "__________________________________________________________________________________________________\n",
      "conv1d_4 (Conv1D)               (None, 347, 500)     600500      dropout_4[0][0]                  \n",
      "__________________________________________________________________________________________________\n",
      "conv1d_5 (Conv1D)               (None, 346, 500)     750500      dropout_5[0][0]                  \n",
      "__________________________________________________________________________________________________\n",
      "max_pooling1d_3 (MaxPooling1D)  (None, 174, 500)     0           conv1d_3[0][0]                   \n",
      "__________________________________________________________________________________________________\n",
      "max_pooling1d_4 (MaxPooling1D)  (None, 173, 500)     0           conv1d_4[0][0]                   \n",
      "__________________________________________________________________________________________________\n",
      "max_pooling1d_5 (MaxPooling1D)  (None, 173, 500)     0           conv1d_5[0][0]                   \n",
      "__________________________________________________________________________________________________\n",
      "flatten_3 (Flatten)             (None, 87000)        0           max_pooling1d_3[0][0]            \n",
      "__________________________________________________________________________________________________\n",
      "flatten_4 (Flatten)             (None, 86500)        0           max_pooling1d_4[0][0]            \n",
      "__________________________________________________________________________________________________\n",
      "flatten_5 (Flatten)             (None, 86500)        0           max_pooling1d_5[0][0]            \n",
      "__________________________________________________________________________________________________\n",
      "concatenate_1 (Concatenate)     (None, 260000)       0           flatten_3[0][0]                  \n",
      "                                                                 flatten_4[0][0]                  \n",
      "                                                                 flatten_5[0][0]                  \n",
      "__________________________________________________________________________________________________\n",
      "dense_1 (Dense)                 (None, 3)            780003      concatenate_1[0][0]              \n",
      "==================================================================================================\n",
      "Total params: 5,903,403\n",
      "Trainable params: 5,903,403\n",
      "Non-trainable params: 0\n",
      "__________________________________________________________________________________________________\n",
      "None\n"
     ]
    }
   ],
   "source": [
    "gram2_model = define_model(350, authors_count, max_2gram + 1, 300)"
   ]
  },
  {
   "cell_type": "code",
   "execution_count": 61,
   "metadata": {
    "execution": {
     "iopub.execute_input": "2021-02-06T06:18:04.962391Z",
     "iopub.status.busy": "2021-02-06T06:18:04.961344Z",
     "iopub.status.idle": "2021-02-06T06:32:09.747659Z",
     "shell.execute_reply": "2021-02-06T06:32:09.747025Z"
    },
    "papermill": {
     "duration": 845.958676,
     "end_time": "2021-02-06T06:32:09.747807",
     "exception": false,
     "start_time": "2021-02-06T06:18:03.789131",
     "status": "completed"
    },
    "tags": []
   },
   "outputs": [
    {
     "name": "stdout",
     "output_type": "stream",
     "text": [
      "Epoch 1/10\n",
      "1200/1200 [==============================] - 85s 70ms/step - loss: 1.0910 - accuracy: 0.3865 - val_loss: 1.0041 - val_accuracy: 0.5034\n",
      "Epoch 2/10\n",
      "1200/1200 [==============================] - 84s 70ms/step - loss: 0.9479 - accuracy: 0.5474 - val_loss: 0.9445 - val_accuracy: 0.5407\n",
      "Epoch 3/10\n",
      "1200/1200 [==============================] - 84s 70ms/step - loss: 0.8497 - accuracy: 0.6096 - val_loss: 0.9126 - val_accuracy: 0.5587\n",
      "Epoch 4/10\n",
      "1200/1200 [==============================] - 85s 71ms/step - loss: 0.7710 - accuracy: 0.6575 - val_loss: 0.9052 - val_accuracy: 0.5682\n",
      "Epoch 5/10\n",
      "1200/1200 [==============================] - 85s 71ms/step - loss: 0.6832 - accuracy: 0.7104 - val_loss: 0.9138 - val_accuracy: 0.5672\n",
      "Epoch 6/10\n",
      "1200/1200 [==============================] - 84s 70ms/step - loss: 0.6142 - accuracy: 0.7477 - val_loss: 0.9259 - val_accuracy: 0.5717\n",
      "Epoch 7/10\n",
      "1200/1200 [==============================] - 84s 70ms/step - loss: 0.5425 - accuracy: 0.7905 - val_loss: 0.9432 - val_accuracy: 0.5725\n",
      "Epoch 8/10\n",
      "1200/1200 [==============================] - 85s 71ms/step - loss: 0.4851 - accuracy: 0.8185 - val_loss: 0.9607 - val_accuracy: 0.5693\n",
      "Epoch 9/10\n",
      "1200/1200 [==============================] - 84s 70ms/step - loss: 0.4286 - accuracy: 0.8475 - val_loss: 0.9941 - val_accuracy: 0.5710\n",
      "Epoch 10/10\n",
      "1200/1200 [==============================] - 84s 70ms/step - loss: 0.3770 - accuracy: 0.8733 - val_loss: 1.0393 - val_accuracy: 0.5654\n"
     ]
    }
   ],
   "source": [
    "gram2_model_history = gram2_model.fit([gram2_train, gram2_train, gram2_train], author_train_hot, epochs=10, batch_size=32, \n",
    "                verbose = 1, validation_split = 0.2)"
   ]
  },
  {
   "cell_type": "code",
   "execution_count": 62,
   "metadata": {
    "execution": {
     "iopub.execute_input": "2021-02-06T06:32:20.765398Z",
     "iopub.status.busy": "2021-02-06T06:32:20.764472Z",
     "iopub.status.idle": "2021-02-06T06:32:21.421522Z",
     "shell.execute_reply": "2021-02-06T06:32:21.422210Z"
    },
    "papermill": {
     "duration": 6.303696,
     "end_time": "2021-02-06T06:32:21.422443",
     "exception": false,
     "start_time": "2021-02-06T06:32:15.118747",
     "status": "completed"
    },
    "tags": []
   },
   "outputs": [
    {
     "name": "stdout",
     "output_type": "stream",
     "text": [
      "Model: \"model_2\"\n",
      "__________________________________________________________________________________________________\n",
      "Layer (type)                    Output Shape         Param #     Connected to                     \n",
      "==================================================================================================\n",
      "input_7 (InputLayer)            [(None, 350)]        0                                            \n",
      "__________________________________________________________________________________________________\n",
      "input_8 (InputLayer)            [(None, 350)]        0                                            \n",
      "__________________________________________________________________________________________________\n",
      "input_9 (InputLayer)            [(None, 350)]        0                                            \n",
      "__________________________________________________________________________________________________\n",
      "embedding_6 (Embedding)         (None, 350, 600)     18605400    input_7[0][0]                    \n",
      "__________________________________________________________________________________________________\n",
      "embedding_7 (Embedding)         (None, 350, 600)     18605400    input_8[0][0]                    \n",
      "__________________________________________________________________________________________________\n",
      "embedding_8 (Embedding)         (None, 350, 600)     18605400    input_9[0][0]                    \n",
      "__________________________________________________________________________________________________\n",
      "dropout_6 (Dropout)             (None, 350, 600)     0           embedding_6[0][0]                \n",
      "__________________________________________________________________________________________________\n",
      "dropout_7 (Dropout)             (None, 350, 600)     0           embedding_7[0][0]                \n",
      "__________________________________________________________________________________________________\n",
      "dropout_8 (Dropout)             (None, 350, 600)     0           embedding_8[0][0]                \n",
      "__________________________________________________________________________________________________\n",
      "conv1d_6 (Conv1D)               (None, 348, 500)     900500      dropout_6[0][0]                  \n",
      "__________________________________________________________________________________________________\n",
      "conv1d_7 (Conv1D)               (None, 347, 500)     1200500     dropout_7[0][0]                  \n",
      "__________________________________________________________________________________________________\n",
      "conv1d_8 (Conv1D)               (None, 346, 500)     1500500     dropout_8[0][0]                  \n",
      "__________________________________________________________________________________________________\n",
      "max_pooling1d_6 (MaxPooling1D)  (None, 174, 500)     0           conv1d_6[0][0]                   \n",
      "__________________________________________________________________________________________________\n",
      "max_pooling1d_7 (MaxPooling1D)  (None, 173, 500)     0           conv1d_7[0][0]                   \n",
      "__________________________________________________________________________________________________\n",
      "max_pooling1d_8 (MaxPooling1D)  (None, 173, 500)     0           conv1d_8[0][0]                   \n",
      "__________________________________________________________________________________________________\n",
      "flatten_6 (Flatten)             (None, 87000)        0           max_pooling1d_6[0][0]            \n",
      "__________________________________________________________________________________________________\n",
      "flatten_7 (Flatten)             (None, 86500)        0           max_pooling1d_7[0][0]            \n",
      "__________________________________________________________________________________________________\n",
      "flatten_8 (Flatten)             (None, 86500)        0           max_pooling1d_8[0][0]            \n",
      "__________________________________________________________________________________________________\n",
      "concatenate_2 (Concatenate)     (None, 260000)       0           flatten_6[0][0]                  \n",
      "                                                                 flatten_7[0][0]                  \n",
      "                                                                 flatten_8[0][0]                  \n",
      "__________________________________________________________________________________________________\n",
      "dense_2 (Dense)                 (None, 3)            780003      concatenate_2[0][0]              \n",
      "==================================================================================================\n",
      "Total params: 60,197,703\n",
      "Trainable params: 60,197,703\n",
      "Non-trainable params: 0\n",
      "__________________________________________________________________________________________________\n",
      "None\n"
     ]
    }
   ],
   "source": [
    "t0 = time.time()\n",
    "gram3_model = define_model(350, authors_count, max_3gram + 1, 600)"
   ]
  },
  {
   "cell_type": "code",
   "execution_count": 63,
   "metadata": {
    "execution": {
     "iopub.execute_input": "2021-02-06T06:32:32.783011Z",
     "iopub.status.busy": "2021-02-06T06:32:32.781977Z",
     "iopub.status.idle": "2021-02-06T09:41:59.300286Z",
     "shell.execute_reply": "2021-02-06T09:41:59.299440Z"
    },
    "papermill": {
     "duration": 11372.075093,
     "end_time": "2021-02-06T09:41:59.300457",
     "exception": false,
     "start_time": "2021-02-06T06:32:27.225364",
     "status": "completed"
    },
    "tags": []
   },
   "outputs": [
    {
     "name": "stdout",
     "output_type": "stream",
     "text": [
      "Epoch 1/10\n",
      "1200/1200 [==============================] - 1108s 922ms/step - loss: 1.0901 - accuracy: 0.3860 - val_loss: 0.8907 - val_accuracy: 0.5893\n",
      "Epoch 2/10\n",
      "1200/1200 [==============================] - 1122s 935ms/step - loss: 0.7798 - accuracy: 0.6530 - val_loss: 0.8179 - val_accuracy: 0.6210\n",
      "Epoch 3/10\n",
      "1200/1200 [==============================] - 1125s 937ms/step - loss: 0.5688 - accuracy: 0.7699 - val_loss: 0.8115 - val_accuracy: 0.6367\n",
      "Epoch 4/10\n",
      "1200/1200 [==============================] - 1130s 942ms/step - loss: 0.4127 - accuracy: 0.8476 - val_loss: 0.8708 - val_accuracy: 0.6275\n",
      "Epoch 5/10\n",
      "1200/1200 [==============================] - 1129s 940ms/step - loss: 0.2801 - accuracy: 0.9103 - val_loss: 0.9629 - val_accuracy: 0.6288\n",
      "Epoch 6/10\n",
      "1200/1200 [==============================] - 1138s 949ms/step - loss: 0.1740 - accuracy: 0.9497 - val_loss: 1.0982 - val_accuracy: 0.6216\n",
      "Epoch 7/10\n",
      "1200/1200 [==============================] - 1141s 950ms/step - loss: 0.1140 - accuracy: 0.9676 - val_loss: 1.2491 - val_accuracy: 0.6191\n",
      "Epoch 8/10\n",
      "1200/1200 [==============================] - 1152s 960ms/step - loss: 0.0799 - accuracy: 0.9767 - val_loss: 1.4354 - val_accuracy: 0.6116\n",
      "Epoch 9/10\n",
      "1200/1200 [==============================] - 1158s 965ms/step - loss: 0.0642 - accuracy: 0.9796 - val_loss: 1.5552 - val_accuracy: 0.6150\n",
      "Epoch 10/10\n",
      "1200/1200 [==============================] - 1164s 970ms/step - loss: 0.0534 - accuracy: 0.9815 - val_loss: 1.6853 - val_accuracy: 0.6112\n"
     ]
    }
   ],
   "source": [
    "gram3_model_history = gram3_model.fit([gram3_train, gram3_train, gram3_train], author_train_hot, epochs=10, batch_size=32, \n",
    "                verbose=1, validation_split=0.2)\n",
    "t1 = time.time()"
   ]
  },
  {
   "cell_type": "markdown",
   "metadata": {
    "papermill": {
     "duration": 10.893501,
     "end_time": "2021-02-06T09:42:20.507004",
     "exception": false,
     "start_time": "2021-02-06T09:42:09.613503",
     "status": "completed"
    },
    "tags": []
   },
   "source": [
    "## 3-gramm first model statistics"
   ]
  },
  {
   "cell_type": "code",
   "execution_count": 64,
   "metadata": {
    "execution": {
     "iopub.execute_input": "2021-02-06T09:42:41.230574Z",
     "iopub.status.busy": "2021-02-06T09:42:41.229366Z",
     "iopub.status.idle": "2021-02-06T09:42:49.713489Z",
     "shell.execute_reply": "2021-02-06T09:42:49.712925Z"
    },
    "papermill": {
     "duration": 18.860892,
     "end_time": "2021-02-06T09:42:49.713650",
     "exception": false,
     "start_time": "2021-02-06T09:42:30.852758",
     "status": "completed"
    },
    "tags": []
   },
   "outputs": [
    {
     "name": "stdout",
     "output_type": "stream",
     "text": [
      "Accurancy: 0.5996666666666667\n",
      "Average Precision: 0.5999105258100699\n",
      "Average Recall: 0.5996666666666667\n",
      "Average F1 Score: 0.599433375195788\n",
      "Learning time: 11378.534809112549 seconds\n",
      "Prediction time: 50.31611776351929 seconds\n",
      "Confusion matrix:\n",
      " [[2543  729  781]\n",
      " [ 869 2218  818]\n",
      " [ 883  724 2435]]\n"
     ]
    }
   ],
   "source": [
    "author_pred1 = gram3_model.predict([gram3_test, gram3_test, gram3_test])\n",
    "\n",
    "t2 = time.time()\n",
    "\n",
    "author_pred1 = author_lb.inverse_transform(author_pred1)\n",
    "\n",
    "accuracy = accuracy_score(author_test, author_pred1)\n",
    "precision, recall, f1, support = score(author_test, author_pred1)\n",
    "ave_precision = np.average(precision, weights = support/np.sum(support))\n",
    "ave_recall = np.average(recall, weights = support/np.sum(support))\n",
    "ave_f1 = np.average(f1, weights = support/np.sum(support))\n",
    "confusion = confusion_matrix(author_test, author_pred1, labels=authors_names)\n",
    "    \n",
    "print('Accurancy:', accuracy)\n",
    "print('Average Precision:', ave_precision)\n",
    "print('Average Recall:', ave_recall)\n",
    "print('Average F1 Score:', ave_f1)\n",
    "print('Learning time:', (t1 - t0), 'seconds')\n",
    "print('Prediction time:', (t2 - t1), 'seconds')\n",
    "print('Confusion matrix:\\n', confusion)"
   ]
  },
  {
   "cell_type": "code",
   "execution_count": 65,
   "metadata": {
    "execution": {
     "iopub.execute_input": "2021-02-06T09:43:10.271129Z",
     "iopub.status.busy": "2021-02-06T09:43:10.270033Z",
     "iopub.status.idle": "2021-02-06T09:43:10.767835Z",
     "shell.execute_reply": "2021-02-06T09:43:10.766916Z"
    },
    "papermill": {
     "duration": 10.709942,
     "end_time": "2021-02-06T09:43:10.768023",
     "exception": false,
     "start_time": "2021-02-06T09:43:00.058081",
     "status": "completed"
    },
    "tags": []
   },
   "outputs": [
    {
     "name": "stdout",
     "output_type": "stream",
     "text": [
      "Normalized confusion matrix\n",
      "[[0.62743647 0.17986677 0.19269677]\n",
      " [0.22253521 0.56798976 0.20947503]\n",
      " [0.21845621 0.17911925 0.60242454]]\n"
     ]
    },
    {
     "data": {
      "image/png": "[encoded data removed]",
      "text/plain": [
       "<Figure size 432x288 with 2 Axes>"
      ]
     },
     "metadata": {
      "needs_background": "light"
     },
     "output_type": "display_data"
    }
   ],
   "source": [
    "plot_confusion_matrix(confusion, classes=authors_names, \\\n",
    "                      normalize=True, title='Normalized confusion matrix - Model 1')\n",
    "\n",
    "plt.savefig('confusion_model1.png')"
   ]
  },
  {
   "cell_type": "code",
   "execution_count": 66,
   "metadata": {
    "execution": {
     "iopub.execute_input": "2021-02-06T09:43:31.774453Z",
     "iopub.status.busy": "2021-02-06T09:43:31.771286Z",
     "iopub.status.idle": "2021-02-06T09:43:32.118265Z",
     "shell.execute_reply": "2021-02-06T09:43:32.119642Z"
    },
    "papermill": {
     "duration": 10.450689,
     "end_time": "2021-02-06T09:43:32.119968",
     "exception": false,
     "start_time": "2021-02-06T09:43:21.669279",
     "status": "completed"
    },
    "tags": []
   },
   "outputs": [
    {
     "data": {
      "image/png": "[encoded data removed]",
      "text/plain": [
       "<Figure size 432x288 with 1 Axes>"
      ]
     },
     "metadata": {
      "needs_background": "light"
     },
     "output_type": "display_data"
    }
   ],
   "source": [
    "plot_history_of_accurancy(gram3_model_history)\n",
    "plt.savefig('accurancy_model1.png')"
   ]
  },
  {
   "cell_type": "code",
   "execution_count": 67,
   "metadata": {
    "execution": {
     "iopub.execute_input": "2021-02-06T09:43:52.498556Z",
     "iopub.status.busy": "2021-02-06T09:43:52.488854Z",
     "iopub.status.idle": "2021-02-06T09:43:52.744997Z",
     "shell.execute_reply": "2021-02-06T09:43:52.745585Z"
    },
    "papermill": {
     "duration": 10.565161,
     "end_time": "2021-02-06T09:43:52.745773",
     "exception": false,
     "start_time": "2021-02-06T09:43:42.180612",
     "status": "completed"
    },
    "tags": []
   },
   "outputs": [
    {
     "data": {
      "image/png": "[encoded data removed]",
      "text/plain": [
       "<Figure size 432x288 with 1 Axes>"
      ]
     },
     "metadata": {
      "needs_background": "light"
     },
     "output_type": "display_data"
    }
   ],
   "source": [
    "plot_history_of_loss(gram3_model_history)\n",
    "plt.savefig('loss_model1.png')"
   ]
  },
  {
   "cell_type": "code",
   "execution_count": 68,
   "metadata": {
    "execution": {
     "iopub.execute_input": "2021-02-06T09:44:14.046312Z",
     "iopub.status.busy": "2021-02-06T09:44:14.044635Z",
     "iopub.status.idle": "2021-02-06T09:44:14.048922Z",
     "shell.execute_reply": "2021-02-06T09:44:14.046975Z"
    },
    "papermill": {
     "duration": 10.489458,
     "end_time": "2021-02-06T09:44:14.049074",
     "exception": false,
     "start_time": "2021-02-06T09:44:03.559616",
     "status": "completed"
    },
    "tags": []
   },
   "outputs": [
    {
     "name": "stdout",
     "output_type": "stream",
     "text": [
      "('Failed to import pydot. You must `pip install pydot` and install graphviz (https://graphviz.gitlab.io/download/), ', 'for `pydotprint` to work.')\n"
     ]
    }
   ],
   "source": [
    "keras.utils.plot_model(gram3_model, 'gram3_model1_arh.png')"
   ]
  },
  {
   "cell_type": "markdown",
   "metadata": {
    "papermill": {
     "duration": 10.798145,
     "end_time": "2021-02-06T09:44:35.255966",
     "exception": false,
     "start_time": "2021-02-06T09:44:24.457821",
     "status": "completed"
    },
    "tags": []
   },
   "source": [
    "The trigram model showed the best results in terms of accuracy, so you should choose it as the main one.\n",
    "\n",
    "The improved version should only be trained for 5 epochs, because the graph shows a plateau and even a decline in model accuracy after this point."
   ]
  },
  {
   "cell_type": "markdown",
   "metadata": {
    "papermill": {
     "duration": 10.388085,
     "end_time": "2021-02-06T09:44:55.995717",
     "exception": false,
     "start_time": "2021-02-06T09:44:45.607632",
     "status": "completed"
    },
    "tags": []
   },
   "source": [
    "## Improvement"
   ]
  },
  {
   "cell_type": "markdown",
   "metadata": {
    "papermill": {
     "duration": 10.433786,
     "end_time": "2021-02-06T09:45:17.373291",
     "exception": false,
     "start_time": "2021-02-06T09:45:06.939505",
     "status": "completed"
    },
    "tags": []
   },
   "source": [
    "Retraining the trigram model with the addition of an additional channel."
   ]
  },
  {
   "cell_type": "code",
   "execution_count": 69,
   "metadata": {
    "execution": {
     "iopub.execute_input": "2021-02-06T09:45:38.669083Z",
     "iopub.status.busy": "2021-02-06T09:45:38.666935Z",
     "iopub.status.idle": "2021-02-06T09:45:38.669902Z",
     "shell.execute_reply": "2021-02-06T09:45:38.670436Z"
    },
    "papermill": {
     "duration": 10.938625,
     "end_time": "2021-02-06T09:45:38.670622",
     "exception": false,
     "start_time": "2021-02-06T09:45:27.731997",
     "status": "completed"
    },
    "tags": []
   },
   "outputs": [],
   "source": [
    "def define_model2(input_len: int, output_size: int, vocab_size: int, embedding_dim: int, verbose: bool = True,\n",
    "                drop_out_pct: float = 0.25, conv_filters: int = 500, activation_fn: str = 'relu', pool_size:int = 2, learning: float = 0.0001):\n",
    "    \n",
    "    inputs1 = Input(shape=(input_len,))\n",
    "    embedding1 = Embedding(vocab_size, embedding_dim)(inputs1)\n",
    "    drop1 = Dropout(drop_out_pct)(embedding1)\n",
    "    conv1 = Conv1D(filters=conv_filters, kernel_size=3, activation=activation_fn)(drop1)\n",
    "    pool1 = MaxPooling1D(pool_size=pool_size)(conv1)\n",
    "    flat1 = Flatten()(pool1)\n",
    "    \n",
    "    inputs2 = Input(shape=(input_len,))\n",
    "    embedding2 = Embedding(vocab_size, embedding_dim)(inputs2)\n",
    "    drop2 = Dropout(drop_out_pct)(embedding2)\n",
    "    conv2 = Conv1D(filters=conv_filters, kernel_size=4, activation=activation_fn)(drop2)\n",
    "    pool2 = MaxPooling1D(pool_size=pool_size)(conv2)\n",
    "    flat2 = Flatten()(pool2)\n",
    "\n",
    "    inputs3 = Input(shape=(input_len,))\n",
    "    embedding3= Embedding(vocab_size, embedding_dim)(inputs3)\n",
    "    drop3 = Dropout(drop_out_pct)(embedding3)\n",
    "    conv3 = Conv1D(filters=conv_filters, kernel_size=5, activation=activation_fn)(drop3)\n",
    "    pool3 = MaxPooling1D(pool_size=pool_size)(conv3)\n",
    "    flat3 = Flatten()(pool3)\n",
    "    \n",
    "    inputs4 = Input(shape=(input_len,))\n",
    "    embedding4 = Embedding(vocab_size, embedding_dim)(inputs4)\n",
    "    drop4 = Dropout(drop_out_pct)(embedding4)\n",
    "    conv4 = Conv1D(filters=conv_filters, kernel_size=6, activation=activation_fn)(drop4)\n",
    "    pool4 = MaxPooling1D(pool_size=pool_size)(conv4)\n",
    "    flat4 = Flatten()(pool4)\n",
    "    \n",
    "    merged = concatenate([flat1, flat2, flat3, flat4])\n",
    "    \n",
    "    output = Dense(output_size, activation='softmax')(merged)\n",
    "    \n",
    "    model = Model(inputs = [inputs1, inputs2, inputs3, inputs4], outputs = output)\n",
    "    \n",
    "    model.compile(loss='categorical_crossentropy', optimizer=Adam(lr=learning), metrics=['accuracy'])\n",
    "    \n",
    "    if verbose:\n",
    "        print(model.summary())\n",
    "        \n",
    "    return model"
   ]
  },
  {
   "cell_type": "code",
   "execution_count": 70,
   "metadata": {
    "execution": {
     "iopub.execute_input": "2021-02-06T09:45:59.343837Z",
     "iopub.status.busy": "2021-02-06T09:45:59.342858Z",
     "iopub.status.idle": "2021-02-06T09:46:00.272442Z",
     "shell.execute_reply": "2021-02-06T09:46:00.271664Z"
    },
    "papermill": {
     "duration": 11.242395,
     "end_time": "2021-02-06T09:46:00.272644",
     "exception": false,
     "start_time": "2021-02-06T09:45:49.030249",
     "status": "completed"
    },
    "tags": []
   },
   "outputs": [
    {
     "name": "stdout",
     "output_type": "stream",
     "text": [
      "Model: \"model_3\"\n",
      "__________________________________________________________________________________________________\n",
      "Layer (type)                    Output Shape         Param #     Connected to                     \n",
      "==================================================================================================\n",
      "input_10 (InputLayer)           [(None, 350)]        0                                            \n",
      "__________________________________________________________________________________________________\n",
      "input_11 (InputLayer)           [(None, 350)]        0                                            \n",
      "__________________________________________________________________________________________________\n",
      "input_12 (InputLayer)           [(None, 350)]        0                                            \n",
      "__________________________________________________________________________________________________\n",
      "input_13 (InputLayer)           [(None, 350)]        0                                            \n",
      "__________________________________________________________________________________________________\n",
      "embedding_9 (Embedding)         (None, 350, 600)     18605400    input_10[0][0]                   \n",
      "__________________________________________________________________________________________________\n",
      "embedding_10 (Embedding)        (None, 350, 600)     18605400    input_11[0][0]                   \n",
      "__________________________________________________________________________________________________\n",
      "embedding_11 (Embedding)        (None, 350, 600)     18605400    input_12[0][0]                   \n",
      "__________________________________________________________________________________________________\n",
      "embedding_12 (Embedding)        (None, 350, 600)     18605400    input_13[0][0]                   \n",
      "__________________________________________________________________________________________________\n",
      "dropout_9 (Dropout)             (None, 350, 600)     0           embedding_9[0][0]                \n",
      "__________________________________________________________________________________________________\n",
      "dropout_10 (Dropout)            (None, 350, 600)     0           embedding_10[0][0]               \n",
      "__________________________________________________________________________________________________\n",
      "dropout_11 (Dropout)            (None, 350, 600)     0           embedding_11[0][0]               \n",
      "__________________________________________________________________________________________________\n",
      "dropout_12 (Dropout)            (None, 350, 600)     0           embedding_12[0][0]               \n",
      "__________________________________________________________________________________________________\n",
      "conv1d_9 (Conv1D)               (None, 348, 500)     900500      dropout_9[0][0]                  \n",
      "__________________________________________________________________________________________________\n",
      "conv1d_10 (Conv1D)              (None, 347, 500)     1200500     dropout_10[0][0]                 \n",
      "__________________________________________________________________________________________________\n",
      "conv1d_11 (Conv1D)              (None, 346, 500)     1500500     dropout_11[0][0]                 \n",
      "__________________________________________________________________________________________________\n",
      "conv1d_12 (Conv1D)              (None, 345, 500)     1800500     dropout_12[0][0]                 \n",
      "__________________________________________________________________________________________________\n",
      "max_pooling1d_9 (MaxPooling1D)  (None, 174, 500)     0           conv1d_9[0][0]                   \n",
      "__________________________________________________________________________________________________\n",
      "max_pooling1d_10 (MaxPooling1D) (None, 173, 500)     0           conv1d_10[0][0]                  \n",
      "__________________________________________________________________________________________________\n",
      "max_pooling1d_11 (MaxPooling1D) (None, 173, 500)     0           conv1d_11[0][0]                  \n",
      "__________________________________________________________________________________________________\n",
      "max_pooling1d_12 (MaxPooling1D) (None, 172, 500)     0           conv1d_12[0][0]                  \n",
      "__________________________________________________________________________________________________\n",
      "flatten_9 (Flatten)             (None, 87000)        0           max_pooling1d_9[0][0]            \n",
      "__________________________________________________________________________________________________\n",
      "flatten_10 (Flatten)            (None, 86500)        0           max_pooling1d_10[0][0]           \n",
      "__________________________________________________________________________________________________\n",
      "flatten_11 (Flatten)            (None, 86500)        0           max_pooling1d_11[0][0]           \n",
      "__________________________________________________________________________________________________\n",
      "flatten_12 (Flatten)            (None, 86000)        0           max_pooling1d_12[0][0]           \n",
      "__________________________________________________________________________________________________\n",
      "concatenate_3 (Concatenate)     (None, 346000)       0           flatten_9[0][0]                  \n",
      "                                                                 flatten_10[0][0]                 \n",
      "                                                                 flatten_11[0][0]                 \n",
      "                                                                 flatten_12[0][0]                 \n",
      "__________________________________________________________________________________________________\n",
      "dense_3 (Dense)                 (None, 3)            1038003     concatenate_3[0][0]              \n",
      "==================================================================================================\n",
      "Total params: 80,861,603\n",
      "Trainable params: 80,861,603\n",
      "Non-trainable params: 0\n",
      "__________________________________________________________________________________________________\n",
      "None\n"
     ]
    }
   ],
   "source": [
    "t0 = time.time()\n",
    "gram3_model2 = define_model2(350, authors_count, max_3gram + 1, 600)"
   ]
  },
  {
   "cell_type": "code",
   "execution_count": 71,
   "metadata": {
    "execution": {
     "iopub.execute_input": "2021-02-06T09:46:21.551000Z",
     "iopub.status.busy": "2021-02-06T09:46:21.549994Z",
     "iopub.status.idle": "2021-02-06T11:55:22.491387Z",
     "shell.execute_reply": "2021-02-06T11:55:22.490736Z"
    },
    "papermill": {
     "duration": 7751.379268,
     "end_time": "2021-02-06T11:55:22.491558",
     "exception": false,
     "start_time": "2021-02-06T09:46:11.112290",
     "status": "completed"
    },
    "tags": []
   },
   "outputs": [
    {
     "name": "stdout",
     "output_type": "stream",
     "text": [
      "Epoch 1/5\n",
      "1200/1200 [==============================] - 1570s 1s/step - loss: 1.0875 - accuracy: 0.3934 - val_loss: 0.8853 - val_accuracy: 0.5809\n",
      "Epoch 2/5\n",
      "1200/1200 [==============================] - 1535s 1s/step - loss: 0.7500 - accuracy: 0.6665 - val_loss: 0.8046 - val_accuracy: 0.6256\n",
      "Epoch 3/5\n",
      "1200/1200 [==============================] - 1543s 1s/step - loss: 0.5314 - accuracy: 0.7890 - val_loss: 0.8213 - val_accuracy: 0.6309\n",
      "Epoch 4/5\n",
      "1200/1200 [==============================] - 1550s 1s/step - loss: 0.3560 - accuracy: 0.8778 - val_loss: 0.8906 - val_accuracy: 0.6254\n",
      "Epoch 5/5\n",
      "1200/1200 [==============================] - 1543s 1s/step - loss: 0.2158 - accuracy: 0.9371 - val_loss: 1.0399 - val_accuracy: 0.6186\n"
     ]
    }
   ],
   "source": [
    "gram3_model2_history = gram3_model2.fit([gram3_train, gram3_train, gram3_train, gram3_train], author_train_hot, epochs=5, batch_size=32, \n",
    "                verbose=1, validation_split=0.2)\n",
    "t1 = time.time()"
   ]
  },
  {
   "cell_type": "code",
   "execution_count": 72,
   "metadata": {
    "execution": {
     "iopub.execute_input": "2021-02-06T11:55:48.514952Z",
     "iopub.status.busy": "2021-02-06T11:55:48.513826Z",
     "iopub.status.idle": "2021-02-06T11:55:59.976343Z",
     "shell.execute_reply": "2021-02-06T11:55:59.975755Z"
    },
    "papermill": {
     "duration": 24.270505,
     "end_time": "2021-02-06T11:55:59.976503",
     "exception": false,
     "start_time": "2021-02-06T11:55:35.705998",
     "status": "completed"
    },
    "tags": []
   },
   "outputs": [
    {
     "name": "stdout",
     "output_type": "stream",
     "text": [
      "Accurancy: 0.612\n",
      "Average Precision: 0.6141909673925585\n",
      "Average Recall: 0.612\n",
      "Average F1 Score: 0.6116357016728957\n",
      "Learning time: 7763.147629261017 seconds\n",
      "Predict time: 37.38660550117493 seconds\n",
      "Confusion matrix:\n",
      " [[2561  887  605]\n",
      " [ 726 2519  660]\n",
      " [ 869  909 2264]]\n"
     ]
    }
   ],
   "source": [
    "author_pred2 = gram3_model2.predict([gram3_test, gram3_test, gram3_test, gram3_test])\n",
    "\n",
    "t2 = time.time()\n",
    "\n",
    "author_pred2 = author_lb.inverse_transform(author_pred2)\n",
    "\n",
    "accuracy = accuracy_score(author_test, author_pred2)\n",
    "precision, recall, f1, support=score(author_test, author_pred2)\n",
    "ave_precision = np.average(precision, weights=support/np.sum(support))\n",
    "ave_recall = np.average(recall, weights=support/np.sum(support))\n",
    "ave_f1 = np.average(f1, weights=support/np.sum(support))\n",
    "confusion = confusion_matrix(author_test, author_pred2, labels=authors_names)\n",
    "    \n",
    "print('Accurancy:', accuracy)\n",
    "print('Average Precision:', ave_precision)\n",
    "print('Average Recall:', ave_recall)\n",
    "print('Average F1 Score:', ave_f1)\n",
    "print('Learning time:', (t1 - t0), 'seconds')\n",
    "print('Predict time:', (t2 - t1), 'seconds')\n",
    "print('Confusion matrix:\\n', confusion)"
   ]
  },
  {
   "cell_type": "code",
   "execution_count": 73,
   "metadata": {
    "execution": {
     "iopub.execute_input": "2021-02-06T11:56:25.738733Z",
     "iopub.status.busy": "2021-02-06T11:56:25.736506Z",
     "iopub.status.idle": "2021-02-06T11:56:26.054766Z",
     "shell.execute_reply": "2021-02-06T11:56:26.055339Z"
    },
    "papermill": {
     "duration": 13.170447,
     "end_time": "2021-02-06T11:56:26.055514",
     "exception": false,
     "start_time": "2021-02-06T11:56:12.885067",
     "status": "completed"
    },
    "tags": []
   },
   "outputs": [
    {
     "name": "stdout",
     "output_type": "stream",
     "text": [
      "Normalized confusion matrix\n",
      "[[0.63187762 0.21885023 0.14927214]\n",
      " [0.18591549 0.64507042 0.16901408]\n",
      " [0.21499258 0.22488867 0.56011875]]\n"
     ]
    },
    {
     "data": {
      "image/png": "[encoded data removed]",
      "text/plain": [
       "<Figure size 432x288 with 2 Axes>"
      ]
     },
     "metadata": {
      "needs_background": "light"
     },
     "output_type": "display_data"
    }
   ],
   "source": [
    "plot_confusion_matrix(confusion, classes=authors_names, \\\n",
    "                      normalize=True, title='Normalized confusion matrix - Model 2')\n",
    "\n",
    "plt.savefig('confusion_model2.png')"
   ]
  },
  {
   "cell_type": "code",
   "execution_count": 74,
   "metadata": {
    "execution": {
     "iopub.execute_input": "2021-02-06T11:56:52.493670Z",
     "iopub.status.busy": "2021-02-06T11:56:52.492200Z",
     "iopub.status.idle": "2021-02-06T11:56:52.764845Z",
     "shell.execute_reply": "2021-02-06T11:56:52.764285Z"
    },
    "papermill": {
     "duration": 13.12452,
     "end_time": "2021-02-06T11:56:52.764990",
     "exception": false,
     "start_time": "2021-02-06T11:56:39.640470",
     "status": "completed"
    },
    "tags": []
   },
   "outputs": [
    {
     "data": {
      "image/png": "[encoded data removed]",
      "text/plain": [
       "<Figure size 432x288 with 1 Axes>"
      ]
     },
     "metadata": {
      "needs_background": "light"
     },
     "output_type": "display_data"
    }
   ],
   "source": [
    "plot_history_of_accurancy(gram3_model2_history)\n",
    "plt.savefig('accurancy_model2.png')"
   ]
  },
  {
   "cell_type": "code",
   "execution_count": 75,
   "metadata": {
    "execution": {
     "iopub.execute_input": "2021-02-06T11:57:19.035056Z",
     "iopub.status.busy": "2021-02-06T11:57:19.033807Z",
     "iopub.status.idle": "2021-02-06T11:57:19.304257Z",
     "shell.execute_reply": "2021-02-06T11:57:19.303674Z"
    },
    "papermill": {
     "duration": 13.204255,
     "end_time": "2021-02-06T11:57:19.304425",
     "exception": false,
     "start_time": "2021-02-06T11:57:06.100170",
     "status": "completed"
    },
    "tags": []
   },
   "outputs": [
    {
     "data": {
      "image/png": "[encoded data removed]",
      "text/plain": [
       "<Figure size 432x288 with 1 Axes>"
      ]
     },
     "metadata": {
      "needs_background": "light"
     },
     "output_type": "display_data"
    }
   ],
   "source": [
    "plot_history_of_loss(gram3_model2_history)\n",
    "plt.savefig('loss_model2.png')"
   ]
  },
  {
   "cell_type": "code",
   "execution_count": 76,
   "metadata": {
    "execution": {
     "iopub.execute_input": "2021-02-06T11:57:45.752331Z",
     "iopub.status.busy": "2021-02-06T11:57:45.751495Z",
     "iopub.status.idle": "2021-02-06T11:57:45.754929Z",
     "shell.execute_reply": "2021-02-06T11:57:45.755468Z"
    },
    "papermill": {
     "duration": 13.538369,
     "end_time": "2021-02-06T11:57:45.755667",
     "exception": false,
     "start_time": "2021-02-06T11:57:32.217298",
     "status": "completed"
    },
    "tags": []
   },
   "outputs": [
    {
     "name": "stdout",
     "output_type": "stream",
     "text": [
      "('Failed to import pydot. You must `pip install pydot` and install graphviz (https://graphviz.gitlab.io/download/), ', 'for `pydotprint` to work.')\n"
     ]
    }
   ],
   "source": [
    "keras.utils.plot_model(gram3_model2, 'gram3_model2_arh.png')"
   ]
  },
  {
   "cell_type": "markdown",
   "metadata": {
    "papermill": {
     "duration": 13.197867,
     "end_time": "2021-02-06T11:58:11.708446",
     "exception": false,
     "start_time": "2021-02-06T11:57:58.510579",
     "status": "completed"
    },
    "tags": []
   },
   "source": [
    "# 4*) Benchmarks and comparation"
   ]
  },
  {
   "cell_type": "code",
   "execution_count": 77,
   "metadata": {
    "execution": {
     "iopub.execute_input": "2021-02-06T11:58:37.870911Z",
     "iopub.status.busy": "2021-02-06T11:58:37.869912Z",
     "iopub.status.idle": "2021-02-06T11:58:38.468503Z",
     "shell.execute_reply": "2021-02-06T11:58:38.469205Z"
    },
    "papermill": {
     "duration": 14.011899,
     "end_time": "2021-02-06T11:58:38.469404",
     "exception": false,
     "start_time": "2021-02-06T11:58:24.457505",
     "status": "completed"
    },
    "tags": []
   },
   "outputs": [
    {
     "name": "stdout",
     "output_type": "stream",
     "text": [
      "Accurancy: [0.33075, 0.334, 0.32708333333333334, 0.328, 0.33441666666666664, 0.3383333333333333, 0.32975, 0.334, 0.33316666666666667, 0.33475] 0.332425 0.003284316688614404\n",
      "Average Precision: [0.33085190837710243, 0.33401052238064466, 0.3272698811766318, 0.328127324687212, 0.3346487371029293, 0.33851232302357154, 0.32986365042926846, 0.33400214396896677, 0.33322706543031516, 0.33472658477555006] 0.33252401413521926 0.0032699346799768014\n",
      "Average Recall: [0.33075000000000004, 0.334, 0.3270833333333333, 0.328, 0.3344166666666667, 0.3383333333333334, 0.32975, 0.33399999999999996, 0.33316666666666667, 0.33475] 0.332425 0.0032843166886144214\n",
      "Average F1 Score: [0.3307730370665397, 0.3339836976105784, 0.32711396699034023, 0.3280459727271682, 0.3344503654553463, 0.338356615375229, 0.3297219223483271, 0.3339362480148582, 0.3330336010360224, 0.3347280451165189] 0.33241434717409285 0.0032724824522703017\n"
     ]
    }
   ],
   "source": [
    "accuracy_list = []\n",
    "prec_list = []\n",
    "recall_list = []\n",
    "f1_list = []\n",
    "\n",
    "for i in range(10):\n",
    "    author_pred3 = np.random.choice(authors_names, len(author_test))\n",
    "\n",
    "    accuracy = accuracy_score(author_test, author_pred3)\n",
    "    precision, recall, f1, support = score(author_test, author_pred3)\n",
    "    ave_precision = np.average(precision, weights = support/np.sum(support))\n",
    "    ave_recall = np.average(recall, weights = support/np.sum(support))\n",
    "    ave_f1 = np.average(f1, weights = support/np.sum(support))\n",
    "    \n",
    "    accuracy_list.append(accuracy)\n",
    "    prec_list.append(ave_precision)\n",
    "    recall_list.append(ave_recall)\n",
    "    f1_list.append(ave_f1)\n",
    "\n",
    "print('Accurancy:', accuracy_list, np.mean(accuracy_list), np.std(accuracy_list))\n",
    "print('Average Precision:', prec_list, np.mean(prec_list), np.std(prec_list))\n",
    "print('Average Recall:', recall_list, np.mean(recall_list), np.std(recall_list))\n",
    "print('Average F1 Score:', f1_list, np.mean(f1_list), np.std(f1_list))"
   ]
  },
  {
   "cell_type": "code",
   "execution_count": 78,
   "metadata": {
    "execution": {
     "iopub.execute_input": "2021-02-06T11:59:04.316751Z",
     "iopub.status.busy": "2021-02-06T11:59:04.315741Z",
     "iopub.status.idle": "2021-02-06T11:59:04.378086Z",
     "shell.execute_reply": "2021-02-06T11:59:04.377289Z"
    },
    "papermill": {
     "duration": 12.878947,
     "end_time": "2021-02-06T11:59:04.378308",
     "exception": false,
     "start_time": "2021-02-06T11:58:51.499361",
     "status": "completed"
    },
    "tags": []
   },
   "outputs": [
    {
     "name": "stdout",
     "output_type": "stream",
     "text": [
      "Sentence 0 - Right answer = Dostoevsky Model's 1 predict = Dostoevsky Model's 2 predict = Dostoevsky\n",
      "он намекал на ее исцеление об этом конечно говорить еще рано \n",
      "\n",
      "Sentence 1 - Right answer = Dostoevsky Model's 1 predict = Chekhov Model's 2 predict = Tolstoy\n",
      "в то же самое мгновение заметил он что приятель его пробирается уже на крыльцо и вероятно к олсуфью ивановичу \n",
      "\n",
      "Sentence 2 - Right answer = Tolstoy Model's 1 predict = Chekhov Model's 2 predict = Chekhov\n",
      " ну митрий андреич спаси тебя бог \n",
      "\n",
      "Sentence 3 - Right answer = Chekhov Model's 1 predict = Chekhov Model's 2 predict = Chekhov\n",
      " откуда же этот экипаж взялся \n",
      "\n",
      "Sentence 4 - Right answer = Tolstoy Model's 1 predict = Tolstoy Model's 2 predict = Tolstoy\n",
      "я правду говору улыбаясь сказал гусар всё о войне через стол прокричал граф \n",
      "\n",
      "Sentence 5 - Right answer = Dostoevsky Model's 1 predict = Dostoevsky Model's 2 predict = Dostoevsky\n",
      "расстается навеки  постой не кричи тетка не любит \n",
      "\n",
      "Sentence 6 - Right answer = Tolstoy Model's 1 predict = Tolstoy Model's 2 predict = Tolstoy\n",
      "он в то время как вошли братья спал в палатке обозный же офицер делал счеты казенных денег перед концом месяца \n",
      "\n",
      "Sentence 7 - Right answer = Chekhov Model's 1 predict = Chekhov Model's 2 predict = Chekhov\n",
      "я утром говорил \n",
      "\n",
      "Sentence 8 - Right answer = Dostoevsky Model's 1 predict = Dostoevsky Model's 2 predict = Dostoevsky\n",
      "лукреция  добродетельная красавица жена римлянина коллатина \n",
      "\n",
      "Sentence 9 - Right answer = Tolstoy Model's 1 predict = Chekhov Model's 2 predict = Chekhov\n",
      "дай бог ему я рад \n",
      "\n",
      "Sentence 10 - Right answer = Chekhov Model's 1 predict = Chekhov Model's 2 predict = Chekhov\n",
      "я любил нежно глубоко но я рассуждал я спрашивал себя к чему может повести наша любовь если у нас не хватит сил бороться с нею мне казалось невероятным что эта моя тихая грустная любовь вдруг грубо оборвет счастливое течение жизни ее мужа детей всего этого дома где меня так любили и где мне так верили \n",
      "\n",
      "Sentence 11 - Right answer = Dostoevsky Model's 1 predict = Chekhov Model's 2 predict = Chekhov\n",
      "милая мамочка я всю неделю была очень дурной девочкой \n",
      "\n",
      "Sentence 12 - Right answer = Dostoevsky Model's 1 predict = Dostoevsky Model's 2 predict = Dostoevsky\n",
      "спокойно спросил мизинчиков да так вероятно позволите и мне закурить \n",
      "\n",
      "Sentence 13 - Right answer = Dostoevsky Model's 1 predict = Dostoevsky Model's 2 predict = Dostoevsky\n",
      "уверена что я это обязан  вот что оскорбительно \n",
      "\n",
      "Sentence 14 - Right answer = Chekhov Model's 1 predict = Chekhov Model's 2 predict = Chekhov\n",
      "и не было надобности вставать рано и ехать из города за десять верст для того только чтобы пить мировую закусывать и объяснять мне что дуэль устарелая формальность \n",
      "\n",
      "Sentence 15 - Right answer = Chekhov Model's 1 predict = Chekhov Model's 2 predict = Chekhov\n",
      "когда дирижер перед началом пробирался между пюпитрами к своему месту она стояла уже у занавеса и с жадностью с замиранием сердца глядела в отверстие он состроил кислосерьезную физиономию и замахал во все стороны своей палочкой \n",
      "\n",
      "Sentence 16 - Right answer = Tolstoy Model's 1 predict = Tolstoy Model's 2 predict = Tolstoy\n",
      "351 строка 18 вместо xvi \n",
      "\n",
      "Sentence 17 - Right answer = Dostoevsky Model's 1 predict = Dostoevsky Model's 2 predict = Tolstoy\n",
      "знаете шипуленко \n",
      "\n",
      "Sentence 18 - Right answer = Tolstoy Model's 1 predict = Tolstoy Model's 2 predict = Tolstoy\n",
      "чего ей нужно \n",
      "\n",
      "Sentence 19 - Right answer = Chekhov Model's 1 predict = Chekhov Model's 2 predict = Chekhov\n",
      "сокровище мое ты сияешь твои глазки играют как два алмаза \n",
      "\n",
      "Sentence 20 - Right answer = Tolstoy Model's 1 predict = Tolstoy Model's 2 predict = Chekhov\n",
      " сказал я  \n",
      "\n",
      "Sentence 21 - Right answer = Chekhov Model's 1 predict = Dostoevsky Model's 2 predict = Dostoevsky\n",
      "конец \n",
      "\n",
      "Sentence 22 - Right answer = Dostoevsky Model's 1 predict = Dostoevsky Model's 2 predict = Dostoevsky\n",
      " теперь он прошел между нами и нарушил весь наш мир на всю жизнь \n",
      "\n",
      "Sentence 23 - Right answer = Dostoevsky Model's 1 predict = Chekhov Model's 2 predict = Dostoevsky\n",
      "у меня здесь сын алексей спасается яотец я об его участи забочусь и должен заботиться \n",
      "\n",
      "Sentence 24 - Right answer = Dostoevsky Model's 1 predict = Tolstoy Model's 2 predict = Chekhov\n",
      "через десять секунд глаза его смотрели холодно и  я убежден что не лгу спокойно \n",
      "\n",
      "Sentence 25 - Right answer = Dostoevsky Model's 1 predict = Chekhov Model's 2 predict = Chekhov\n",
      "свелось на то что кроме сладострастных наслаждений он ничего в жизни и не видит так учит и детей своих \n",
      "\n",
      "Sentence 26 - Right answer = Dostoevsky Model's 1 predict = Dostoevsky Model's 2 predict = Dostoevsky\n",
      "помню что я был \n",
      "\n",
      "Sentence 27 - Right answer = Tolstoy Model's 1 predict = Tolstoy Model's 2 predict = Tolstoy\n",
      "я позову нашего он такой милый  прекрасно очень хорошо  проговорил он когда пришел священник и исповедовал его он смягчился почувствовал как будто облегчение от своих сомнений и вследствие этого от страданий и на него нашла минута надежды \n",
      "\n",
      "Sentence 28 - Right answer = Dostoevsky Model's 1 predict = Dostoevsky Model's 2 predict = Dostoevsky\n",
      "я вам при сем посылаю варенька фунтик конфет так вы их скушайте на здоровье да ради бога обо мне не заботьтесь и не будьте в претензии \n",
      "\n",
      "Sentence 29 - Right answer = Chekhov Model's 1 predict = Chekhov Model's 2 predict = Chekhov\n",
      "нет баба хитрей вашего бабьего рода на этом свете и твари нет \n",
      "\n",
      "Sentence 30 - Right answer = Tolstoy Model's 1 predict = Tolstoy Model's 2 predict = Dostoevsky\n",
      "вот это \n",
      "\n",
      "Sentence 31 - Right answer = Dostoevsky Model's 1 predict = Dostoevsky Model's 2 predict = Dostoevsky\n",
      "собой ладошками как один сложили а сама за ними с пятым ребенком на руках \n",
      "\n",
      "Sentence 32 - Right answer = Dostoevsky Model's 1 predict = Dostoevsky Model's 2 predict = Dostoevsky\n",
      "нет никогда этого не слыхала показала грушенька дальше выяснилось даже что митя напротив часто говорил ей во весь этот месяц что денег у него нет ни копейки \n",
      "\n",
      "Sentence 33 - Right answer = Tolstoy Model's 1 predict = Tolstoy Model's 2 predict = Tolstoy\n",
      " как обыкновенно  отвечал он тотчас же по одному взгляду на нее поняв что она в одном из своих хороших расположений \n",
      "\n",
      "Sentence 34 - Right answer = Dostoevsky Model's 1 predict = Dostoevsky Model's 2 predict = Dostoevsky\n",
      "да и что какая цель в жизни важнее и святее целей родительских \n",
      "\n",
      "Sentence 35 - Right answer = Dostoevsky Model's 1 predict = Chekhov Model's 2 predict = Chekhov\n",
      "кто бы это сделал \n",
      "\n",
      "Sentence 36 - Right answer = Tolstoy Model's 1 predict = Tolstoy Model's 2 predict = Tolstoy\n",
      "правда вырабатываются эти новые подразделения веками но и веков прошли и пройдут мильоны \n",
      "\n",
      "Sentence 37 - Right answer = Dostoevsky Model's 1 predict = Dostoevsky Model's 2 predict = Dostoevsky\n",
      "верит же он иванам филипповичам \n",
      "\n",
      "Sentence 38 - Right answer = Chekhov Model's 1 predict = Dostoevsky Model's 2 predict = Dostoevsky\n",
      " почему же \n",
      "\n",
      "Sentence 39 - Right answer = Chekhov Model's 1 predict = Tolstoy Model's 2 predict = Tolstoy\n",
      "он был одет с большим вкусом \n",
      "\n",
      "Sentence 40 - Right answer = Dostoevsky Model's 1 predict = Dostoevsky Model's 2 predict = Dostoevsky\n",
      " вот здесь нам бутылку сейчас подадут мы и хлебнем \n",
      "\n",
      "Sentence 41 - Right answer = Chekhov Model's 1 predict = Chekhov Model's 2 predict = Chekhov\n",
      "в воздухе уснувшем и окутанном во мглу стояла тишина \n",
      "\n",
      "Sentence 42 - Right answer = Chekhov Model's 1 predict = Tolstoy Model's 2 predict = Chekhov\n",
      " значит могу коли говорю  я приказываю \n",
      "\n",
      "Sentence 43 - Right answer = Dostoevsky Model's 1 predict = Dostoevsky Model's 2 predict = Dostoevsky\n",
      "впрочем может быть оно обратится все к лучшему этот мошенник верно часа два будет таскаться теперь пропадет еще гденибудь \n",
      "\n",
      "Sentence 44 - Right answer = Chekhov Model's 1 predict = Tolstoy Model's 2 predict = Tolstoy\n",
      " больше известно мужички но есть и почище  где ж это ты почище нашел \n",
      "\n",
      "Sentence 45 - Right answer = Dostoevsky Model's 1 predict = Tolstoy Model's 2 predict = Dostoevsky\n",
      "кольца заказаны день назначали только оглашать не хотят до времени ревизора ждут \n",
      "\n",
      "Sentence 46 - Right answer = Dostoevsky Model's 1 predict = Chekhov Model's 2 predict = Chekhov\n",
      "о том что все мы хорошие люди \n",
      "\n",
      "Sentence 47 - Right answer = Tolstoy Model's 1 predict = Tolstoy Model's 2 predict = Tolstoy\n",
      "102  \n",
      "\n",
      "Sentence 48 - Right answer = Chekhov Model's 1 predict = Tolstoy Model's 2 predict = Tolstoy\n",
      "с земли поднимался растрепанный окровавленный семен с сжатыми кулаками с зверским лицом \n",
      "\n",
      "Sentence 49 - Right answer = Tolstoy Model's 1 predict = Tolstoy Model's 2 predict = Tolstoy\n",
      " вы знаете на маленьком столе под пресспапье ml238e bourienne радостно вскочила ах нет нахмурившись крикнул он \n",
      "\n",
      "Sentence 50 - Right answer = Dostoevsky Model's 1 predict = Dostoevsky Model's 2 predict = Dostoevsky\n",
      "не пускаться бы на старости лет с клочком волос в амуры да в экивоки и еще скажу маточка чуден иногда человек очень чуден \n",
      "\n",
      "Sentence 51 - Right answer = Tolstoy Model's 1 predict = Tolstoy Model's 2 predict = Tolstoy\n",
      "elles sont presque d233band233es \n",
      "\n",
      "Sentence 52 - Right answer = Dostoevsky Model's 1 predict = Chekhov Model's 2 predict = Chekhov\n",
      "очнувшись увидел он что его везут по фонтанке \n",
      "\n",
      "Sentence 53 - Right answer = Dostoevsky Model's 1 predict = Dostoevsky Model's 2 predict = Dostoevsky\n",
      "ведь митькато на ней жениться хочет жениться \n",
      "\n",
      "Sentence 54 - Right answer = Tolstoy Model's 1 predict = Tolstoy Model's 2 predict = Tolstoy\n",
      "очень рад вас видеть  \n",
      "\n",
      "Sentence 55 - Right answer = Dostoevsky Model's 1 predict = Dostoevsky Model's 2 predict = Dostoevsky\n",
      "прошептал ордынов дрогнув всем телом \n",
      "\n",
      "Sentence 56 - Right answer = Chekhov Model's 1 predict = Chekhov Model's 2 predict = Chekhov\n",
      "андрей ефимыч медленно и тихо ни на кого не глядя стал говорить о том как жаль как глубоко жаль что горожане тратят свою жизненную энергию свое сердце и ум на карты и сплетни а не умеют и не хотят проводить время в интересной беседе и в чтении не хотят пользоваться наслаждениями какие дает ум \n",
      "\n",
      "Sentence 57 - Right answer = Tolstoy Model's 1 predict = Tolstoy Model's 2 predict = Tolstoy\n",
      "да вы самое веселое общество петербурга  сказала анна  \n",
      "\n",
      "Sentence 58 - Right answer = Chekhov Model's 1 predict = Chekhov Model's 2 predict = Chekhov\n",
      "он лежит а возле бродит афанасий мрачный нахмуренный и вздыхает глубоко а от него водкой как из кабака через месяц беликов умер \n",
      "\n",
      "Sentence 59 - Right answer = Tolstoy Model's 1 predict = Tolstoy Model's 2 predict = Tolstoy\n",
      "он прехладнокровно делал наблюдения над ошибками передового ямщика как будто ему до этого ни малейшего дела не было \n",
      "\n",
      "Sentence 60 - Right answer = Dostoevsky Model's 1 predict = Dostoevsky Model's 2 predict = Dostoevsky\n",
      "за барона бьоринга  это верно \n",
      "\n",
      "Sentence 61 - Right answer = Dostoevsky Model's 1 predict = Chekhov Model's 2 predict = Dostoevsky\n",
      "тут сочинитель даже поучать может ну там о любви к отечеству упомянуть или так вообще про добродетели да \n",
      "\n",
      "Sentence 62 - Right answer = Chekhov Model's 1 predict = Chekhov Model's 2 predict = Chekhov\n",
      "только напрасно вы лесу не даете жалеть будете мне наплевать а вы пожалеете степан на конюшне \n",
      "\n",
      "Sentence 63 - Right answer = Chekhov Model's 1 predict = Chekhov Model's 2 predict = Chekhov\n",
      "послышался шум экипажа \n",
      "\n",
      "Sentence 64 - Right answer = Tolstoy Model's 1 predict = Chekhov Model's 2 predict = Dostoevsky\n",
      "слезы у него были на глазах и в горле когда в дверь вошел лаврушка с какимито бумагами дурак \n",
      "\n",
      "Sentence 65 - Right answer = Dostoevsky Model's 1 predict = Dostoevsky Model's 2 predict = Dostoevsky\n",
      "недоверие и даже пожалуй негодование \n",
      "\n",
      "Sentence 66 - Right answer = Chekhov Model's 1 predict = Tolstoy Model's 2 predict = Tolstoy\n",
      "пульс их бьет 190 в минуту температура горячечная \n",
      "\n",
      "Sentence 67 - Right answer = Tolstoy Model's 1 predict = Chekhov Model's 2 predict = Chekhov\n",
      "некоторые строили домики из калмыжек пашни или плели плетеночки из соломы жнивья \n",
      "\n",
      "Sentence 68 - Right answer = Chekhov Model's 1 predict = Tolstoy Model's 2 predict = Chekhov\n",
      "мы спасены  ваш билет \n",
      "\n",
      "Sentence 69 - Right answer = Tolstoy Model's 1 predict = Dostoevsky Model's 2 predict = Dostoevsky\n",
      "тут только я понял что поправить нельзя и тотчас же решил что и не нужно что я этого самого и хочу и это самое и должен был сделать \n",
      "\n",
      "Sentence 70 - Right answer = Tolstoy Model's 1 predict = Tolstoy Model's 2 predict = Tolstoy\n",
      "это был один из редких домов оставшихся еще \n",
      "\n",
      "Sentence 71 - Right answer = Chekhov Model's 1 predict = Chekhov Model's 2 predict = Chekhov\n",
      "негодяи \n",
      "\n",
      "Sentence 72 - Right answer = Dostoevsky Model's 1 predict = Dostoevsky Model's 2 predict = Dostoevsky\n",
      "живи живи будь обесчещен опозорен умален избит и когда засыплют песком твою могилу тогда только опомнятся люди и бедные кости твои раздавят монументом \n",
      "\n",
      "Sentence 73 - Right answer = Chekhov Model's 1 predict = Chekhov Model's 2 predict = Chekhov\n",
      "вершинину \n",
      "\n",
      "Sentence 74 - Right answer = Tolstoy Model's 1 predict = Tolstoy Model's 2 predict = Chekhov\n",
      "вместо усталости рассеянья равнодушия ко всему на свете которые я испытывал за минуту перед этим я вдруг почувствовал потребность любви полноту надежды и беспричинную радость жизни \n",
      "\n",
      "Sentence 75 - Right answer = Tolstoy Model's 1 predict = Tolstoy Model's 2 predict = Tolstoy\n",
      "xx  \n",
      "\n",
      "Sentence 76 - Right answer = Tolstoy Model's 1 predict = Tolstoy Model's 2 predict = Tolstoy\n",
      "во вчерашнем маскараде она подошла к нему и он уже не отпустил ее \n",
      "\n",
      "Sentence 77 - Right answer = Dostoevsky Model's 1 predict = Dostoevsky Model's 2 predict = Dostoevsky\n",
      " спросил я ведь я ей вовсе не родня я только генералова падчерица \n",
      "\n",
      "Sentence 78 - Right answer = Chekhov Model's 1 predict = Dostoevsky Model's 2 predict = Dostoevsky\n",
      "когда он стал объясняться мне в любви и даже представьте взял меня за талию я не узнала его \n",
      "\n",
      "Sentence 79 - Right answer = Dostoevsky Model's 1 predict = Tolstoy Model's 2 predict = Tolstoy\n",
      "я ведь русская натура неподдельная русская натура патриот люблю распахнуться да и к тому же надо ловить минуту и насладиться жизнью \n",
      "\n",
      "Sentence 80 - Right answer = Tolstoy Model's 1 predict = Tolstoy Model's 2 predict = Tolstoy\n",
      "виноградари вообразили себе что сад в который они были посланы для работы на хозяина был их собственностью что все что было в саду сделано для них и что их дело только в том чтобы наслаждаться в этом саду своею жизнью забыв о хозяине и убивая тех которые напоминали им о хозяине и об их обязанностях к нему то же самое делаем мы думал нехлюдов живя в нелепой уверенности что мы сами хозяева своей жизни 457 что она дана нам для нашего наслажденья \n",
      "\n",
      "Sentence 81 - Right answer = Chekhov Model's 1 predict = Chekhov Model's 2 predict = Chekhov\n",
      "меня сережа в петербурге пьяного женили \n",
      "\n",
      "Sentence 82 - Right answer = Dostoevsky Model's 1 predict = Chekhov Model's 2 predict = Dostoevsky\n",
      "чтото здесь как будто коты шепчутся \n",
      "\n",
      "Sentence 83 - Right answer = Dostoevsky Model's 1 predict = Dostoevsky Model's 2 predict = Dostoevsky\n",
      "одобряю \n",
      "\n",
      "Sentence 84 - Right answer = Chekhov Model's 1 predict = Chekhov Model's 2 predict = Chekhov\n",
      " что с тобой \n",
      "\n",
      "Sentence 85 - Right answer = Dostoevsky Model's 1 predict = Chekhov Model's 2 predict = Dostoevsky\n",
      "алеша взял подушку и лег на диване не раздеваясь \n",
      "\n",
      "Sentence 86 - Right answer = Chekhov Model's 1 predict = Tolstoy Model's 2 predict = Tolstoy\n",
      "к неудавшейся любви к неудавшейся попытке насолить вам прибавилось еще неудавшееся самоубийство большее несчастье и вообразить себе трудно \n",
      "\n",
      "Sentence 87 - Right answer = Tolstoy Model's 1 predict = Tolstoy Model's 2 predict = Tolstoy\n",
      "la moitié des régiments forme des troupes libres qui parcourent la contrée en mettant tout à feu et à sang \n",
      "\n",
      "Sentence 88 - Right answer = Dostoevsky Model's 1 predict = Chekhov Model's 2 predict = Chekhov\n",
      "он поднял глаза и какоето невыразимое любопытство овладело им при взгляде на двух пришельцев \n",
      "\n",
      "Sentence 89 - Right answer = Dostoevsky Model's 1 predict = Dostoevsky Model's 2 predict = Dostoevsky\n",
      "помилуйте что он самто делает \n",
      "\n",
      "Sentence 90 - Right answer = Chekhov Model's 1 predict = Chekhov Model's 2 predict = Chekhov\n",
      "в чемодане чтото очень тяжелое  очевидно золото гаа \n",
      "\n",
      "Sentence 91 - Right answer = Chekhov Model's 1 predict = Chekhov Model's 2 predict = Chekhov\n",
      "аксинья торговала в лавке и слышно было во дворе как звенели бутылки и деньги как она смеялась или кричала и как сердились покупатели которых она обижала и в то же время было заметно что там в лавке тайная торговля водкой уже идет \n",
      "\n",
      "Sentence 92 - Right answer = Chekhov Model's 1 predict = Chekhov Model's 2 predict = Chekhov\n",
      " там у меня гдето роман валяется в гимназии еще писал авось службу сослужит \n",
      "\n",
      "Sentence 93 - Right answer = Dostoevsky Model's 1 predict = Dostoevsky Model's 2 predict = Dostoevsky\n",
      "не бойтесь дядюшка я буду с вами \n",
      "\n",
      "Sentence 94 - Right answer = Tolstoy Model's 1 predict = Chekhov Model's 2 predict = Chekhov\n",
      " да что у тебя болитто дядя \n",
      "\n",
      "Sentence 95 - Right answer = Chekhov Model's 1 predict = Chekhov Model's 2 predict = Chekhov\n",
      "липа запела тихо но немного погодя забылась и опять \n",
      "\n",
      "Sentence 96 - Right answer = Dostoevsky Model's 1 predict = Chekhov Model's 2 predict = Dostoevsky\n",
      "начал он с самого того момента когда подсудимый отправился к молодой особе чтоб избить ее выражаясь его собственными словами пояснил ипполит кириллович но вместо того чтоб избить остался у ног ее  вот начало этой любви \n",
      "\n",
      "Sentence 97 - Right answer = Chekhov Model's 1 predict = Chekhov Model's 2 predict = Chekhov\n",
      "а котик играет на рояле каждый день часа по четыре \n",
      "\n",
      "Sentence 98 - Right answer = Chekhov Model's 1 predict = Chekhov Model's 2 predict = Dostoevsky\n",
      " остановил я его медицинскую болтовню \n",
      "\n",
      "Sentence 99 - Right answer = Tolstoy Model's 1 predict = Tolstoy Model's 2 predict = Dostoevsky\n",
      "ростову тотчас же представилось чтото романическое в этой встрече \n",
      "\n"
     ]
    }
   ],
   "source": [
    "for i in range(100):\n",
    "    print('Sentence', i, '- Right answer =', author_test[i],  'Model\\'s 1 predict =', author_pred1[i], \n",
    "         'Model\\'s 2 predict =', author_pred2[i])\n",
    "    print(text_test[i], '\\n')"
   ]
  },
  {
   "cell_type": "code",
   "execution_count": 79,
   "metadata": {
    "execution": {
     "iopub.execute_input": "2021-02-06T11:59:30.415717Z",
     "iopub.status.busy": "2021-02-06T11:59:30.414640Z",
     "iopub.status.idle": "2021-02-06T11:59:30.416981Z",
     "shell.execute_reply": "2021-02-06T11:59:30.417568Z"
    },
    "papermill": {
     "duration": 12.859929,
     "end_time": "2021-02-06T11:59:30.417747",
     "exception": false,
     "start_time": "2021-02-06T11:59:17.557818",
     "status": "completed"
    },
    "tags": []
   },
   "outputs": [],
   "source": [
    "def calculate_averages(true, pred, text):\n",
    "    \n",
    "    correct_len_chars = []\n",
    "    incorrect_len_chars = []\n",
    "    correct_len_words = []\n",
    "    incorrect_len_words = []\n",
    "\n",
    "    \n",
    "    for i in range(len(true)):\n",
    "        if true[i] == pred[i]:\n",
    "            correct_len_chars.append(len(text[i]))\n",
    "            correct_len_words.append(len(text[i].split()))\n",
    "        else:\n",
    "            incorrect_len_chars.append(len(text[i]))\n",
    "            incorrect_len_words.append(len(text[i].split()))\n",
    "    \n",
    "    correct_ave_chars = np.mean(correct_len_chars)\n",
    "    correct_ave_words = np.mean(correct_len_words)\n",
    "    incorrect_ave_chars = np.mean(incorrect_len_chars)\n",
    "    incorrect_ave_words = np.mean(incorrect_len_words)\n",
    "    \n",
    "    print('t-test for characters')\n",
    "    print(stats.ttest_ind(correct_len_chars, incorrect_len_chars, equal_var = False))\n",
    "    \n",
    "    print('\\nt-test for words')\n",
    "    print(stats.ttest_ind(correct_len_words, incorrect_len_words, equal_var = False))\n",
    "    \n",
    "    return correct_ave_chars, correct_ave_words, incorrect_ave_chars, incorrect_ave_words"
   ]
  },
  {
   "cell_type": "code",
   "execution_count": 80,
   "metadata": {
    "execution": {
     "iopub.execute_input": "2021-02-06T11:59:56.736135Z",
     "iopub.status.busy": "2021-02-06T11:59:56.731119Z",
     "iopub.status.idle": "2021-02-06T11:59:56.770861Z",
     "shell.execute_reply": "2021-02-06T11:59:56.771448Z"
    },
    "papermill": {
     "duration": 13.10129,
     "end_time": "2021-02-06T11:59:56.771643",
     "exception": false,
     "start_time": "2021-02-06T11:59:43.670353",
     "status": "completed"
    },
    "tags": []
   },
   "outputs": [
    {
     "name": "stdout",
     "output_type": "stream",
     "text": [
      "t-test for characters\n",
      "Ttest_indResult(statistic=13.100791149616805, pvalue=6.154725368934383e-39)\n",
      "\n",
      "t-test for words\n",
      "Ttest_indResult(statistic=12.716836553257187, pvalue=8.39541625242608e-37)\n"
     ]
    }
   ],
   "source": [
    "correct_ave_chars1, correct_ave_words1, incorrect_ave_chars1, incorrect_ave_words1\\\n",
    "= calculate_averages(author_test, author_pred1, text_test)"
   ]
  },
  {
   "cell_type": "code",
   "execution_count": 81,
   "metadata": {
    "execution": {
     "iopub.execute_input": "2021-02-06T12:00:22.716769Z",
     "iopub.status.busy": "2021-02-06T12:00:22.700720Z",
     "iopub.status.idle": "2021-02-06T12:00:22.725234Z",
     "shell.execute_reply": "2021-02-06T12:00:22.725790Z"
    },
    "papermill": {
     "duration": 13.176226,
     "end_time": "2021-02-06T12:00:22.725976",
     "exception": false,
     "start_time": "2021-02-06T12:00:09.549750",
     "status": "completed"
    },
    "tags": []
   },
   "outputs": [
    {
     "name": "stdout",
     "output_type": "stream",
     "text": [
      "t-test for characters\n",
      "Ttest_indResult(statistic=14.774104146059196, pvalue=5.970280702831298e-49)\n",
      "\n",
      "t-test for words\n",
      "Ttest_indResult(statistic=14.375577701430858, pvalue=1.843813497336129e-46)\n"
     ]
    }
   ],
   "source": [
    "correct_ave_chars2, correct_ave_words2, incorrect_ave_chars2, incorrect_ave_words2\\\n",
    "= calculate_averages(author_test, author_pred2, text_test)"
   ]
  },
  {
   "cell_type": "code",
   "execution_count": 82,
   "metadata": {
    "execution": {
     "iopub.execute_input": "2021-02-06T12:00:48.653976Z",
     "iopub.status.busy": "2021-02-06T12:00:48.652403Z",
     "iopub.status.idle": "2021-02-06T12:00:48.658961Z",
     "shell.execute_reply": "2021-02-06T12:00:48.659475Z"
    },
    "papermill": {
     "duration": 13.150591,
     "end_time": "2021-02-06T12:00:48.659675",
     "exception": false,
     "start_time": "2021-02-06T12:00:35.509084",
     "status": "completed"
    },
    "tags": []
   },
   "outputs": [
    {
     "name": "stdout",
     "output_type": "stream",
     "text": [
      "Model 1 - Average length correct predicted sentences by characters = 93.35714285714286 , incorrect = 72.11407160699417\n",
      "Model 2 - Average length correct predicted sentences by characters = 94.01892701525054 , incorrect = 70.39497422680412\n",
      "\n",
      "Model 1 - Average length correct predicted sentences by words = 15.606170094496942 , incorrect = 12.25\n",
      "Model 2 - Average length correct predicted sentences by words = 15.71541394335512 , incorrect = 11.971005154639176\n"
     ]
    }
   ],
   "source": [
    "print('Model 1 - Average length correct predicted sentences by characters =', correct_ave_chars1, \n",
    "        ', incorrect =', incorrect_ave_chars1)\n",
    "print('Model 2 - Average length correct predicted sentences by characters =', correct_ave_chars2, \n",
    "      ', incorrect =', incorrect_ave_chars2)\n",
    "\n",
    "print('\\nModel 1 - Average length correct predicted sentences by words =', correct_ave_words1, \n",
    "        ', incorrect =', incorrect_ave_words1)\n",
    "print('Model 2 - Average length correct predicted sentences by words =', correct_ave_words2, \n",
    "      ', incorrect =', incorrect_ave_words2)"
   ]
  }
 ],
 "metadata": {
  "kernelspec": {
   "display_name": "Python 3",
   "language": "python",
   "name": "python3"
  },
  "language_info": {
   "codemirror_mode": {
    "name": "ipython",
    "version": 3
   },
   "file_extension": ".py",
   "mimetype": "text/x-python",
   "name": "python",
   "nbconvert_exporter": "python",
   "pygments_lexer": "ipython3",
   "version": "3.7.9"
  },
  "papermill": {
   "default_parameters": {},
   "duration": 20946.203763,
   "end_time": "2021-02-06T12:01:06.034361",
   "environment_variables": {},
   "exception": null,
   "input_path": "__notebook__.ipynb",
   "output_path": "__notebook__.ipynb",
   "parameters": {},
   "start_time": "2021-02-06T06:11:59.830598",
   "version": "2.2.2"
  }
 },
 "nbformat": 4,
 "nbformat_minor": 4
}
